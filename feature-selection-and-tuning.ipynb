{
 "cells": [
  {
   "cell_type": "code",
   "execution_count": 1,
   "id": "83765965",
   "metadata": {
    "execution": {
     "iopub.execute_input": "2023-04-12T20:26:19.658971Z",
     "iopub.status.busy": "2023-04-12T20:26:19.658447Z",
     "iopub.status.idle": "2023-04-12T20:26:32.543221Z",
     "shell.execute_reply": "2023-04-12T20:26:32.541992Z"
    },
    "papermill": {
     "duration": 12.902249,
     "end_time": "2023-04-12T20:26:32.546278",
     "exception": false,
     "start_time": "2023-04-12T20:26:19.644029",
     "status": "completed"
    },
    "tags": []
   },
   "outputs": [
    {
     "data": {
      "text/html": [
       "<style type='text/css'>\n",
       ".datatable table.frame { margin-bottom: 0; }\n",
       ".datatable table.frame thead { border-bottom: none; }\n",
       ".datatable table.frame tr.coltypes td {  color: #FFFFFF;  line-height: 6px;  padding: 0 0.5em;}\n",
       ".datatable .bool    { background: #DDDD99; }\n",
       ".datatable .object  { background: #565656; }\n",
       ".datatable .int     { background: #5D9E5D; }\n",
       ".datatable .float   { background: #4040CC; }\n",
       ".datatable .str     { background: #CC4040; }\n",
       ".datatable .time    { background: #40CC40; }\n",
       ".datatable .row_index {  background: var(--jp-border-color3);  border-right: 1px solid var(--jp-border-color0);  color: var(--jp-ui-font-color3);  font-size: 9px;}\n",
       ".datatable .frame tbody td { text-align: left; }\n",
       ".datatable .frame tr.coltypes .row_index {  background: var(--jp-border-color0);}\n",
       ".datatable th:nth-child(2) { padding-left: 12px; }\n",
       ".datatable .hellipsis {  color: var(--jp-cell-editor-border-color);}\n",
       ".datatable .vellipsis {  background: var(--jp-layout-color0);  color: var(--jp-cell-editor-border-color);}\n",
       ".datatable .na {  color: var(--jp-cell-editor-border-color);  font-size: 80%;}\n",
       ".datatable .sp {  opacity: 0.25;}\n",
       ".datatable .footer { font-size: 9px; }\n",
       ".datatable .frame_dimensions {  background: var(--jp-border-color3);  border-top: 1px solid var(--jp-border-color0);  color: var(--jp-ui-font-color3);  display: inline-block;  opacity: 0.6;  padding: 1px 10px 1px 5px;}\n",
       "</style>\n"
      ],
      "text/plain": [
       "<IPython.core.display.HTML object>"
      ]
     },
     "metadata": {},
     "output_type": "display_data"
    }
   ],
   "source": [
    "import pandas as pd\n",
    "import numpy as np\n",
    "\n",
    "import seaborn as sns\n",
    "import matplotlib.pyplot as plt\n",
    "\n",
    "\n",
    "from sklearn.model_selection import cross_val_score, RepeatedStratifiedKFold, train_test_split, StratifiedKFold\n",
    "from lightgbm import LGBMClassifier\n",
    "from sklearn.metrics import RocCurveDisplay, auc\n",
    "from sklearn.decomposition import PCA\n",
    "from sklearn.metrics import roc_auc_score\n",
    "\n",
    "\n",
    "from sklearn.pipeline import Pipeline\n",
    "from copy import deepcopy\n",
    "\n",
    "\n",
    "from sklearn.linear_model import LogisticRegression\n",
    "from sklearn.svm import SVC\n",
    "from sklearn.neighbors import KNeighborsClassifier\n",
    "from sklearn.ensemble import RandomForestClassifier, AdaBoostClassifier, GradientBoostingClassifier\n",
    "from xgboost import XGBClassifier\n",
    "from lightgbm import LGBMClassifier\n",
    "from catboost import CatBoostClassifier\n",
    "from eli5.sklearn import PermutationImportance\n",
    "import eli5\n",
    "from sklearn.inspection import PartialDependenceDisplay\n",
    "from sklearn.preprocessing import StandardScaler\n",
    "\n",
    "from path import Path\n",
    "import warnings \n",
    "warnings.filterwarnings('ignore') # supress warnings\n"
   ]
  },
  {
   "cell_type": "code",
   "execution_count": 2,
   "id": "8f979950",
   "metadata": {
    "execution": {
     "iopub.execute_input": "2023-04-12T20:26:32.563150Z",
     "iopub.status.busy": "2023-04-12T20:26:32.561779Z",
     "iopub.status.idle": "2023-04-12T20:26:32.637688Z",
     "shell.execute_reply": "2023-04-12T20:26:32.636321Z"
    },
    "papermill": {
     "duration": 0.086793,
     "end_time": "2023-04-12T20:26:32.640189",
     "exception": false,
     "start_time": "2023-04-12T20:26:32.553396",
     "status": "completed"
    },
    "tags": []
   },
   "outputs": [
    {
     "data": {
      "text/html": [
       "<div>\n",
       "<style scoped>\n",
       "    .dataframe tbody tr th:only-of-type {\n",
       "        vertical-align: middle;\n",
       "    }\n",
       "\n",
       "    .dataframe tbody tr th {\n",
       "        vertical-align: top;\n",
       "    }\n",
       "\n",
       "    .dataframe thead th {\n",
       "        text-align: right;\n",
       "    }\n",
       "</style>\n",
       "<table border=\"1\" class=\"dataframe\">\n",
       "  <thead>\n",
       "    <tr style=\"text-align: right;\">\n",
       "      <th></th>\n",
       "      <th>id</th>\n",
       "      <th>gravity</th>\n",
       "      <th>ph</th>\n",
       "      <th>osmo</th>\n",
       "      <th>cond</th>\n",
       "      <th>urea</th>\n",
       "      <th>calc</th>\n",
       "      <th>target</th>\n",
       "    </tr>\n",
       "  </thead>\n",
       "  <tbody>\n",
       "    <tr>\n",
       "      <th>0</th>\n",
       "      <td>0</td>\n",
       "      <td>1.013</td>\n",
       "      <td>6.19</td>\n",
       "      <td>443</td>\n",
       "      <td>14.8</td>\n",
       "      <td>124</td>\n",
       "      <td>1.45</td>\n",
       "      <td>0</td>\n",
       "    </tr>\n",
       "    <tr>\n",
       "      <th>1</th>\n",
       "      <td>1</td>\n",
       "      <td>1.025</td>\n",
       "      <td>5.40</td>\n",
       "      <td>703</td>\n",
       "      <td>23.6</td>\n",
       "      <td>394</td>\n",
       "      <td>4.18</td>\n",
       "      <td>0</td>\n",
       "    </tr>\n",
       "    <tr>\n",
       "      <th>2</th>\n",
       "      <td>2</td>\n",
       "      <td>1.009</td>\n",
       "      <td>6.13</td>\n",
       "      <td>371</td>\n",
       "      <td>24.5</td>\n",
       "      <td>159</td>\n",
       "      <td>9.04</td>\n",
       "      <td>0</td>\n",
       "    </tr>\n",
       "    <tr>\n",
       "      <th>3</th>\n",
       "      <td>3</td>\n",
       "      <td>1.021</td>\n",
       "      <td>4.91</td>\n",
       "      <td>442</td>\n",
       "      <td>20.8</td>\n",
       "      <td>398</td>\n",
       "      <td>6.63</td>\n",
       "      <td>1</td>\n",
       "    </tr>\n",
       "    <tr>\n",
       "      <th>4</th>\n",
       "      <td>4</td>\n",
       "      <td>1.021</td>\n",
       "      <td>5.53</td>\n",
       "      <td>874</td>\n",
       "      <td>17.8</td>\n",
       "      <td>385</td>\n",
       "      <td>2.21</td>\n",
       "      <td>1</td>\n",
       "    </tr>\n",
       "  </tbody>\n",
       "</table>\n",
       "</div>"
      ],
      "text/plain": [
       "   id  gravity    ph  osmo  cond  urea  calc  target\n",
       "0   0    1.013  6.19   443  14.8   124  1.45       0\n",
       "1   1    1.025  5.40   703  23.6   394  4.18       0\n",
       "2   2    1.009  6.13   371  24.5   159  9.04       0\n",
       "3   3    1.021  4.91   442  20.8   398  6.63       1\n",
       "4   4    1.021  5.53   874  17.8   385  2.21       1"
      ]
     },
     "execution_count": 2,
     "metadata": {},
     "output_type": "execute_result"
    }
   ],
   "source": [
    "# loading datasets\n",
    "path = Path(\"/kaggle/input/playground-series-s3e12\")\n",
    "\n",
    "train = pd.read_csv(path / \"train.csv\")\n",
    "test = pd.read_csv(path / \"test.csv\")\n",
    "sub = pd.read_csv(path / \"sample_submission.csv\")\n",
    "original = pd.read_csv(\"/kaggle/input/kidney-stone-prediction-based-on-urine-analysis/kindey stone urine analysis.csv\")\n",
    "original = original[train.drop('id', axis=1).columns.tolist()]\n",
    "\n",
    "original = original.drop([5, 32]).reindex()\n",
    "\n",
    "\n",
    "train.head()"
   ]
  },
  {
   "cell_type": "code",
   "execution_count": 3,
   "id": "aa5d7c08",
   "metadata": {
    "_cell_guid": "b1076dfc-b9ad-4769-8c92-a6c4dae69d19",
    "_uuid": "8f2839f25d086af736a60e9eeb907d3b93b6e0e5",
    "execution": {
     "iopub.execute_input": "2023-04-12T20:26:32.656346Z",
     "iopub.status.busy": "2023-04-12T20:26:32.655933Z",
     "iopub.status.idle": "2023-04-12T20:26:32.686543Z",
     "shell.execute_reply": "2023-04-12T20:26:32.685081Z"
    },
    "jupyter": {
     "source_hidden": true
    },
    "papermill": {
     "duration": 0.04221,
     "end_time": "2023-04-12T20:26:32.689404",
     "exception": false,
     "start_time": "2023-04-12T20:26:32.647194",
     "status": "completed"
    },
    "tags": []
   },
   "outputs": [],
   "source": [
    "#  plot correaltion        \n",
    "def plot_corr(df, features, target, sort=False, method='pearson', figsize=(13, 8), use_mask=True, mask_type=\"triu\", **kwargs):\n",
    "    \"\"\"Plot correlation given dataset and features names\"\"\"\n",
    "    plt.figure(figsize=figsize) # sets figure size\n",
    "    corr = df[features].corr(method=method) # calculates correlation based on the features and method provied\n",
    "    target_values = corr[target]\n",
    "    features.remove(target)\n",
    "    corr = corr[features]\n",
    "    \n",
    "    corr = pd.concat([corr, target_values], axis=1)\n",
    "    \n",
    "    if sort: # if sort is true then sort the correlation matrix\n",
    "        corr = corr.sort_values(by=target)\n",
    "    if use_mask: # if uses_mask = True\n",
    "        if mask_type == 'triu': # sets mask type to lower trigonal\n",
    "            mask = np.triu(np.ones(corr.shape)) \n",
    "        else:   # sets mask type to upper trigonal\n",
    "            mask = np.tril(np.ones(corr.shape))\n",
    "        sns.heatmap(corr, annot=True, mask=mask, **kwargs)\n",
    "        \n",
    "    else: # if uses mask is not true\n",
    "         sns.heatmap(corr, annot=True, **kwargs)       \n",
    "\n",
    "    plt.title('Correlation between features')\n",
    "\n",
    "    \n",
    "    \n",
    "def submission_csv(_model, _train, _test):\n",
    "    X_train = _train.drop(['id', 'target'], axis=1)\n",
    "    y_train = _train['target']\n",
    "    X_test = _test.drop('id', axis=1)\n",
    "    \n",
    "    _model.fit(X_train, y_train)\n",
    "    \n",
    "    preds = _model.predict_proba(X_test)[:, 1]\n",
    "    \n",
    "    df = pd.DataFrame()\n",
    "    df['id'] = _test['id']\n",
    "    df['target'] = preds\n",
    "    \n",
    "    return \n",
    "\n",
    "\n",
    "\n",
    "def plot_importance(models, X_test, title=\"\"):\n",
    "#     taken from https://www.kaggle.com/code/shoabahamed/ps3e9-eda-and-gbdt-catboost-median-duplicatedata/edit\n",
    "    \"\"\"Plots features importance given models and train set\"\"\"\n",
    "    features = X_test.columns.tolist()\n",
    "    feature_importance = pd.DataFrame()\n",
    "    for model in models:\n",
    "        _df = pd.DataFrame()\n",
    "        _df['importance'] = model.feature_importances_\n",
    "        _df[\"features\"] = pd.Series(features)\n",
    "        _df = _df.sort_values(by='importance', ascending=False)\n",
    "        feature_importance = pd.concat([feature_importance, _df])\n",
    "        \n",
    "                \n",
    "    feature_importance = feature_importance.sort_values('importance', ascending=False)\n",
    "    plt.figure(figsize=(16, 10))\n",
    "    ax = sns.barplot(x='importance', y='features', data=feature_importance, color='skyblue', errorbar='sd')\n",
    "    \n",
    "    for i in ax.containers:\n",
    "        ax.bar_label(i,)\n",
    "    \n",
    "   \n",
    "    plt.xlabel('Importance', fontsize=14)\n",
    "    plt.ylabel('Feature', fontsize=14)\n",
    "    plt.title(f\"{title} Feature Importances\", fontsize=18)\n",
    "    plt.grid(True, axis='x')\n",
    "    plt.show()\n",
    "    \n",
    "    return feature_importance\n",
    "\n",
    "\n",
    "class Splitter:\n",
    "    \"\"\"A splitter class which splits the X, y using the split_data function with a random state provided. It yeilds \\\n",
    "    X_train, X_val, y_train, y_val, train_idx, val_idx in the end.\\\n",
    "    code from  https://www.kaggle.com/code/tetsutani/ps3e9-eda-and-gbdt-catboost-median-duplicatedata wit little bit of modification \"\"\"\n",
    "\n",
    "    def __init__(self, test_size=0.2, kfold=True, n_splits=5, use_loocv=False):\n",
    "        self.test_size = test_size # set test size\n",
    "        self.kfold = kfold  # wheter to just split the data in two or use kfold\n",
    "        self.n_splits= n_splits \n",
    "        self.use_loocv = use_loocv\n",
    "        \n",
    "    def split_data(self, X, y, random_state):\n",
    "        if self.kfold:\n",
    "            if self.use_loocv:\n",
    "                kf = LeaveOneOut()\n",
    "            else:\n",
    "                kf = StratifiedKFold(n_splits=self.n_splits, random_state=random_state, shuffle=True)\n",
    "            for train_idx, val_idx in kf.split(X, y):\n",
    "                X_train, X_val = X.iloc[train_idx], X.iloc[val_idx]\n",
    "                y_train, y_val = y.iloc[train_idx], y.iloc[val_idx]\n",
    "                yield X_train, X_val, y_train, y_val, train_idx, val_idx\n",
    "        else:\n",
    "            X_train, X_val, y_train, y_val = train_test_split(X, y, test_size=self.test_size, random_state=random_state)\n",
    "            yield X_train, X_val, y_train, y_val\n",
    "\n",
    "\n",
    "\n",
    "\n",
    "\n",
    "def evaluate_model(model_name, model_pipeline, _X, _y, features, original_data=None, use_original=False, n_splits=5, random_state_list=[0, 5, 10], use_loocv=False):\n",
    "    len_y = len(_y)\n",
    "    len_states = len(random_state_list)\n",
    "\n",
    "    oof_preds = np.zeros(len_y * len_states).reshape(len_states, len_y)\n",
    "    scores_train = []\n",
    "    model_pipelines = []\n",
    "\n",
    "    for index, random_state in enumerate(random_state_list):\n",
    "        print(\"#\"*25)\n",
    "        print(\"#\"*15, f\"traininng model {model_name} with seed {random_state}\")\n",
    "        print(\"#\"*25)\n",
    "        splitter = Splitter(n_splits=n_splits, use_loocv=use_loocv)\n",
    "        splits = 0\n",
    "        for X_train, X_val, y_train, y_val, train_idx, val_idx in splitter.split_data(_X, _y, random_state):\n",
    "            if use_original: # we will only use original data for training not testing\n",
    "                target = 'target'\n",
    "                X_train = pd.concat([X_train, original_data.drop(target, axis=1)]) \n",
    "                y_train = pd.concat([y_train, original_data[target]])  \n",
    "\n",
    "            model_pipeline.fit(X_train, y_train)\n",
    "            oof_preds[index, val_idx] = model_pipeline.predict_proba(X_val)[:, 1].squeeze()\n",
    "            \n",
    "            score_train = roc_auc_score(y_train, model_pipeline.predict_proba(X_train)[:, 1])\n",
    "            scores_train.append(score_train)\n",
    "            model_pipelines.append(deepcopy(model_pipeline))\n",
    "\n",
    "            \n",
    "    oof_preds_mean = oof_preds.mean(axis=0)\n",
    "\n",
    "    return model_pipelines, oof_preds_mean, np.mean(scores_train), roc_auc_score(_y, oof_preds.mean(axis=0))\n",
    "\n",
    "\n",
    "def predict_test(model_pipeline, X_test):\n",
    "    test_preds = model_pipeline.predict_proba(X_test)[:, 1]\n",
    "    return test_preds\n"
   ]
  },
  {
   "cell_type": "markdown",
   "id": "527af9c5",
   "metadata": {
    "papermill": {
     "duration": 0.006665,
     "end_time": "2023-04-12T20:26:32.703312",
     "exception": false,
     "start_time": "2023-04-12T20:26:32.696647",
     "status": "completed"
    },
    "tags": []
   },
   "source": [
    "# SVC\n",
    "\n",
    "have the mindset that only some features would be better for particular models. Here we will only try to find the best features for SVC"
   ]
  },
  {
   "cell_type": "markdown",
   "id": "401b3c91",
   "metadata": {
    "papermill": {
     "duration": 0.006747,
     "end_time": "2023-04-12T20:26:32.717168",
     "exception": false,
     "start_time": "2023-04-12T20:26:32.710421",
     "status": "completed"
    },
    "tags": []
   },
   "source": [
    "****Baseline SVC score****"
   ]
  },
  {
   "cell_type": "code",
   "execution_count": 4,
   "id": "f5b21531",
   "metadata": {
    "execution": {
     "iopub.execute_input": "2023-04-12T20:26:32.733152Z",
     "iopub.status.busy": "2023-04-12T20:26:32.732726Z",
     "iopub.status.idle": "2023-04-12T20:26:32.748272Z",
     "shell.execute_reply": "2023-04-12T20:26:32.747353Z"
    },
    "papermill": {
     "duration": 0.026617,
     "end_time": "2023-04-12T20:26:32.750752",
     "exception": false,
     "start_time": "2023-04-12T20:26:32.724135",
     "status": "completed"
    },
    "tags": []
   },
   "outputs": [],
   "source": [
    "from sklearn.pipeline import make_pipeline\n",
    "from sklearn.compose import ColumnTransformer"
   ]
  },
  {
   "cell_type": "code",
   "execution_count": 5,
   "id": "da9efa50",
   "metadata": {
    "execution": {
     "iopub.execute_input": "2023-04-12T20:26:32.767349Z",
     "iopub.status.busy": "2023-04-12T20:26:32.766213Z",
     "iopub.status.idle": "2023-04-12T20:26:37.522686Z",
     "shell.execute_reply": "2023-04-12T20:26:37.521590Z"
    },
    "papermill": {
     "duration": 4.767647,
     "end_time": "2023-04-12T20:26:37.525545",
     "exception": false,
     "start_time": "2023-04-12T20:26:32.757898",
     "status": "completed"
    },
    "tags": []
   },
   "outputs": [
    {
     "name": "stdout",
     "output_type": "stream",
     "text": [
      "#########################\n",
      "############### traininng model pipeline_svc with seed 0\n",
      "#########################\n"
     ]
    }
   ],
   "source": [
    "X = train.drop(['id', 'target'], axis=1)\n",
    "y = train['target']\n",
    "features = X.columns.tolist()\n",
    "n_splits = 100\n",
    "random_states = [0]\n",
    "\n",
    "pipe = Pipeline(steps=[\n",
    "    (\"scale\", StandardScaler()),\n",
    "    (\"model\", SVC(probability=True, random_state=0))\n",
    "])\n",
    "\n",
    "_pipes, _oof_preds, _train_score, _oof_score = evaluate_model(f\"pipeline_svc\", pipe, X, y, features,\n",
    "                                         use_original=False,\n",
    "                                         n_splits=n_splits, random_state_list=random_states, use_loocv=False)"
   ]
  },
  {
   "cell_type": "code",
   "execution_count": 6,
   "id": "152d3fd3",
   "metadata": {
    "execution": {
     "iopub.execute_input": "2023-04-12T20:26:37.543220Z",
     "iopub.status.busy": "2023-04-12T20:26:37.542412Z",
     "iopub.status.idle": "2023-04-12T20:26:37.551066Z",
     "shell.execute_reply": "2023-04-12T20:26:37.549489Z"
    },
    "papermill": {
     "duration": 0.021131,
     "end_time": "2023-04-12T20:26:37.554228",
     "exception": false,
     "start_time": "2023-04-12T20:26:37.533097",
     "status": "completed"
    },
    "tags": []
   },
   "outputs": [
    {
     "data": {
      "text/plain": [
       "0.7821361058601133"
      ]
     },
     "execution_count": 6,
     "metadata": {},
     "output_type": "execute_result"
    }
   ],
   "source": [
    "_oof_score"
   ]
  },
  {
   "cell_type": "markdown",
   "id": "2ff4995a",
   "metadata": {
    "papermill": {
     "duration": 0.007662,
     "end_time": "2023-04-12T20:26:37.570146",
     "exception": false,
     "start_time": "2023-04-12T20:26:37.562484",
     "status": "completed"
    },
    "tags": []
   },
   "source": [
    "This is our baseline score. We will start by adding features as we go"
   ]
  },
  {
   "cell_type": "code",
   "execution_count": 7,
   "id": "3b8f2d41",
   "metadata": {
    "execution": {
     "iopub.execute_input": "2023-04-12T20:26:37.586615Z",
     "iopub.status.busy": "2023-04-12T20:26:37.585940Z",
     "iopub.status.idle": "2023-04-12T20:26:41.416108Z",
     "shell.execute_reply": "2023-04-12T20:26:41.414876Z"
    },
    "papermill": {
     "duration": 3.841895,
     "end_time": "2023-04-12T20:26:41.419153",
     "exception": false,
     "start_time": "2023-04-12T20:26:37.577258",
     "status": "completed"
    },
    "tags": []
   },
   "outputs": [
    {
     "name": "stdout",
     "output_type": "stream",
     "text": [
      "#########################\n",
      "############### traininng model pipeline_svc with seed 0\n",
      "#########################\n"
     ]
    }
   ],
   "source": [
    "# with only calc feature\n",
    "train_temp = train.copy()\n",
    "X_temp = train[['calc']]\n",
    "y_temp = train['target']\n",
    "features_temp = X.columns.tolist()\n",
    "\n",
    "\n",
    "pipe = Pipeline(steps=[\n",
    "    (\"scale\", StandardScaler()),\n",
    "    (\"model\", SVC(probability=True, random_state=0))\n",
    "])\n",
    "\n",
    "_pipes_temp, _oof_preds_temp, _train_score_temp, _oof_score_temp = evaluate_model(f\"pipeline_svc\", pipe, X_temp, y_temp, features_temp,\n",
    "                                         use_original=False,\n",
    "                                         n_splits=n_splits, random_state_list=random_states, use_loocv=False)"
   ]
  },
  {
   "cell_type": "code",
   "execution_count": 8,
   "id": "c945dc20",
   "metadata": {
    "execution": {
     "iopub.execute_input": "2023-04-12T20:26:41.438825Z",
     "iopub.status.busy": "2023-04-12T20:26:41.437755Z",
     "iopub.status.idle": "2023-04-12T20:26:41.445884Z",
     "shell.execute_reply": "2023-04-12T20:26:41.444566Z"
    },
    "papermill": {
     "duration": 0.022219,
     "end_time": "2023-04-12T20:26:41.448918",
     "exception": false,
     "start_time": "2023-04-12T20:26:41.426699",
     "status": "completed"
    },
    "tags": []
   },
   "outputs": [
    {
     "data": {
      "text/plain": [
       "0.7856687145557657"
      ]
     },
     "execution_count": 8,
     "metadata": {},
     "output_type": "execute_result"
    }
   ],
   "source": [
    "# oof score with calc feature only\n",
    "_oof_score_temp"
   ]
  },
  {
   "cell_type": "code",
   "execution_count": 9,
   "id": "65200b57",
   "metadata": {
    "execution": {
     "iopub.execute_input": "2023-04-12T20:26:41.465905Z",
     "iopub.status.busy": "2023-04-12T20:26:41.465172Z",
     "iopub.status.idle": "2023-04-12T20:26:45.582237Z",
     "shell.execute_reply": "2023-04-12T20:26:45.581011Z"
    },
    "papermill": {
     "duration": 4.129237,
     "end_time": "2023-04-12T20:26:45.585596",
     "exception": false,
     "start_time": "2023-04-12T20:26:41.456359",
     "status": "completed"
    },
    "tags": []
   },
   "outputs": [
    {
     "name": "stdout",
     "output_type": "stream",
     "text": [
      "#########################\n",
      "############### traininng model pipeline_svc with seed 0\n",
      "#########################\n"
     ]
    }
   ],
   "source": [
    "# with only calc and gravity feature\n",
    "train_temp = train.copy()\n",
    "X_temp = train[['calc', 'gravity']]\n",
    "y_temp = train['target']\n",
    "features_temp = X.columns.tolist()\n",
    "\n",
    "\n",
    "pipe = Pipeline(steps=[\n",
    "    (\"scale\", StandardScaler()),\n",
    "    (\"model\", SVC(probability=True, random_state=0))\n",
    "])\n",
    "\n",
    "_pipes_temp, _oof_preds_temp, _train_score_temp, _oof_score_temp = evaluate_model(f\"pipeline_svc\", pipe, X_temp, y_temp, features_temp,\n",
    "                                         use_original=False,\n",
    "                                         n_splits=n_splits, random_state_list=random_states, use_loocv=False)"
   ]
  },
  {
   "cell_type": "code",
   "execution_count": 10,
   "id": "fdd99274",
   "metadata": {
    "execution": {
     "iopub.execute_input": "2023-04-12T20:26:45.604636Z",
     "iopub.status.busy": "2023-04-12T20:26:45.604187Z",
     "iopub.status.idle": "2023-04-12T20:26:45.611386Z",
     "shell.execute_reply": "2023-04-12T20:26:45.610179Z"
    },
    "papermill": {
     "duration": 0.021372,
     "end_time": "2023-04-12T20:26:45.614413",
     "exception": false,
     "start_time": "2023-04-12T20:26:45.593041",
     "status": "completed"
    },
    "tags": []
   },
   "outputs": [
    {
     "data": {
      "text/plain": [
       "0.7890595463137996"
      ]
     },
     "execution_count": 10,
     "metadata": {},
     "output_type": "execute_result"
    }
   ],
   "source": [
    "# with calc and gravity\n",
    "_oof_score_temp"
   ]
  },
  {
   "cell_type": "code",
   "execution_count": 11,
   "id": "87e13120",
   "metadata": {
    "execution": {
     "iopub.execute_input": "2023-04-12T20:26:45.631359Z",
     "iopub.status.busy": "2023-04-12T20:26:45.630932Z",
     "iopub.status.idle": "2023-04-12T20:26:50.297431Z",
     "shell.execute_reply": "2023-04-12T20:26:50.296094Z"
    },
    "papermill": {
     "duration": 4.678484,
     "end_time": "2023-04-12T20:26:50.300404",
     "exception": false,
     "start_time": "2023-04-12T20:26:45.621920",
     "status": "completed"
    },
    "tags": []
   },
   "outputs": [
    {
     "name": "stdout",
     "output_type": "stream",
     "text": [
      "#########################\n",
      "############### traininng model pipeline_svc with seed 0\n",
      "#########################\n"
     ]
    }
   ],
   "source": [
    "from sklearn.preprocessing import PolynomialFeatures\n",
    "# with only calc and gravity feature but polynomial features included\n",
    "train_temp = train.copy()\n",
    "\n",
    "X_temp = train[['calc', 'gravity']]\n",
    "y_temp = train_temp['target']\n",
    "features_temp = train_temp.columns.tolist()\n",
    "\n",
    "\n",
    "poly = ColumnTransformer(transformers=[(\"poly\", PolynomialFeatures(degree=2, include_bias=False, interaction_only=True),\n",
    "                                               ['calc', 'gravity'])],\n",
    "                                         remainder='passthrough')\n",
    "\n",
    "pipe = make_pipeline(poly, StandardScaler(), SVC(probability=True, random_state=0))\n",
    "\n",
    "_pipes_temp, _oof_preds_temp, _train_score_temp, _oof_score_temp = evaluate_model(f\"pipeline_svc\", pipe, X_temp, y_temp, features_temp,\n",
    "                                         use_original=False,\n",
    "                                         n_splits=n_splits, random_state_list=random_states, use_loocv=False)"
   ]
  },
  {
   "cell_type": "code",
   "execution_count": 12,
   "id": "81ff3b6d",
   "metadata": {
    "execution": {
     "iopub.execute_input": "2023-04-12T20:26:50.318424Z",
     "iopub.status.busy": "2023-04-12T20:26:50.317980Z",
     "iopub.status.idle": "2023-04-12T20:26:50.325171Z",
     "shell.execute_reply": "2023-04-12T20:26:50.323893Z"
    },
    "papermill": {
     "duration": 0.01905,
     "end_time": "2023-04-12T20:26:50.327703",
     "exception": false,
     "start_time": "2023-04-12T20:26:50.308653",
     "status": "completed"
    },
    "tags": []
   },
   "outputs": [
    {
     "data": {
      "text/plain": [
       "0.7926275992438563"
      ]
     },
     "execution_count": 12,
     "metadata": {},
     "output_type": "execute_result"
    }
   ],
   "source": [
    "# with only calc and gravity feature but polynomial features included interation=True, bias=False\n",
    "_oof_score_temp"
   ]
  },
  {
   "cell_type": "code",
   "execution_count": 13,
   "id": "d57d45ca",
   "metadata": {
    "execution": {
     "iopub.execute_input": "2023-04-12T20:26:50.346177Z",
     "iopub.status.busy": "2023-04-12T20:26:50.345243Z",
     "iopub.status.idle": "2023-04-12T20:26:54.914675Z",
     "shell.execute_reply": "2023-04-12T20:26:54.913351Z"
    },
    "papermill": {
     "duration": 4.582066,
     "end_time": "2023-04-12T20:26:54.917712",
     "exception": false,
     "start_time": "2023-04-12T20:26:50.335646",
     "status": "completed"
    },
    "tags": []
   },
   "outputs": [
    {
     "name": "stdout",
     "output_type": "stream",
     "text": [
      "#########################\n",
      "############### traininng model pipeline_svc with seed 0\n",
      "#########################\n"
     ]
    }
   ],
   "source": [
    "train_temp = train.copy()\n",
    "# features calc, cond\n",
    "X_temp = train[['calc', 'cond']]\n",
    "y_temp = train['target']\n",
    "features_temp = X_temp.columns.tolist()\n",
    "\n",
    "\n",
    "poly = ColumnTransformer(transformers=[(\"poly\", PolynomialFeatures(degree=2, include_bias=False, interaction_only=True),\n",
    "                                               ['calc', 'cond'])],\n",
    "                                         remainder='passthrough')\n",
    "\n",
    "pipe = make_pipeline(poly, StandardScaler(), SVC(probability=True, random_state=0))\n",
    "\n",
    "_pipes_temp, _oof_preds_temp, _train_score_temp, _oof_score_temp = evaluate_model(f\"pipeline_svc\", pipe, X_temp, y_temp, features_temp,\n",
    "                                         use_original=False,\n",
    "                                         n_splits=n_splits, random_state_list=random_states, use_loocv=False)"
   ]
  },
  {
   "cell_type": "code",
   "execution_count": 14,
   "id": "19c35619",
   "metadata": {
    "execution": {
     "iopub.execute_input": "2023-04-12T20:26:54.935558Z",
     "iopub.status.busy": "2023-04-12T20:26:54.935088Z",
     "iopub.status.idle": "2023-04-12T20:26:54.942400Z",
     "shell.execute_reply": "2023-04-12T20:26:54.940984Z"
    },
    "papermill": {
     "duration": 0.019213,
     "end_time": "2023-04-12T20:26:54.945033",
     "exception": false,
     "start_time": "2023-04-12T20:26:54.925820",
     "status": "completed"
    },
    "tags": []
   },
   "outputs": [
    {
     "data": {
      "text/plain": [
       "0.7950259924385633"
      ]
     },
     "execution_count": 14,
     "metadata": {},
     "output_type": "execute_result"
    }
   ],
   "source": [
    "# with only calc and cond\n",
    "_oof_score_temp"
   ]
  },
  {
   "cell_type": "code",
   "execution_count": 15,
   "id": "d6383e39",
   "metadata": {
    "execution": {
     "iopub.execute_input": "2023-04-12T20:26:54.963320Z",
     "iopub.status.busy": "2023-04-12T20:26:54.962913Z",
     "iopub.status.idle": "2023-04-12T20:26:54.967664Z",
     "shell.execute_reply": "2023-04-12T20:26:54.966408Z"
    },
    "papermill": {
     "duration": 0.016883,
     "end_time": "2023-04-12T20:26:54.969849",
     "exception": false,
     "start_time": "2023-04-12T20:26:54.952966",
     "status": "completed"
    },
    "tags": []
   },
   "outputs": [],
   "source": [
    "from sklearn.preprocessing import OneHotEncoder"
   ]
  },
  {
   "cell_type": "code",
   "execution_count": 16,
   "id": "b1afc3a7",
   "metadata": {
    "execution": {
     "iopub.execute_input": "2023-04-12T20:26:54.987807Z",
     "iopub.status.busy": "2023-04-12T20:26:54.987366Z",
     "iopub.status.idle": "2023-04-12T20:26:54.992650Z",
     "shell.execute_reply": "2023-04-12T20:26:54.991316Z"
    },
    "papermill": {
     "duration": 0.017172,
     "end_time": "2023-04-12T20:26:54.995062",
     "exception": false,
     "start_time": "2023-04-12T20:26:54.977890",
     "status": "completed"
    },
    "tags": []
   },
   "outputs": [],
   "source": [
    "# train_temp = train.copy()\n",
    "# # features calc, cond\n",
    "# X_temp = train[['calc', 'cond', 'urea']]\n",
    "# X_temp['urea'] = pd.qcut(train['urea'], q=10)\n",
    "# y_temp = train['target']\n",
    "# features_temp = X_temp.columns.tolist()\n",
    "\n",
    "# transformers = ColumnTransformer(transformers=[(\"poly\", make_pipeline(PolynomialFeatures(degree=2, include_bias=False, interaction_only=True), \n",
    "#                                                         StandardScaler()),['calc', 'cond']), \n",
    "#                                                    ('ohe', OneHotEncoder(sparse=False, drop='first'), ['urea'])],\n",
    "#                                                  remainder='passthrough')\n",
    "\n",
    "# pipe = make_pipeline(transformers, SVC(probability=True, random_state=0))\n",
    "\n",
    "\n",
    "# _pipes_temp, _oof_preds_temp, _train_score_temp, _oof_score_temp = evaluate_model(f\"pipeline_svc\", pipe, X_temp, y_temp, features_temp,\n",
    "#                                          use_original=False,\n",
    "#                                          n_splits=n_splits, random_state_list=random_states, use_loocv=False)"
   ]
  },
  {
   "cell_type": "markdown",
   "id": "f6fd3ea2",
   "metadata": {
    "papermill": {
     "duration": 0.007465,
     "end_time": "2023-04-12T20:26:55.010443",
     "exception": false,
     "start_time": "2023-04-12T20:26:55.002978",
     "status": "completed"
    },
    "tags": []
   },
   "source": [
    "****Hyperparamter Tuning for SVC****"
   ]
  },
  {
   "cell_type": "code",
   "execution_count": 17,
   "id": "a96f7cfd",
   "metadata": {
    "execution": {
     "iopub.execute_input": "2023-04-12T20:26:55.029209Z",
     "iopub.status.busy": "2023-04-12T20:26:55.028464Z",
     "iopub.status.idle": "2023-04-12T20:27:00.264552Z",
     "shell.execute_reply": "2023-04-12T20:27:00.263280Z"
    },
    "papermill": {
     "duration": 5.248672,
     "end_time": "2023-04-12T20:27:00.266994",
     "exception": false,
     "start_time": "2023-04-12T20:26:55.018322",
     "status": "completed"
    },
    "tags": []
   },
   "outputs": [
    {
     "name": "stdout",
     "output_type": "stream",
     "text": [
      "#########################\n",
      "############### traininng model pipeline_svc with seed 0\n",
      "#########################\n"
     ]
    },
    {
     "data": {
      "text/plain": [
       "0.7886578449905481"
      ]
     },
     "execution_count": 17,
     "metadata": {},
     "output_type": "execute_result"
    }
   ],
   "source": [
    "train_temp = train.copy()\n",
    "# features calc, cond\n",
    "X_temp = train[['calc', 'cond']]\n",
    "y_temp = train['target']\n",
    "features_temp = X_temp.columns.tolist()\n",
    "\n",
    "\n",
    "poly = ColumnTransformer(transformers=[(\"poly\", PolynomialFeatures(degree=2, include_bias=False, interaction_only=False),\n",
    "                                               ['calc', 'cond'])],\n",
    "                                         remainder='passthrough')\n",
    "\n",
    "pipe = make_pipeline(poly, StandardScaler(), SVC(probability=True, random_state=0, C=0.09))\n",
    "\n",
    "_pipes_temp, _oof_preds_temp, _train_score_temp, _oof_score_temp = evaluate_model(f\"pipeline_svc\", pipe, X_temp, y_temp, features_temp,\n",
    "                                         use_original=False,\n",
    "                                         n_splits=n_splits, random_state_list=random_states, use_loocv=False)\n",
    "\n",
    "_oof_score_temp"
   ]
  },
  {
   "cell_type": "code",
   "execution_count": 18,
   "id": "e495c363",
   "metadata": {
    "execution": {
     "iopub.execute_input": "2023-04-12T20:27:00.286343Z",
     "iopub.status.busy": "2023-04-12T20:27:00.285658Z",
     "iopub.status.idle": "2023-04-12T20:27:05.889953Z",
     "shell.execute_reply": "2023-04-12T20:27:05.888620Z"
    },
    "papermill": {
     "duration": 5.617195,
     "end_time": "2023-04-12T20:27:05.892874",
     "exception": false,
     "start_time": "2023-04-12T20:27:00.275679",
     "status": "completed"
    },
    "tags": []
   },
   "outputs": [
    {
     "name": "stdout",
     "output_type": "stream",
     "text": [
      "#########################\n",
      "############### traininng model pipeline_svc with seed 0\n",
      "#########################\n"
     ]
    },
    {
     "data": {
      "text/plain": [
       "0.8007088846880908"
      ]
     },
     "execution_count": 18,
     "metadata": {},
     "output_type": "execute_result"
    }
   ],
   "source": [
    "train_temp = train.copy()\n",
    "# features calc, cond\n",
    "X_temp = train[['calc', 'cond', 'gravity', 'ph']]\n",
    "y_temp = train['target']\n",
    "features_temp = X_temp.columns.tolist()\n",
    "\n",
    "\n",
    "poly = ColumnTransformer(transformers=[(\"poly\", PolynomialFeatures(degree=2, include_bias=False, interaction_only=True),\n",
    "                                               ['calc', 'cond'])],\n",
    "                                         remainder='passthrough')\n",
    "\n",
    "pipe = make_pipeline(poly, StandardScaler(), SVC(probability=True, random_state=0, kernel='rbf', C=0.1))\n",
    "\n",
    "_pipes_temp, _oof_preds_temp, _train_score_temp, _oof_score_temp = evaluate_model(f\"pipeline_svc\", pipe, X_temp, y_temp, features_temp,\n",
    "                                         use_original=False,\n",
    "                                         n_splits=n_splits, random_state_list=random_states, use_loocv=False)\n",
    "\n",
    "_oof_score_temp\n",
    "\n",
    "# best till now"
   ]
  },
  {
   "cell_type": "code",
   "execution_count": 19,
   "id": "d7253b61",
   "metadata": {
    "execution": {
     "iopub.execute_input": "2023-04-12T20:27:05.913555Z",
     "iopub.status.busy": "2023-04-12T20:27:05.913071Z",
     "iopub.status.idle": "2023-04-12T20:27:12.311366Z",
     "shell.execute_reply": "2023-04-12T20:27:12.310223Z"
    },
    "papermill": {
     "duration": 6.412495,
     "end_time": "2023-04-12T20:27:12.314160",
     "exception": false,
     "start_time": "2023-04-12T20:27:05.901665",
     "status": "completed"
    },
    "tags": []
   },
   "outputs": [
    {
     "name": "stdout",
     "output_type": "stream",
     "text": [
      "#########################\n",
      "############### traininng model pipeline_svc with seed 0\n",
      "#########################\n"
     ]
    },
    {
     "data": {
      "text/plain": [
       "0.7968809073724008"
      ]
     },
     "execution_count": 19,
     "metadata": {},
     "output_type": "execute_result"
    }
   ],
   "source": [
    "train_temp = train.copy()\n",
    "# features calc, c\n",
    "X_temp = train[['calc', 'cond', 'gravity', 'ph']]\n",
    "y_temp = train['target']\n",
    "features_temp = X_temp.columns.tolist()\n",
    "\n",
    "\n",
    "poly = ColumnTransformer(transformers=[(\"poly\", PolynomialFeatures(degree=2, include_bias=False, interaction_only=True),\n",
    "                                               ['calc', 'cond', 'gravity'])],\n",
    "                                         remainder='passthrough')\n",
    "\n",
    "pipe = make_pipeline(poly, StandardScaler(), SVC(probability=True, random_state=0, kernel='rbf', C=0.01))\n",
    "\n",
    "_pipes_temp, _oof_preds_temp, _train_score_temp, _oof_score_temp = evaluate_model(f\"pipeline_svc\", pipe, X_temp, y_temp, features_temp,\n",
    "                                         use_original=False,\n",
    "                                         n_splits=n_splits, random_state_list=random_states, use_loocv=False)\n",
    "\n",
    "_oof_score_temp"
   ]
  },
  {
   "cell_type": "code",
   "execution_count": null,
   "id": "efba5e96",
   "metadata": {
    "papermill": {
     "duration": 0.008205,
     "end_time": "2023-04-12T20:27:12.330980",
     "exception": false,
     "start_time": "2023-04-12T20:27:12.322775",
     "status": "completed"
    },
    "tags": []
   },
   "outputs": [],
   "source": []
  },
  {
   "cell_type": "code",
   "execution_count": 20,
   "id": "ece348af",
   "metadata": {
    "execution": {
     "iopub.execute_input": "2023-04-12T20:27:12.350307Z",
     "iopub.status.busy": "2023-04-12T20:27:12.349893Z",
     "iopub.status.idle": "2023-04-12T20:27:19.536017Z",
     "shell.execute_reply": "2023-04-12T20:27:19.535023Z"
    },
    "papermill": {
     "duration": 7.198868,
     "end_time": "2023-04-12T20:27:19.538317",
     "exception": false,
     "start_time": "2023-04-12T20:27:12.339449",
     "status": "completed"
    },
    "tags": []
   },
   "outputs": [
    {
     "name": "stdout",
     "output_type": "stream",
     "text": [
      "#########################\n",
      "############### traininng model pipeline_svc with seed 0\n",
      "#########################\n"
     ]
    },
    {
     "data": {
      "text/plain": [
       "0.8027646502835538"
      ]
     },
     "execution_count": 20,
     "metadata": {},
     "output_type": "execute_result"
    }
   ],
   "source": [
    "train_temp = train.copy()\n",
    "# features calc, cond\n",
    "X_temp = train[['calc', 'cond', 'urea', 'ph', 'gravity']]\n",
    "# X_temp['urea'] = pd.qcut(train['urea'], q=10)\n",
    "y_temp = train['target']\n",
    "features_temp = X_temp.columns.tolist()\n",
    "\n",
    "transformers = ColumnTransformer(transformers=[(\"poly\", make_pipeline(PolynomialFeatures(degree=2, include_bias=False, interaction_only=True), \n",
    "                                                        StandardScaler()),['calc', 'cond', 'gravity', 'ph']),\n",
    "                                                  ('scale', StandardScaler(), ['urea'])],\n",
    "                                                 remainder='passthrough')\n",
    "\n",
    "pipe = make_pipeline(transformers, SVC(probability=True, random_state=0, C=0.05))\n",
    "\n",
    "\n",
    "_pipes_temp, _oof_preds_temp, _train_score_temp, _oof_score_temp = evaluate_model(f\"pipeline_svc\", pipe, X_temp, y_temp, features_temp,\n",
    "                                         use_original=False,\n",
    "                                         n_splits=n_splits, random_state_list=random_states, use_loocv=False)\n",
    "\n",
    "_oof_score_temp\n",
    "# best till now"
   ]
  },
  {
   "cell_type": "code",
   "execution_count": 21,
   "id": "81856d8c",
   "metadata": {
    "execution": {
     "iopub.execute_input": "2023-04-12T20:27:19.558447Z",
     "iopub.status.busy": "2023-04-12T20:27:19.557329Z",
     "iopub.status.idle": "2023-04-12T20:27:27.096927Z",
     "shell.execute_reply": "2023-04-12T20:27:27.095614Z"
    },
    "papermill": {
     "duration": 7.552391,
     "end_time": "2023-04-12T20:27:27.099431",
     "exception": false,
     "start_time": "2023-04-12T20:27:19.547040",
     "status": "completed"
    },
    "tags": []
   },
   "outputs": [
    {
     "name": "stdout",
     "output_type": "stream",
     "text": [
      "#########################\n",
      "############### traininng model pipeline_svc with seed 0\n",
      "#########################\n"
     ]
    },
    {
     "data": {
      "text/plain": [
       "0.7986767485822306"
      ]
     },
     "execution_count": 21,
     "metadata": {},
     "output_type": "execute_result"
    }
   ],
   "source": [
    "train_temp = train.copy()\n",
    "# features calc, cond\n",
    "X_temp = train[['calc', 'cond', 'urea', 'ph', 'gravity', 'osmo']]\n",
    "# X_temp['urea'] = pd.qcut(train['urea'], q=10)\n",
    "y_temp = train['target']\n",
    "features_temp = X_temp.columns.tolist()\n",
    "\n",
    "transformers = ColumnTransformer(transformers=[(\"poly\", make_pipeline(PolynomialFeatures(degree=2, include_bias=False, interaction_only=True), \n",
    "                                                        StandardScaler()),['calc', 'cond', 'gravity', 'ph']),\n",
    "                                                  ('scale', StandardScaler(), ['urea', 'osmo'])],\n",
    "                                                 remainder='passthrough')\n",
    "\n",
    "pipe = make_pipeline(transformers, SVC(probability=True, random_state=0, C=0.03))\n",
    "\n",
    "\n",
    "_pipes_temp, _oof_preds_temp, _train_score_temp, _oof_score_temp = evaluate_model(f\"pipeline_svc\", pipe, X_temp, y_temp, features_temp,\n",
    "                                         use_original=False,\n",
    "                                         n_splits=n_splits, random_state_list=random_states, use_loocv=False)\n",
    "\n",
    "_oof_score_temp"
   ]
  }
 ],
 "metadata": {
  "kernelspec": {
   "display_name": "Python 3",
   "language": "python",
   "name": "python3"
  },
  "language_info": {
   "codemirror_mode": {
    "name": "ipython",
    "version": 3
   },
   "file_extension": ".py",
   "mimetype": "text/x-python",
   "name": "python",
   "nbconvert_exporter": "python",
   "pygments_lexer": "ipython3",
   "version": "3.7.12"
  },
  "papermill": {
   "default_parameters": {},
   "duration": 80.816675,
   "end_time": "2023-04-12T20:27:29.928210",
   "environment_variables": {},
   "exception": null,
   "input_path": "__notebook__.ipynb",
   "output_path": "__notebook__.ipynb",
   "parameters": {},
   "start_time": "2023-04-12T20:26:09.111535",
   "version": "2.4.0"
  }
 },
 "nbformat": 4,
 "nbformat_minor": 5
}
