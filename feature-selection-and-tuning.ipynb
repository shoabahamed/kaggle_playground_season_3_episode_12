{
 "cells": [
  {
   "cell_type": "code",
   "execution_count": 1,
   "id": "0000a012",
   "metadata": {
    "execution": {
     "iopub.execute_input": "2023-04-12T20:36:15.160629Z",
     "iopub.status.busy": "2023-04-12T20:36:15.159516Z",
     "iopub.status.idle": "2023-04-12T20:36:26.632822Z",
     "shell.execute_reply": "2023-04-12T20:36:26.631501Z"
    },
    "papermill": {
     "duration": 11.486829,
     "end_time": "2023-04-12T20:36:26.636002",
     "exception": false,
     "start_time": "2023-04-12T20:36:15.149173",
     "status": "completed"
    },
    "tags": []
   },
   "outputs": [
    {
     "data": {
      "text/html": [
       "<style type='text/css'>\n",
       ".datatable table.frame { margin-bottom: 0; }\n",
       ".datatable table.frame thead { border-bottom: none; }\n",
       ".datatable table.frame tr.coltypes td {  color: #FFFFFF;  line-height: 6px;  padding: 0 0.5em;}\n",
       ".datatable .bool    { background: #DDDD99; }\n",
       ".datatable .object  { background: #565656; }\n",
       ".datatable .int     { background: #5D9E5D; }\n",
       ".datatable .float   { background: #4040CC; }\n",
       ".datatable .str     { background: #CC4040; }\n",
       ".datatable .time    { background: #40CC40; }\n",
       ".datatable .row_index {  background: var(--jp-border-color3);  border-right: 1px solid var(--jp-border-color0);  color: var(--jp-ui-font-color3);  font-size: 9px;}\n",
       ".datatable .frame tbody td { text-align: left; }\n",
       ".datatable .frame tr.coltypes .row_index {  background: var(--jp-border-color0);}\n",
       ".datatable th:nth-child(2) { padding-left: 12px; }\n",
       ".datatable .hellipsis {  color: var(--jp-cell-editor-border-color);}\n",
       ".datatable .vellipsis {  background: var(--jp-layout-color0);  color: var(--jp-cell-editor-border-color);}\n",
       ".datatable .na {  color: var(--jp-cell-editor-border-color);  font-size: 80%;}\n",
       ".datatable .sp {  opacity: 0.25;}\n",
       ".datatable .footer { font-size: 9px; }\n",
       ".datatable .frame_dimensions {  background: var(--jp-border-color3);  border-top: 1px solid var(--jp-border-color0);  color: var(--jp-ui-font-color3);  display: inline-block;  opacity: 0.6;  padding: 1px 10px 1px 5px;}\n",
       "</style>\n"
      ],
      "text/plain": [
       "<IPython.core.display.HTML object>"
      ]
     },
     "metadata": {},
     "output_type": "display_data"
    }
   ],
   "source": [
    "import pandas as pd\n",
    "import numpy as np\n",
    "\n",
    "import seaborn as sns\n",
    "import matplotlib.pyplot as plt\n",
    "\n",
    "\n",
    "from sklearn.model_selection import cross_val_score, RepeatedStratifiedKFold, train_test_split, StratifiedKFold\n",
    "from lightgbm import LGBMClassifier\n",
    "from sklearn.metrics import RocCurveDisplay, auc\n",
    "from sklearn.decomposition import PCA\n",
    "from sklearn.metrics import roc_auc_score\n",
    "\n",
    "\n",
    "from sklearn.pipeline import Pipeline\n",
    "from copy import deepcopy\n",
    "\n",
    "\n",
    "from sklearn.linear_model import LogisticRegression\n",
    "from sklearn.svm import SVC\n",
    "from sklearn.neighbors import KNeighborsClassifier\n",
    "from sklearn.ensemble import RandomForestClassifier, AdaBoostClassifier, GradientBoostingClassifier\n",
    "from xgboost import XGBClassifier\n",
    "from lightgbm import LGBMClassifier\n",
    "from catboost import CatBoostClassifier\n",
    "from eli5.sklearn import PermutationImportance\n",
    "import eli5\n",
    "from sklearn.inspection import PartialDependenceDisplay\n",
    "from sklearn.preprocessing import StandardScaler\n",
    "\n",
    "from path import Path\n",
    "import warnings \n",
    "warnings.filterwarnings('ignore') # supress warnings\n"
   ]
  },
  {
   "cell_type": "code",
   "execution_count": 2,
   "id": "97faddbd",
   "metadata": {
    "execution": {
     "iopub.execute_input": "2023-04-12T20:36:26.653855Z",
     "iopub.status.busy": "2023-04-12T20:36:26.652894Z",
     "iopub.status.idle": "2023-04-12T20:36:26.722720Z",
     "shell.execute_reply": "2023-04-12T20:36:26.721322Z"
    },
    "papermill": {
     "duration": 0.081432,
     "end_time": "2023-04-12T20:36:26.725338",
     "exception": false,
     "start_time": "2023-04-12T20:36:26.643906",
     "status": "completed"
    },
    "tags": []
   },
   "outputs": [
    {
     "data": {
      "text/html": [
       "<div>\n",
       "<style scoped>\n",
       "    .dataframe tbody tr th:only-of-type {\n",
       "        vertical-align: middle;\n",
       "    }\n",
       "\n",
       "    .dataframe tbody tr th {\n",
       "        vertical-align: top;\n",
       "    }\n",
       "\n",
       "    .dataframe thead th {\n",
       "        text-align: right;\n",
       "    }\n",
       "</style>\n",
       "<table border=\"1\" class=\"dataframe\">\n",
       "  <thead>\n",
       "    <tr style=\"text-align: right;\">\n",
       "      <th></th>\n",
       "      <th>id</th>\n",
       "      <th>gravity</th>\n",
       "      <th>ph</th>\n",
       "      <th>osmo</th>\n",
       "      <th>cond</th>\n",
       "      <th>urea</th>\n",
       "      <th>calc</th>\n",
       "      <th>target</th>\n",
       "    </tr>\n",
       "  </thead>\n",
       "  <tbody>\n",
       "    <tr>\n",
       "      <th>0</th>\n",
       "      <td>0</td>\n",
       "      <td>1.013</td>\n",
       "      <td>6.19</td>\n",
       "      <td>443</td>\n",
       "      <td>14.8</td>\n",
       "      <td>124</td>\n",
       "      <td>1.45</td>\n",
       "      <td>0</td>\n",
       "    </tr>\n",
       "    <tr>\n",
       "      <th>1</th>\n",
       "      <td>1</td>\n",
       "      <td>1.025</td>\n",
       "      <td>5.40</td>\n",
       "      <td>703</td>\n",
       "      <td>23.6</td>\n",
       "      <td>394</td>\n",
       "      <td>4.18</td>\n",
       "      <td>0</td>\n",
       "    </tr>\n",
       "    <tr>\n",
       "      <th>2</th>\n",
       "      <td>2</td>\n",
       "      <td>1.009</td>\n",
       "      <td>6.13</td>\n",
       "      <td>371</td>\n",
       "      <td>24.5</td>\n",
       "      <td>159</td>\n",
       "      <td>9.04</td>\n",
       "      <td>0</td>\n",
       "    </tr>\n",
       "    <tr>\n",
       "      <th>3</th>\n",
       "      <td>3</td>\n",
       "      <td>1.021</td>\n",
       "      <td>4.91</td>\n",
       "      <td>442</td>\n",
       "      <td>20.8</td>\n",
       "      <td>398</td>\n",
       "      <td>6.63</td>\n",
       "      <td>1</td>\n",
       "    </tr>\n",
       "    <tr>\n",
       "      <th>4</th>\n",
       "      <td>4</td>\n",
       "      <td>1.021</td>\n",
       "      <td>5.53</td>\n",
       "      <td>874</td>\n",
       "      <td>17.8</td>\n",
       "      <td>385</td>\n",
       "      <td>2.21</td>\n",
       "      <td>1</td>\n",
       "    </tr>\n",
       "  </tbody>\n",
       "</table>\n",
       "</div>"
      ],
      "text/plain": [
       "   id  gravity    ph  osmo  cond  urea  calc  target\n",
       "0   0    1.013  6.19   443  14.8   124  1.45       0\n",
       "1   1    1.025  5.40   703  23.6   394  4.18       0\n",
       "2   2    1.009  6.13   371  24.5   159  9.04       0\n",
       "3   3    1.021  4.91   442  20.8   398  6.63       1\n",
       "4   4    1.021  5.53   874  17.8   385  2.21       1"
      ]
     },
     "execution_count": 2,
     "metadata": {},
     "output_type": "execute_result"
    }
   ],
   "source": [
    "# loading datasets\n",
    "path = Path(\"/kaggle/input/playground-series-s3e12\")\n",
    "\n",
    "train = pd.read_csv(path / \"train.csv\")\n",
    "test = pd.read_csv(path / \"test.csv\")\n",
    "sub = pd.read_csv(path / \"sample_submission.csv\")\n",
    "original = pd.read_csv(\"/kaggle/input/kidney-stone-prediction-based-on-urine-analysis/kindey stone urine analysis.csv\")\n",
    "original = original[train.drop('id', axis=1).columns.tolist()]\n",
    "\n",
    "original = original.drop([5, 32]).reindex()\n",
    "\n",
    "\n",
    "train.head()"
   ]
  },
  {
   "cell_type": "code",
   "execution_count": 3,
   "id": "dc77ac45",
   "metadata": {
    "_cell_guid": "b1076dfc-b9ad-4769-8c92-a6c4dae69d19",
    "_uuid": "8f2839f25d086af736a60e9eeb907d3b93b6e0e5",
    "execution": {
     "iopub.execute_input": "2023-04-12T20:36:26.742874Z",
     "iopub.status.busy": "2023-04-12T20:36:26.742473Z",
     "iopub.status.idle": "2023-04-12T20:36:26.771834Z",
     "shell.execute_reply": "2023-04-12T20:36:26.770629Z"
    },
    "jupyter": {
     "source_hidden": true
    },
    "papermill": {
     "duration": 0.041525,
     "end_time": "2023-04-12T20:36:26.774672",
     "exception": false,
     "start_time": "2023-04-12T20:36:26.733147",
     "status": "completed"
    },
    "tags": []
   },
   "outputs": [],
   "source": [
    "#  plot correaltion        \n",
    "def plot_corr(df, features, target, sort=False, method='pearson', figsize=(13, 8), use_mask=True, mask_type=\"triu\", **kwargs):\n",
    "    \"\"\"Plot correlation given dataset and features names\"\"\"\n",
    "    plt.figure(figsize=figsize) # sets figure size\n",
    "    corr = df[features].corr(method=method) # calculates correlation based on the features and method provied\n",
    "    target_values = corr[target]\n",
    "    features.remove(target)\n",
    "    corr = corr[features]\n",
    "    \n",
    "    corr = pd.concat([corr, target_values], axis=1)\n",
    "    \n",
    "    if sort: # if sort is true then sort the correlation matrix\n",
    "        corr = corr.sort_values(by=target)\n",
    "    if use_mask: # if uses_mask = True\n",
    "        if mask_type == 'triu': # sets mask type to lower trigonal\n",
    "            mask = np.triu(np.ones(corr.shape)) \n",
    "        else:   # sets mask type to upper trigonal\n",
    "            mask = np.tril(np.ones(corr.shape))\n",
    "        sns.heatmap(corr, annot=True, mask=mask, **kwargs)\n",
    "        \n",
    "    else: # if uses mask is not true\n",
    "         sns.heatmap(corr, annot=True, **kwargs)       \n",
    "\n",
    "    plt.title('Correlation between features')\n",
    "\n",
    "    \n",
    "    \n",
    "def submission_csv(_model, _train, _test):\n",
    "    X_train = _train.drop(['id', 'target'], axis=1)\n",
    "    y_train = _train['target']\n",
    "    X_test = _test.drop('id', axis=1)\n",
    "    \n",
    "    _model.fit(X_train, y_train)\n",
    "    \n",
    "    preds = _model.predict_proba(X_test)[:, 1]\n",
    "    \n",
    "    df = pd.DataFrame()\n",
    "    df['id'] = _test['id']\n",
    "    df['target'] = preds\n",
    "    \n",
    "    return \n",
    "\n",
    "\n",
    "\n",
    "def plot_importance(models, X_test, title=\"\"):\n",
    "#     taken from https://www.kaggle.com/code/shoabahamed/ps3e9-eda-and-gbdt-catboost-median-duplicatedata/edit\n",
    "    \"\"\"Plots features importance given models and train set\"\"\"\n",
    "    features = X_test.columns.tolist()\n",
    "    feature_importance = pd.DataFrame()\n",
    "    for model in models:\n",
    "        _df = pd.DataFrame()\n",
    "        _df['importance'] = model.feature_importances_\n",
    "        _df[\"features\"] = pd.Series(features)\n",
    "        _df = _df.sort_values(by='importance', ascending=False)\n",
    "        feature_importance = pd.concat([feature_importance, _df])\n",
    "        \n",
    "                \n",
    "    feature_importance = feature_importance.sort_values('importance', ascending=False)\n",
    "    plt.figure(figsize=(16, 10))\n",
    "    ax = sns.barplot(x='importance', y='features', data=feature_importance, color='skyblue', errorbar='sd')\n",
    "    \n",
    "    for i in ax.containers:\n",
    "        ax.bar_label(i,)\n",
    "    \n",
    "   \n",
    "    plt.xlabel('Importance', fontsize=14)\n",
    "    plt.ylabel('Feature', fontsize=14)\n",
    "    plt.title(f\"{title} Feature Importances\", fontsize=18)\n",
    "    plt.grid(True, axis='x')\n",
    "    plt.show()\n",
    "    \n",
    "    return feature_importance\n",
    "\n",
    "\n",
    "class Splitter:\n",
    "    \"\"\"A splitter class which splits the X, y using the split_data function with a random state provided. It yeilds \\\n",
    "    X_train, X_val, y_train, y_val, train_idx, val_idx in the end.\\\n",
    "    code from  https://www.kaggle.com/code/tetsutani/ps3e9-eda-and-gbdt-catboost-median-duplicatedata wit little bit of modification \"\"\"\n",
    "\n",
    "    def __init__(self, test_size=0.2, kfold=True, n_splits=5, use_loocv=False):\n",
    "        self.test_size = test_size # set test size\n",
    "        self.kfold = kfold  # wheter to just split the data in two or use kfold\n",
    "        self.n_splits= n_splits \n",
    "        self.use_loocv = use_loocv\n",
    "        \n",
    "    def split_data(self, X, y, random_state):\n",
    "        if self.kfold:\n",
    "            if self.use_loocv:\n",
    "                kf = LeaveOneOut()\n",
    "            else:\n",
    "                kf = StratifiedKFold(n_splits=self.n_splits, random_state=random_state, shuffle=True)\n",
    "            for train_idx, val_idx in kf.split(X, y):\n",
    "                X_train, X_val = X.iloc[train_idx], X.iloc[val_idx]\n",
    "                y_train, y_val = y.iloc[train_idx], y.iloc[val_idx]\n",
    "                yield X_train, X_val, y_train, y_val, train_idx, val_idx\n",
    "        else:\n",
    "            X_train, X_val, y_train, y_val = train_test_split(X, y, test_size=self.test_size, random_state=random_state)\n",
    "            yield X_train, X_val, y_train, y_val\n",
    "\n",
    "\n",
    "\n",
    "\n",
    "\n",
    "def evaluate_model(model_name, model_pipeline, _X, _y, features, original_data=None, use_original=False, n_splits=5, random_state_list=[0, 5, 10], use_loocv=False):\n",
    "    len_y = len(_y)\n",
    "    len_states = len(random_state_list)\n",
    "\n",
    "    oof_preds = np.zeros(len_y * len_states).reshape(len_states, len_y)\n",
    "    scores_train = []\n",
    "    model_pipelines = []\n",
    "\n",
    "    for index, random_state in enumerate(random_state_list):\n",
    "        print(\"#\"*25)\n",
    "        print(\"#\"*15, f\"traininng model {model_name} with seed {random_state}\")\n",
    "        print(\"#\"*25)\n",
    "        splitter = Splitter(n_splits=n_splits, use_loocv=use_loocv)\n",
    "        splits = 0\n",
    "        for X_train, X_val, y_train, y_val, train_idx, val_idx in splitter.split_data(_X, _y, random_state):\n",
    "            if use_original: # we will only use original data for training not testing\n",
    "                target = 'target'\n",
    "                X_train = pd.concat([X_train, original_data.drop(target, axis=1)]) \n",
    "                y_train = pd.concat([y_train, original_data[target]])  \n",
    "\n",
    "            model_pipeline.fit(X_train, y_train)\n",
    "            oof_preds[index, val_idx] = model_pipeline.predict_proba(X_val)[:, 1].squeeze()\n",
    "            \n",
    "            score_train = roc_auc_score(y_train, model_pipeline.predict_proba(X_train)[:, 1])\n",
    "            scores_train.append(score_train)\n",
    "            model_pipelines.append(deepcopy(model_pipeline))\n",
    "\n",
    "            \n",
    "    oof_preds_mean = oof_preds.mean(axis=0)\n",
    "\n",
    "    return model_pipelines, oof_preds_mean, np.mean(scores_train), roc_auc_score(_y, oof_preds.mean(axis=0))\n",
    "\n",
    "\n",
    "def predict_test(model_pipeline, X_test):\n",
    "    test_preds = model_pipeline.predict_proba(X_test)[:, 1]\n",
    "    return test_preds\n"
   ]
  },
  {
   "cell_type": "markdown",
   "id": "6bd3b3bc",
   "metadata": {
    "papermill": {
     "duration": 0.007488,
     "end_time": "2023-04-12T20:36:26.789876",
     "exception": false,
     "start_time": "2023-04-12T20:36:26.782388",
     "status": "completed"
    },
    "tags": []
   },
   "source": [
    "# SVC\n",
    "\n",
    "have the mindset that only some features would be better for particular models. Here we will only try to find the best features for SVC"
   ]
  },
  {
   "cell_type": "markdown",
   "id": "263352d4",
   "metadata": {
    "papermill": {
     "duration": 0.00744,
     "end_time": "2023-04-12T20:36:26.804939",
     "exception": false,
     "start_time": "2023-04-12T20:36:26.797499",
     "status": "completed"
    },
    "tags": []
   },
   "source": [
    "****Baseline SVC score****"
   ]
  },
  {
   "cell_type": "code",
   "execution_count": 4,
   "id": "9281c941",
   "metadata": {
    "execution": {
     "iopub.execute_input": "2023-04-12T20:36:26.822146Z",
     "iopub.status.busy": "2023-04-12T20:36:26.821731Z",
     "iopub.status.idle": "2023-04-12T20:36:26.838762Z",
     "shell.execute_reply": "2023-04-12T20:36:26.837658Z"
    },
    "papermill": {
     "duration": 0.028846,
     "end_time": "2023-04-12T20:36:26.841486",
     "exception": false,
     "start_time": "2023-04-12T20:36:26.812640",
     "status": "completed"
    },
    "tags": []
   },
   "outputs": [],
   "source": [
    "from sklearn.pipeline import make_pipeline\n",
    "from sklearn.compose import ColumnTransformer"
   ]
  },
  {
   "cell_type": "code",
   "execution_count": 5,
   "id": "87b0c70c",
   "metadata": {
    "execution": {
     "iopub.execute_input": "2023-04-12T20:36:26.859397Z",
     "iopub.status.busy": "2023-04-12T20:36:26.858907Z",
     "iopub.status.idle": "2023-04-12T20:36:31.642273Z",
     "shell.execute_reply": "2023-04-12T20:36:31.641020Z"
    },
    "papermill": {
     "duration": 4.79591,
     "end_time": "2023-04-12T20:36:31.645184",
     "exception": false,
     "start_time": "2023-04-12T20:36:26.849274",
     "status": "completed"
    },
    "tags": []
   },
   "outputs": [
    {
     "name": "stdout",
     "output_type": "stream",
     "text": [
      "#########################\n",
      "############### traininng model pipeline_svc with seed 0\n",
      "#########################\n"
     ]
    }
   ],
   "source": [
    "X = train.drop(['id', 'target'], axis=1)\n",
    "y = train['target']\n",
    "features = X.columns.tolist()\n",
    "n_splits = 100\n",
    "random_states = [0]\n",
    "\n",
    "pipe = Pipeline(steps=[\n",
    "    (\"scale\", StandardScaler()),\n",
    "    (\"model\", SVC(probability=True, random_state=0))\n",
    "])\n",
    "\n",
    "_pipes, _oof_preds, _train_score, _oof_score = evaluate_model(f\"pipeline_svc\", pipe, X, y, features,\n",
    "                                         use_original=False,\n",
    "                                         n_splits=n_splits, random_state_list=random_states, use_loocv=False)"
   ]
  },
  {
   "cell_type": "code",
   "execution_count": 6,
   "id": "82f11eed",
   "metadata": {
    "execution": {
     "iopub.execute_input": "2023-04-12T20:36:31.665711Z",
     "iopub.status.busy": "2023-04-12T20:36:31.665163Z",
     "iopub.status.idle": "2023-04-12T20:36:31.672642Z",
     "shell.execute_reply": "2023-04-12T20:36:31.671366Z"
    },
    "papermill": {
     "duration": 0.019737,
     "end_time": "2023-04-12T20:36:31.675109",
     "exception": false,
     "start_time": "2023-04-12T20:36:31.655372",
     "status": "completed"
    },
    "tags": []
   },
   "outputs": [
    {
     "data": {
      "text/plain": [
       "0.7821361058601133"
      ]
     },
     "execution_count": 6,
     "metadata": {},
     "output_type": "execute_result"
    }
   ],
   "source": [
    "_oof_score"
   ]
  },
  {
   "cell_type": "markdown",
   "id": "62e4d6bc",
   "metadata": {
    "papermill": {
     "duration": 0.007413,
     "end_time": "2023-04-12T20:36:31.690275",
     "exception": false,
     "start_time": "2023-04-12T20:36:31.682862",
     "status": "completed"
    },
    "tags": []
   },
   "source": [
    "This is our baseline score. We will start by adding features as we go"
   ]
  },
  {
   "cell_type": "code",
   "execution_count": 7,
   "id": "3e9e1116",
   "metadata": {
    "execution": {
     "iopub.execute_input": "2023-04-12T20:36:31.707649Z",
     "iopub.status.busy": "2023-04-12T20:36:31.707213Z",
     "iopub.status.idle": "2023-04-12T20:36:35.434276Z",
     "shell.execute_reply": "2023-04-12T20:36:35.433055Z"
    },
    "papermill": {
     "duration": 3.738852,
     "end_time": "2023-04-12T20:36:35.437122",
     "exception": false,
     "start_time": "2023-04-12T20:36:31.698270",
     "status": "completed"
    },
    "tags": []
   },
   "outputs": [
    {
     "name": "stdout",
     "output_type": "stream",
     "text": [
      "#########################\n",
      "############### traininng model pipeline_svc with seed 0\n",
      "#########################\n"
     ]
    }
   ],
   "source": [
    "# with only calc feature\n",
    "train_temp = train.copy()\n",
    "X_temp = train[['calc']]\n",
    "y_temp = train['target']\n",
    "features_temp = X.columns.tolist()\n",
    "\n",
    "\n",
    "pipe = Pipeline(steps=[\n",
    "    (\"scale\", StandardScaler()),\n",
    "    (\"model\", SVC(probability=True, random_state=0))\n",
    "])\n",
    "\n",
    "_pipes_temp, _oof_preds_temp, _train_score_temp, _oof_score_temp = evaluate_model(f\"pipeline_svc\", pipe, X_temp, y_temp, features_temp,\n",
    "                                         use_original=False,\n",
    "                                         n_splits=n_splits, random_state_list=random_states, use_loocv=False)"
   ]
  },
  {
   "cell_type": "code",
   "execution_count": 8,
   "id": "70a43905",
   "metadata": {
    "execution": {
     "iopub.execute_input": "2023-04-12T20:36:35.454813Z",
     "iopub.status.busy": "2023-04-12T20:36:35.454372Z",
     "iopub.status.idle": "2023-04-12T20:36:35.461912Z",
     "shell.execute_reply": "2023-04-12T20:36:35.460602Z"
    },
    "papermill": {
     "duration": 0.019207,
     "end_time": "2023-04-12T20:36:35.464346",
     "exception": false,
     "start_time": "2023-04-12T20:36:35.445139",
     "status": "completed"
    },
    "tags": []
   },
   "outputs": [
    {
     "data": {
      "text/plain": [
       "0.7856687145557657"
      ]
     },
     "execution_count": 8,
     "metadata": {},
     "output_type": "execute_result"
    }
   ],
   "source": [
    "# oof score with calc feature only\n",
    "_oof_score_temp"
   ]
  },
  {
   "cell_type": "code",
   "execution_count": 9,
   "id": "0632c057",
   "metadata": {
    "execution": {
     "iopub.execute_input": "2023-04-12T20:36:35.482373Z",
     "iopub.status.busy": "2023-04-12T20:36:35.481586Z",
     "iopub.status.idle": "2023-04-12T20:36:39.549686Z",
     "shell.execute_reply": "2023-04-12T20:36:39.548306Z"
    },
    "papermill": {
     "duration": 4.080155,
     "end_time": "2023-04-12T20:36:39.552557",
     "exception": false,
     "start_time": "2023-04-12T20:36:35.472402",
     "status": "completed"
    },
    "tags": []
   },
   "outputs": [
    {
     "name": "stdout",
     "output_type": "stream",
     "text": [
      "#########################\n",
      "############### traininng model pipeline_svc with seed 0\n",
      "#########################\n"
     ]
    }
   ],
   "source": [
    "# with only calc and gravity feature\n",
    "train_temp = train.copy()\n",
    "X_temp = train[['calc', 'gravity']]\n",
    "y_temp = train['target']\n",
    "features_temp = X.columns.tolist()\n",
    "\n",
    "\n",
    "pipe = Pipeline(steps=[\n",
    "    (\"scale\", StandardScaler()),\n",
    "    (\"model\", SVC(probability=True, random_state=0))\n",
    "])\n",
    "\n",
    "_pipes_temp, _oof_preds_temp, _train_score_temp, _oof_score_temp = evaluate_model(f\"pipeline_svc\", pipe, X_temp, y_temp, features_temp,\n",
    "                                         use_original=False,\n",
    "                                         n_splits=n_splits, random_state_list=random_states, use_loocv=False)"
   ]
  },
  {
   "cell_type": "code",
   "execution_count": 10,
   "id": "fec43de9",
   "metadata": {
    "execution": {
     "iopub.execute_input": "2023-04-12T20:36:39.571411Z",
     "iopub.status.busy": "2023-04-12T20:36:39.570993Z",
     "iopub.status.idle": "2023-04-12T20:36:39.578482Z",
     "shell.execute_reply": "2023-04-12T20:36:39.577334Z"
    },
    "papermill": {
     "duration": 0.019697,
     "end_time": "2023-04-12T20:36:39.581100",
     "exception": false,
     "start_time": "2023-04-12T20:36:39.561403",
     "status": "completed"
    },
    "tags": []
   },
   "outputs": [
    {
     "data": {
      "text/plain": [
       "0.7890595463137996"
      ]
     },
     "execution_count": 10,
     "metadata": {},
     "output_type": "execute_result"
    }
   ],
   "source": [
    "# with calc and gravity\n",
    "_oof_score_temp"
   ]
  },
  {
   "cell_type": "code",
   "execution_count": 11,
   "id": "4578332f",
   "metadata": {
    "execution": {
     "iopub.execute_input": "2023-04-12T20:36:39.599639Z",
     "iopub.status.busy": "2023-04-12T20:36:39.599199Z",
     "iopub.status.idle": "2023-04-12T20:36:44.310970Z",
     "shell.execute_reply": "2023-04-12T20:36:44.309780Z"
    },
    "papermill": {
     "duration": 4.72462,
     "end_time": "2023-04-12T20:36:44.314136",
     "exception": false,
     "start_time": "2023-04-12T20:36:39.589516",
     "status": "completed"
    },
    "tags": []
   },
   "outputs": [
    {
     "name": "stdout",
     "output_type": "stream",
     "text": [
      "#########################\n",
      "############### traininng model pipeline_svc with seed 0\n",
      "#########################\n"
     ]
    }
   ],
   "source": [
    "from sklearn.preprocessing import PolynomialFeatures\n",
    "# with only calc and gravity feature but polynomial features included\n",
    "train_temp = train.copy()\n",
    "\n",
    "X_temp = train[['calc', 'gravity']]\n",
    "y_temp = train_temp['target']\n",
    "features_temp = train_temp.columns.tolist()\n",
    "\n",
    "\n",
    "poly = ColumnTransformer(transformers=[(\"poly\", PolynomialFeatures(degree=2, include_bias=False, interaction_only=True),\n",
    "                                               ['calc', 'gravity'])],\n",
    "                                         remainder='passthrough')\n",
    "\n",
    "pipe = make_pipeline(poly, StandardScaler(), SVC(probability=True, random_state=0))\n",
    "\n",
    "_pipes_temp, _oof_preds_temp, _train_score_temp, _oof_score_temp = evaluate_model(f\"pipeline_svc\", pipe, X_temp, y_temp, features_temp,\n",
    "                                         use_original=False,\n",
    "                                         n_splits=n_splits, random_state_list=random_states, use_loocv=False)"
   ]
  },
  {
   "cell_type": "code",
   "execution_count": 12,
   "id": "e31692e4",
   "metadata": {
    "execution": {
     "iopub.execute_input": "2023-04-12T20:36:44.332341Z",
     "iopub.status.busy": "2023-04-12T20:36:44.331938Z",
     "iopub.status.idle": "2023-04-12T20:36:44.338755Z",
     "shell.execute_reply": "2023-04-12T20:36:44.337639Z"
    },
    "papermill": {
     "duration": 0.018684,
     "end_time": "2023-04-12T20:36:44.341088",
     "exception": false,
     "start_time": "2023-04-12T20:36:44.322404",
     "status": "completed"
    },
    "tags": []
   },
   "outputs": [
    {
     "data": {
      "text/plain": [
       "0.7926275992438563"
      ]
     },
     "execution_count": 12,
     "metadata": {},
     "output_type": "execute_result"
    }
   ],
   "source": [
    "# with only calc and gravity feature but polynomial features included interation=True, bias=False\n",
    "_oof_score_temp"
   ]
  },
  {
   "cell_type": "code",
   "execution_count": 13,
   "id": "391984ba",
   "metadata": {
    "execution": {
     "iopub.execute_input": "2023-04-12T20:36:44.359713Z",
     "iopub.status.busy": "2023-04-12T20:36:44.359284Z",
     "iopub.status.idle": "2023-04-12T20:36:48.877240Z",
     "shell.execute_reply": "2023-04-12T20:36:48.875872Z"
    },
    "papermill": {
     "duration": 4.530699,
     "end_time": "2023-04-12T20:36:48.880081",
     "exception": false,
     "start_time": "2023-04-12T20:36:44.349382",
     "status": "completed"
    },
    "tags": []
   },
   "outputs": [
    {
     "name": "stdout",
     "output_type": "stream",
     "text": [
      "#########################\n",
      "############### traininng model pipeline_svc with seed 0\n",
      "#########################\n"
     ]
    }
   ],
   "source": [
    "train_temp = train.copy()\n",
    "# features calc, cond\n",
    "X_temp = train[['calc', 'cond']]\n",
    "y_temp = train['target']\n",
    "features_temp = X_temp.columns.tolist()\n",
    "\n",
    "\n",
    "poly = ColumnTransformer(transformers=[(\"poly\", PolynomialFeatures(degree=2, include_bias=False, interaction_only=True),\n",
    "                                               ['calc', 'cond'])],\n",
    "                                         remainder='passthrough')\n",
    "\n",
    "pipe = make_pipeline(poly, StandardScaler(), SVC(probability=True, random_state=0))\n",
    "\n",
    "_pipes_temp, _oof_preds_temp, _train_score_temp, _oof_score_temp = evaluate_model(f\"pipeline_svc\", pipe, X_temp, y_temp, features_temp,\n",
    "                                         use_original=False,\n",
    "                                         n_splits=n_splits, random_state_list=random_states, use_loocv=False)"
   ]
  },
  {
   "cell_type": "code",
   "execution_count": 14,
   "id": "06ebb7e1",
   "metadata": {
    "execution": {
     "iopub.execute_input": "2023-04-12T20:36:48.899665Z",
     "iopub.status.busy": "2023-04-12T20:36:48.899188Z",
     "iopub.status.idle": "2023-04-12T20:36:48.907057Z",
     "shell.execute_reply": "2023-04-12T20:36:48.905804Z"
    },
    "papermill": {
     "duration": 0.020632,
     "end_time": "2023-04-12T20:36:48.909517",
     "exception": false,
     "start_time": "2023-04-12T20:36:48.888885",
     "status": "completed"
    },
    "tags": []
   },
   "outputs": [
    {
     "data": {
      "text/plain": [
       "0.7950259924385633"
      ]
     },
     "execution_count": 14,
     "metadata": {},
     "output_type": "execute_result"
    }
   ],
   "source": [
    "# with only calc and cond\n",
    "_oof_score_temp"
   ]
  },
  {
   "cell_type": "code",
   "execution_count": 15,
   "id": "f9f53fbc",
   "metadata": {
    "execution": {
     "iopub.execute_input": "2023-04-12T20:36:48.929435Z",
     "iopub.status.busy": "2023-04-12T20:36:48.929006Z",
     "iopub.status.idle": "2023-04-12T20:36:48.934834Z",
     "shell.execute_reply": "2023-04-12T20:36:48.933494Z"
    },
    "papermill": {
     "duration": 0.018938,
     "end_time": "2023-04-12T20:36:48.937402",
     "exception": false,
     "start_time": "2023-04-12T20:36:48.918464",
     "status": "completed"
    },
    "tags": []
   },
   "outputs": [],
   "source": [
    "from sklearn.preprocessing import OneHotEncoder"
   ]
  },
  {
   "cell_type": "code",
   "execution_count": 16,
   "id": "aae56e87",
   "metadata": {
    "execution": {
     "iopub.execute_input": "2023-04-12T20:36:48.958055Z",
     "iopub.status.busy": "2023-04-12T20:36:48.957075Z",
     "iopub.status.idle": "2023-04-12T20:36:48.962945Z",
     "shell.execute_reply": "2023-04-12T20:36:48.961956Z"
    },
    "papermill": {
     "duration": 0.018761,
     "end_time": "2023-04-12T20:36:48.965149",
     "exception": false,
     "start_time": "2023-04-12T20:36:48.946388",
     "status": "completed"
    },
    "tags": []
   },
   "outputs": [],
   "source": [
    "# train_temp = train.copy()\n",
    "# # features calc, cond\n",
    "# X_temp = train[['calc', 'cond', 'urea']]\n",
    "# X_temp['urea'] = pd.qcut(train['urea'], q=10)\n",
    "# y_temp = train['target']\n",
    "# features_temp = X_temp.columns.tolist()\n",
    "\n",
    "# transformers = ColumnTransformer(transformers=[(\"poly\", make_pipeline(PolynomialFeatures(degree=2, include_bias=False, interaction_only=True), \n",
    "#                                                         StandardScaler()),['calc', 'cond']), \n",
    "#                                                    ('ohe', OneHotEncoder(sparse=False, drop='first'), ['urea'])],\n",
    "#                                                  remainder='passthrough')\n",
    "\n",
    "# pipe = make_pipeline(transformers, SVC(probability=True, random_state=0))\n",
    "\n",
    "\n",
    "# _pipes_temp, _oof_preds_temp, _train_score_temp, _oof_score_temp = evaluate_model(f\"pipeline_svc\", pipe, X_temp, y_temp, features_temp,\n",
    "#                                          use_original=False,\n",
    "#                                          n_splits=n_splits, random_state_list=random_states, use_loocv=False)"
   ]
  },
  {
   "cell_type": "markdown",
   "id": "2dffaf4e",
   "metadata": {
    "papermill": {
     "duration": 0.008474,
     "end_time": "2023-04-12T20:36:48.982127",
     "exception": false,
     "start_time": "2023-04-12T20:36:48.973653",
     "status": "completed"
    },
    "tags": []
   },
   "source": [
    "****Hyperparamter Tuning for SVC****"
   ]
  },
  {
   "cell_type": "code",
   "execution_count": 17,
   "id": "3cf3e961",
   "metadata": {
    "execution": {
     "iopub.execute_input": "2023-04-12T20:36:49.002368Z",
     "iopub.status.busy": "2023-04-12T20:36:49.001904Z",
     "iopub.status.idle": "2023-04-12T20:36:54.269731Z",
     "shell.execute_reply": "2023-04-12T20:36:54.268579Z"
    },
    "papermill": {
     "duration": 5.280836,
     "end_time": "2023-04-12T20:36:54.272198",
     "exception": false,
     "start_time": "2023-04-12T20:36:48.991362",
     "status": "completed"
    },
    "tags": []
   },
   "outputs": [
    {
     "name": "stdout",
     "output_type": "stream",
     "text": [
      "#########################\n",
      "############### traininng model pipeline_svc with seed 0\n",
      "#########################\n"
     ]
    },
    {
     "data": {
      "text/plain": [
       "0.7886578449905481"
      ]
     },
     "execution_count": 17,
     "metadata": {},
     "output_type": "execute_result"
    }
   ],
   "source": [
    "train_temp = train.copy()\n",
    "# features calc, cond\n",
    "X_temp = train[['calc', 'cond']]\n",
    "y_temp = train['target']\n",
    "features_temp = X_temp.columns.tolist()\n",
    "\n",
    "\n",
    "poly = ColumnTransformer(transformers=[(\"poly\", PolynomialFeatures(degree=2, include_bias=False, interaction_only=False),\n",
    "                                               ['calc', 'cond'])],\n",
    "                                         remainder='passthrough')\n",
    "\n",
    "pipe = make_pipeline(poly, StandardScaler(), SVC(probability=True, random_state=0, C=0.09))\n",
    "\n",
    "_pipes_temp, _oof_preds_temp, _train_score_temp, _oof_score_temp = evaluate_model(f\"pipeline_svc\", pipe, X_temp, y_temp, features_temp,\n",
    "                                         use_original=False,\n",
    "                                         n_splits=n_splits, random_state_list=random_states, use_loocv=False)\n",
    "\n",
    "_oof_score_temp"
   ]
  },
  {
   "cell_type": "code",
   "execution_count": 18,
   "id": "b42fa8bf",
   "metadata": {
    "execution": {
     "iopub.execute_input": "2023-04-12T20:36:54.291973Z",
     "iopub.status.busy": "2023-04-12T20:36:54.291549Z",
     "iopub.status.idle": "2023-04-12T20:36:59.767511Z",
     "shell.execute_reply": "2023-04-12T20:36:59.766169Z"
    },
    "papermill": {
     "duration": 5.488688,
     "end_time": "2023-04-12T20:36:59.770029",
     "exception": false,
     "start_time": "2023-04-12T20:36:54.281341",
     "status": "completed"
    },
    "tags": []
   },
   "outputs": [
    {
     "name": "stdout",
     "output_type": "stream",
     "text": [
      "#########################\n",
      "############### traininng model pipeline_svc with seed 0\n",
      "#########################\n"
     ]
    },
    {
     "data": {
      "text/plain": [
       "0.8007088846880908"
      ]
     },
     "execution_count": 18,
     "metadata": {},
     "output_type": "execute_result"
    }
   ],
   "source": [
    "train_temp = train.copy()\n",
    "# features calc, cond\n",
    "X_temp = train[['calc', 'cond', 'gravity', 'ph']]\n",
    "y_temp = train['target']\n",
    "features_temp = X_temp.columns.tolist()\n",
    "\n",
    "\n",
    "poly = ColumnTransformer(transformers=[(\"poly\", PolynomialFeatures(degree=2, include_bias=False, interaction_only=True),\n",
    "                                               ['calc', 'cond'])],\n",
    "                                         remainder='passthrough')\n",
    "\n",
    "pipe = make_pipeline(poly, StandardScaler(), SVC(probability=True, random_state=0, kernel='rbf', C=0.1))\n",
    "\n",
    "_pipes_temp, _oof_preds_temp, _train_score_temp, _oof_score_temp = evaluate_model(f\"pipeline_svc\", pipe, X_temp, y_temp, features_temp,\n",
    "                                         use_original=False,\n",
    "                                         n_splits=n_splits, random_state_list=random_states, use_loocv=False)\n",
    "\n",
    "_oof_score_temp\n",
    "\n",
    "# best till now"
   ]
  },
  {
   "cell_type": "code",
   "execution_count": 19,
   "id": "1b4ea762",
   "metadata": {
    "execution": {
     "iopub.execute_input": "2023-04-12T20:36:59.790171Z",
     "iopub.status.busy": "2023-04-12T20:36:59.789742Z",
     "iopub.status.idle": "2023-04-12T20:37:06.133167Z",
     "shell.execute_reply": "2023-04-12T20:37:06.132117Z"
    },
    "papermill": {
     "duration": 6.356497,
     "end_time": "2023-04-12T20:37:06.135712",
     "exception": false,
     "start_time": "2023-04-12T20:36:59.779215",
     "status": "completed"
    },
    "tags": []
   },
   "outputs": [
    {
     "name": "stdout",
     "output_type": "stream",
     "text": [
      "#########################\n",
      "############### traininng model pipeline_svc with seed 0\n",
      "#########################\n"
     ]
    },
    {
     "data": {
      "text/plain": [
       "0.7968809073724008"
      ]
     },
     "execution_count": 19,
     "metadata": {},
     "output_type": "execute_result"
    }
   ],
   "source": [
    "train_temp = train.copy()\n",
    "# features calc, c\n",
    "X_temp = train[['calc', 'cond', 'gravity', 'ph']]\n",
    "y_temp = train['target']\n",
    "features_temp = X_temp.columns.tolist()\n",
    "\n",
    "\n",
    "poly = ColumnTransformer(transformers=[(\"poly\", PolynomialFeatures(degree=2, include_bias=False, interaction_only=True),\n",
    "                                               ['calc', 'cond', 'gravity'])],\n",
    "                                         remainder='passthrough')\n",
    "\n",
    "pipe = make_pipeline(poly, StandardScaler(), SVC(probability=True, random_state=0, kernel='rbf', C=0.01))\n",
    "\n",
    "_pipes_temp, _oof_preds_temp, _train_score_temp, _oof_score_temp = evaluate_model(f\"pipeline_svc\", pipe, X_temp, y_temp, features_temp,\n",
    "                                         use_original=False,\n",
    "                                         n_splits=n_splits, random_state_list=random_states, use_loocv=False)\n",
    "\n",
    "_oof_score_temp"
   ]
  },
  {
   "cell_type": "code",
   "execution_count": null,
   "id": "193e1e55",
   "metadata": {
    "papermill": {
     "duration": 0.008671,
     "end_time": "2023-04-12T20:37:06.153600",
     "exception": false,
     "start_time": "2023-04-12T20:37:06.144929",
     "status": "completed"
    },
    "tags": []
   },
   "outputs": [],
   "source": []
  },
  {
   "cell_type": "code",
   "execution_count": 20,
   "id": "3a0f4cdd",
   "metadata": {
    "execution": {
     "iopub.execute_input": "2023-04-12T20:37:06.173514Z",
     "iopub.status.busy": "2023-04-12T20:37:06.173063Z",
     "iopub.status.idle": "2023-04-12T20:37:13.379108Z",
     "shell.execute_reply": "2023-04-12T20:37:13.377752Z"
    },
    "papermill": {
     "duration": 7.219132,
     "end_time": "2023-04-12T20:37:13.381668",
     "exception": false,
     "start_time": "2023-04-12T20:37:06.162536",
     "status": "completed"
    },
    "tags": []
   },
   "outputs": [
    {
     "name": "stdout",
     "output_type": "stream",
     "text": [
      "#########################\n",
      "############### traininng model pipeline_svc with seed 0\n",
      "#########################\n"
     ]
    },
    {
     "data": {
      "text/plain": [
       "0.8027646502835538"
      ]
     },
     "execution_count": 20,
     "metadata": {},
     "output_type": "execute_result"
    }
   ],
   "source": [
    "train_temp = train.copy()\n",
    "# features calc, cond\n",
    "X_temp = train[['calc', 'cond', 'urea', 'ph', 'gravity']]\n",
    "# X_temp['urea'] = pd.qcut(train['urea'], q=10)\n",
    "y_temp = train['target']\n",
    "features_temp = X_temp.columns.tolist()\n",
    "\n",
    "transformers = ColumnTransformer(transformers=[(\"poly\", make_pipeline(PolynomialFeatures(degree=2, include_bias=False, interaction_only=True), \n",
    "                                                        StandardScaler()),['calc', 'cond', 'gravity', 'ph']),\n",
    "                                                  ('scale', StandardScaler(), ['urea'])],\n",
    "                                                 remainder='passthrough')\n",
    "\n",
    "pipe = make_pipeline(transformers, SVC(probability=True, random_state=0, C=0.05))\n",
    "\n",
    "\n",
    "_pipes_temp, _oof_preds_temp, _train_score_temp, _oof_score_temp = evaluate_model(f\"pipeline_svc\", pipe, X_temp, y_temp, features_temp,\n",
    "                                         use_original=False,\n",
    "                                         n_splits=n_splits, random_state_list=random_states, use_loocv=False)\n",
    "\n",
    "_oof_score_temp\n",
    "# best till now"
   ]
  },
  {
   "cell_type": "code",
   "execution_count": 21,
   "id": "9ca859b0",
   "metadata": {
    "execution": {
     "iopub.execute_input": "2023-04-12T20:37:13.402167Z",
     "iopub.status.busy": "2023-04-12T20:37:13.401378Z",
     "iopub.status.idle": "2023-04-12T20:37:20.921896Z",
     "shell.execute_reply": "2023-04-12T20:37:20.920528Z"
    },
    "papermill": {
     "duration": 7.533808,
     "end_time": "2023-04-12T20:37:20.924587",
     "exception": false,
     "start_time": "2023-04-12T20:37:13.390779",
     "status": "completed"
    },
    "tags": []
   },
   "outputs": [
    {
     "name": "stdout",
     "output_type": "stream",
     "text": [
      "#########################\n",
      "############### traininng model pipeline_svc with seed 0\n",
      "#########################\n"
     ]
    },
    {
     "data": {
      "text/plain": [
       "0.7986767485822306"
      ]
     },
     "execution_count": 21,
     "metadata": {},
     "output_type": "execute_result"
    }
   ],
   "source": [
    "train_temp = train.copy()\n",
    "# features calc, cond\n",
    "X_temp = train[['calc', 'cond', 'urea', 'ph', 'gravity', 'osmo']]\n",
    "# X_temp['urea'] = pd.qcut(train['urea'], q=10)\n",
    "y_temp = train['target']\n",
    "features_temp = X_temp.columns.tolist()\n",
    "\n",
    "transformers = ColumnTransformer(transformers=[(\"poly\", make_pipeline(PolynomialFeatures(degree=2, include_bias=False, interaction_only=True), \n",
    "                                                        StandardScaler()),['calc', 'cond', 'gravity', 'ph']),\n",
    "                                                  ('scale', StandardScaler(), ['urea', 'osmo'])],\n",
    "                                                 remainder='passthrough')\n",
    "\n",
    "pipe = make_pipeline(transformers, SVC(probability=True, random_state=0, C=0.03))\n",
    "\n",
    "\n",
    "_pipes_temp, _oof_preds_temp, _train_score_temp, _oof_score_temp = evaluate_model(f\"pipeline_svc\", pipe, X_temp, y_temp, features_temp,\n",
    "                                         use_original=False,\n",
    "                                         n_splits=n_splits, random_state_list=random_states, use_loocv=False)\n",
    "\n",
    "_oof_score_temp"
   ]
  },
  {
   "cell_type": "markdown",
   "id": "4c12bd39",
   "metadata": {
    "papermill": {
     "duration": 0.008856,
     "end_time": "2023-04-12T20:37:20.942901",
     "exception": false,
     "start_time": "2023-04-12T20:37:20.934045",
     "status": "completed"
    },
    "tags": []
   },
   "source": [
    "Submit model"
   ]
  },
  {
   "cell_type": "code",
   "execution_count": 22,
   "id": "ef014dc2",
   "metadata": {
    "execution": {
     "iopub.execute_input": "2023-04-12T20:37:20.963610Z",
     "iopub.status.busy": "2023-04-12T20:37:20.963105Z",
     "iopub.status.idle": "2023-04-12T20:37:21.036031Z",
     "shell.execute_reply": "2023-04-12T20:37:21.035110Z"
    },
    "papermill": {
     "duration": 0.08702,
     "end_time": "2023-04-12T20:37:21.039126",
     "exception": false,
     "start_time": "2023-04-12T20:37:20.952106",
     "status": "completed"
    },
    "tags": []
   },
   "outputs": [],
   "source": [
    "X = train[['calc', 'cond', 'urea', 'ph', 'gravity']]\n",
    "y = train['target']\n",
    "features = X.columns.tolist()\n",
    "\n",
    "transformers = ColumnTransformer(transformers=[(\"poly\", make_pipeline(PolynomialFeatures(degree=2, include_bias=False, interaction_only=True), \n",
    "                                                        StandardScaler()),['calc', 'cond', 'gravity', 'ph']),\n",
    "                                                  ('scale', StandardScaler(), ['urea'])],\n",
    "                                                 remainder='passthrough')\n",
    "\n",
    "pipe = make_pipeline(transformers, SVC(probability=True, random_state=0, C=0.05))\n",
    "          \n",
    "pipe.fit(X, y)\n",
    "          \n",
    "preds = pipe.predict_proba(test[features])"
   ]
  },
  {
   "cell_type": "code",
   "execution_count": 23,
   "id": "6d3c4f59",
   "metadata": {
    "execution": {
     "iopub.execute_input": "2023-04-12T20:37:21.060720Z",
     "iopub.status.busy": "2023-04-12T20:37:21.059922Z",
     "iopub.status.idle": "2023-04-12T20:37:21.075020Z",
     "shell.execute_reply": "2023-04-12T20:37:21.073873Z"
    },
    "papermill": {
     "duration": 0.029516,
     "end_time": "2023-04-12T20:37:21.078327",
     "exception": false,
     "start_time": "2023-04-12T20:37:21.048811",
     "status": "completed"
    },
    "tags": []
   },
   "outputs": [],
   "source": [
    "svc_opt_df = pd.DataFrame()\n",
    "svc_opt_df['id'] = test['id']\n",
    "svc_opt_df['target'] = preds[:, 1]\n",
    "svc_opt_df.to_csv(\"svc_opt_df.csv\", index=False)"
   ]
  }
 ],
 "metadata": {
  "kernelspec": {
   "display_name": "Python 3",
   "language": "python",
   "name": "python3"
  },
  "language_info": {
   "codemirror_mode": {
    "name": "ipython",
    "version": 3
   },
   "file_extension": ".py",
   "mimetype": "text/x-python",
   "name": "python",
   "nbconvert_exporter": "python",
   "pygments_lexer": "ipython3",
   "version": "3.7.12"
  },
  "papermill": {
   "default_parameters": {},
   "duration": 78.719345,
   "end_time": "2023-04-12T20:37:23.726274",
   "environment_variables": {},
   "exception": null,
   "input_path": "__notebook__.ipynb",
   "output_path": "__notebook__.ipynb",
   "parameters": {},
   "start_time": "2023-04-12T20:36:05.006929",
   "version": "2.4.0"
  }
 },
 "nbformat": 4,
 "nbformat_minor": 5
}
