{
 "cells": [
  {
   "cell_type": "code",
   "execution_count": 1,
   "id": "76cc7fa9",
   "metadata": {
    "execution": {
     "iopub.execute_input": "2023-04-17T22:41:05.771656Z",
     "iopub.status.busy": "2023-04-17T22:41:05.770513Z",
     "iopub.status.idle": "2023-04-17T22:41:19.847066Z",
     "shell.execute_reply": "2023-04-17T22:41:19.845648Z"
    },
    "papermill": {
     "duration": 14.099322,
     "end_time": "2023-04-17T22:41:19.850217",
     "exception": false,
     "start_time": "2023-04-17T22:41:05.750895",
     "status": "completed"
    },
    "tags": []
   },
   "outputs": [
    {
     "data": {
      "text/html": [
       "<style type='text/css'>\n",
       ".datatable table.frame { margin-bottom: 0; }\n",
       ".datatable table.frame thead { border-bottom: none; }\n",
       ".datatable table.frame tr.coltypes td {  color: #FFFFFF;  line-height: 6px;  padding: 0 0.5em;}\n",
       ".datatable .bool    { background: #DDDD99; }\n",
       ".datatable .object  { background: #565656; }\n",
       ".datatable .int     { background: #5D9E5D; }\n",
       ".datatable .float   { background: #4040CC; }\n",
       ".datatable .str     { background: #CC4040; }\n",
       ".datatable .time    { background: #40CC40; }\n",
       ".datatable .row_index {  background: var(--jp-border-color3);  border-right: 1px solid var(--jp-border-color0);  color: var(--jp-ui-font-color3);  font-size: 9px;}\n",
       ".datatable .frame tbody td { text-align: left; }\n",
       ".datatable .frame tr.coltypes .row_index {  background: var(--jp-border-color0);}\n",
       ".datatable th:nth-child(2) { padding-left: 12px; }\n",
       ".datatable .hellipsis {  color: var(--jp-cell-editor-border-color);}\n",
       ".datatable .vellipsis {  background: var(--jp-layout-color0);  color: var(--jp-cell-editor-border-color);}\n",
       ".datatable .na {  color: var(--jp-cell-editor-border-color);  font-size: 80%;}\n",
       ".datatable .sp {  opacity: 0.25;}\n",
       ".datatable .footer { font-size: 9px; }\n",
       ".datatable .frame_dimensions {  background: var(--jp-border-color3);  border-top: 1px solid var(--jp-border-color0);  color: var(--jp-ui-font-color3);  display: inline-block;  opacity: 0.6;  padding: 1px 10px 1px 5px;}\n",
       "</style>\n"
      ],
      "text/plain": [
       "<IPython.core.display.HTML object>"
      ]
     },
     "metadata": {},
     "output_type": "display_data"
    }
   ],
   "source": [
    "import pandas as pd\n",
    "import numpy as np\n",
    "\n",
    "import seaborn as sns\n",
    "import matplotlib.pyplot as plt\n",
    "\n",
    "\n",
    "from sklearn.model_selection import cross_val_score, RepeatedStratifiedKFold, train_test_split, StratifiedKFold\n",
    "from lightgbm import LGBMClassifier\n",
    "from sklearn.metrics import RocCurveDisplay, auc\n",
    "from sklearn.decomposition import PCA\n",
    "from sklearn.metrics import roc_auc_score\n",
    "\n",
    "\n",
    "from sklearn.pipeline import Pipeline\n",
    "from copy import deepcopy\n",
    "\n",
    "\n",
    "from sklearn.linear_model import LogisticRegression\n",
    "from sklearn.svm import SVC\n",
    "from sklearn.neighbors import KNeighborsClassifier\n",
    "from sklearn.ensemble import RandomForestClassifier, AdaBoostClassifier, GradientBoostingClassifier\n",
    "from xgboost import XGBClassifier\n",
    "from lightgbm import LGBMClassifier\n",
    "from catboost import CatBoostClassifier\n",
    "from eli5.sklearn import PermutationImportance\n",
    "import eli5\n",
    "from sklearn.inspection import PartialDependenceDisplay\n",
    "from sklearn.preprocessing import StandardScaler\n",
    "\n",
    "from path import Path\n",
    "import warnings \n",
    "warnings.filterwarnings('ignore') # supress warnings\n"
   ]
  },
  {
   "cell_type": "code",
   "execution_count": 2,
   "id": "13c63465",
   "metadata": {
    "execution": {
     "iopub.execute_input": "2023-04-17T22:41:19.886864Z",
     "iopub.status.busy": "2023-04-17T22:41:19.884541Z",
     "iopub.status.idle": "2023-04-17T22:41:19.968363Z",
     "shell.execute_reply": "2023-04-17T22:41:19.966801Z"
    },
    "papermill": {
     "duration": 0.104356,
     "end_time": "2023-04-17T22:41:19.971232",
     "exception": false,
     "start_time": "2023-04-17T22:41:19.866876",
     "status": "completed"
    },
    "tags": []
   },
   "outputs": [
    {
     "data": {
      "text/html": [
       "<div>\n",
       "<style scoped>\n",
       "    .dataframe tbody tr th:only-of-type {\n",
       "        vertical-align: middle;\n",
       "    }\n",
       "\n",
       "    .dataframe tbody tr th {\n",
       "        vertical-align: top;\n",
       "    }\n",
       "\n",
       "    .dataframe thead th {\n",
       "        text-align: right;\n",
       "    }\n",
       "</style>\n",
       "<table border=\"1\" class=\"dataframe\">\n",
       "  <thead>\n",
       "    <tr style=\"text-align: right;\">\n",
       "      <th></th>\n",
       "      <th>id</th>\n",
       "      <th>gravity</th>\n",
       "      <th>ph</th>\n",
       "      <th>osmo</th>\n",
       "      <th>cond</th>\n",
       "      <th>urea</th>\n",
       "      <th>calc</th>\n",
       "      <th>target</th>\n",
       "    </tr>\n",
       "  </thead>\n",
       "  <tbody>\n",
       "    <tr>\n",
       "      <th>0</th>\n",
       "      <td>0</td>\n",
       "      <td>1.013</td>\n",
       "      <td>6.19</td>\n",
       "      <td>443</td>\n",
       "      <td>14.8</td>\n",
       "      <td>124</td>\n",
       "      <td>1.45</td>\n",
       "      <td>0</td>\n",
       "    </tr>\n",
       "    <tr>\n",
       "      <th>1</th>\n",
       "      <td>1</td>\n",
       "      <td>1.025</td>\n",
       "      <td>5.40</td>\n",
       "      <td>703</td>\n",
       "      <td>23.6</td>\n",
       "      <td>394</td>\n",
       "      <td>4.18</td>\n",
       "      <td>0</td>\n",
       "    </tr>\n",
       "    <tr>\n",
       "      <th>2</th>\n",
       "      <td>2</td>\n",
       "      <td>1.009</td>\n",
       "      <td>6.13</td>\n",
       "      <td>371</td>\n",
       "      <td>24.5</td>\n",
       "      <td>159</td>\n",
       "      <td>9.04</td>\n",
       "      <td>0</td>\n",
       "    </tr>\n",
       "    <tr>\n",
       "      <th>3</th>\n",
       "      <td>3</td>\n",
       "      <td>1.021</td>\n",
       "      <td>4.91</td>\n",
       "      <td>442</td>\n",
       "      <td>20.8</td>\n",
       "      <td>398</td>\n",
       "      <td>6.63</td>\n",
       "      <td>1</td>\n",
       "    </tr>\n",
       "    <tr>\n",
       "      <th>4</th>\n",
       "      <td>4</td>\n",
       "      <td>1.021</td>\n",
       "      <td>5.53</td>\n",
       "      <td>874</td>\n",
       "      <td>17.8</td>\n",
       "      <td>385</td>\n",
       "      <td>2.21</td>\n",
       "      <td>1</td>\n",
       "    </tr>\n",
       "  </tbody>\n",
       "</table>\n",
       "</div>"
      ],
      "text/plain": [
       "   id  gravity    ph  osmo  cond  urea  calc  target\n",
       "0   0    1.013  6.19   443  14.8   124  1.45       0\n",
       "1   1    1.025  5.40   703  23.6   394  4.18       0\n",
       "2   2    1.009  6.13   371  24.5   159  9.04       0\n",
       "3   3    1.021  4.91   442  20.8   398  6.63       1\n",
       "4   4    1.021  5.53   874  17.8   385  2.21       1"
      ]
     },
     "execution_count": 2,
     "metadata": {},
     "output_type": "execute_result"
    }
   ],
   "source": [
    "# loading datasets\n",
    "path = Path(\"/kaggle/input/playground-series-s3e12\")\n",
    "\n",
    "train = pd.read_csv(path / \"train.csv\")\n",
    "test = pd.read_csv(path / \"test.csv\")\n",
    "sub = pd.read_csv(path / \"sample_submission.csv\")\n",
    "original = pd.read_csv(\"/kaggle/input/kidney-stone-prediction-based-on-urine-analysis/kindey stone urine analysis.csv\")\n",
    "original = original[train.drop('id', axis=1).columns.tolist()]\n",
    "\n",
    "original = original.drop([5, 32]).reindex()\n",
    "\n",
    "\n",
    "train.head()"
   ]
  },
  {
   "cell_type": "code",
   "execution_count": 3,
   "id": "b6ed2927",
   "metadata": {
    "execution": {
     "iopub.execute_input": "2023-04-17T22:41:20.008395Z",
     "iopub.status.busy": "2023-04-17T22:41:20.007469Z",
     "iopub.status.idle": "2023-04-17T22:41:20.520406Z",
     "shell.execute_reply": "2023-04-17T22:41:20.518886Z"
    },
    "papermill": {
     "duration": 0.53539,
     "end_time": "2023-04-17T22:41:20.523383",
     "exception": false,
     "start_time": "2023-04-17T22:41:19.987993",
     "status": "completed"
    },
    "tags": []
   },
   "outputs": [
    {
     "data": {
      "text/plain": [
       "<AxesSubplot:xlabel='calc', ylabel='count'>"
      ]
     },
     "execution_count": 3,
     "metadata": {},
     "output_type": "execute_result"
    },
    {
     "data": {
      "image/png": "[encoded data removed]",
      "text/plain": [
       "<Figure size 640x480 with 1 Axes>"
      ]
     },
     "metadata": {},
     "output_type": "display_data"
    }
   ],
   "source": [
    "freq = train.groupby('calc').target.agg({'count', 'mean'})\n",
    "\n",
    "sns.scatterplot(x=freq.index, y=freq['count'], hue=freq['mean'], size=freq['mean'], palette='Greens')"
   ]
  },
  {
   "cell_type": "code",
   "execution_count": 4,
   "id": "edca37e4",
   "metadata": {
    "execution": {
     "iopub.execute_input": "2023-04-17T22:41:20.561189Z",
     "iopub.status.busy": "2023-04-17T22:41:20.560396Z",
     "iopub.status.idle": "2023-04-17T22:41:20.897898Z",
     "shell.execute_reply": "2023-04-17T22:41:20.896231Z"
    },
    "papermill": {
     "duration": 0.359203,
     "end_time": "2023-04-17T22:41:20.901076",
     "exception": false,
     "start_time": "2023-04-17T22:41:20.541873",
     "status": "completed"
    },
    "tags": []
   },
   "outputs": [
    {
     "data": {
      "text/plain": [
       "<AxesSubplot:xlabel='calc', ylabel='Count'>"
      ]
     },
     "execution_count": 4,
     "metadata": {},
     "output_type": "execute_result"
    },
    {
     "data": {
      "image/png": "[encoded data removed]",
      "text/plain": [
       "<Figure size 640x480 with 1 Axes>"
      ]
     },
     "metadata": {},
     "output_type": "display_data"
    }
   ],
   "source": [
    "sns.histplot(data=train, x='calc', hue='target', bins=int(np.ceil(np.log2(len(train))+1)))"
   ]
  },
  {
   "cell_type": "code",
   "execution_count": 5,
   "id": "8b16a864",
   "metadata": {
    "_cell_guid": "b1076dfc-b9ad-4769-8c92-a6c4dae69d19",
    "_uuid": "8f2839f25d086af736a60e9eeb907d3b93b6e0e5",
    "execution": {
     "iopub.execute_input": "2023-04-17T22:41:20.939687Z",
     "iopub.status.busy": "2023-04-17T22:41:20.939166Z",
     "iopub.status.idle": "2023-04-17T22:41:20.974323Z",
     "shell.execute_reply": "2023-04-17T22:41:20.972928Z"
    },
    "jupyter": {
     "source_hidden": true
    },
    "papermill": {
     "duration": 0.057934,
     "end_time": "2023-04-17T22:41:20.977229",
     "exception": false,
     "start_time": "2023-04-17T22:41:20.919295",
     "status": "completed"
    },
    "tags": []
   },
   "outputs": [],
   "source": [
    "#  plot correaltion        \n",
    "def plot_corr(df, features, target, sort=False, method='pearson', figsize=(13, 8), use_mask=True, mask_type=\"triu\", **kwargs):\n",
    "    \"\"\"Plot correlation given dataset and features names\"\"\"\n",
    "    plt.figure(figsize=figsize) # sets figure size\n",
    "    corr = df[features].corr(method=method) # calculates correlation based on the features and method provied\n",
    "    target_values = corr[target]\n",
    "    features.remove(target)\n",
    "    corr = corr[features]\n",
    "    \n",
    "    corr = pd.concat([corr, target_values], axis=1)\n",
    "    \n",
    "    if sort: # if sort is true then sort the correlation matrix\n",
    "        corr = corr.sort_values(by=target)\n",
    "    if use_mask: # if uses_mask = True\n",
    "        if mask_type == 'triu': # sets mask type to lower trigonal\n",
    "            mask = np.triu(np.ones(corr.shape)) \n",
    "        else:   # sets mask type to upper trigonal\n",
    "            mask = np.tril(np.ones(corr.shape))\n",
    "        sns.heatmap(corr, annot=True, mask=mask, **kwargs)\n",
    "        \n",
    "    else: # if uses mask is not true\n",
    "         sns.heatmap(corr, annot=True, **kwargs)       \n",
    "\n",
    "    plt.title('Correlation between features')\n",
    "\n",
    "    \n",
    "    \n",
    "def submission_csv(_model, _train, _test, features):\n",
    "    X_train = _train.drop(['id', 'target'], axis=1)[features]\n",
    "    y_train = _train['target']\n",
    "    X_test = _test.drop('id', axis=1)\n",
    "    \n",
    "    _model.fit(X_train, y_train)\n",
    "    \n",
    "    preds = _model.predict_proba(X_test)[:, 1]\n",
    "    \n",
    "    df = pd.DataFrame()\n",
    "    df['id'] = _test['id']\n",
    "    df['target'] = preds\n",
    "    \n",
    "    return \n",
    "\n",
    "\n",
    "\n",
    "def plot_importance(models, X_test, title=\"\"):\n",
    "#     taken from https://www.kaggle.com/code/shoabahamed/ps3e9-eda-and-gbdt-catboost-median-duplicatedata/edit\n",
    "    \"\"\"Plots features importance given models and train set\"\"\"\n",
    "    features = X_test.columns.tolist()\n",
    "    feature_importance = pd.DataFrame()\n",
    "    for model in models:\n",
    "        _df = pd.DataFrame()\n",
    "        _df['importance'] = model.feature_importances_\n",
    "        _df[\"features\"] = pd.Series(features)\n",
    "        _df = _df.sort_values(by='importance', ascending=False)\n",
    "        feature_importance = pd.concat([feature_importance, _df])\n",
    "        \n",
    "                \n",
    "    feature_importance = feature_importance.sort_values('importance', ascending=False)\n",
    "    plt.figure(figsize=(16, 10))\n",
    "    ax = sns.barplot(x='importance', y='features', data=feature_importance, color='skyblue', errorbar='sd')\n",
    "    \n",
    "    for i in ax.containers:\n",
    "        ax.bar_label(i,)\n",
    "    \n",
    "   \n",
    "    plt.xlabel('Importance', fontsize=14)\n",
    "    plt.ylabel('Feature', fontsize=14)\n",
    "    plt.title(f\"{title} Feature Importances\", fontsize=18)\n",
    "    plt.grid(True, axis='x')\n",
    "    plt.show()\n",
    "    \n",
    "    return feature_importance\n",
    "\n",
    "\n",
    "class Splitter:\n",
    "    \"\"\"A splitter class which splits the X, y using the split_data function with a random state provided. It yeilds \\\n",
    "    X_train, X_val, y_train, y_val, train_idx, val_idx in the end.\\\n",
    "    code from  https://www.kaggle.com/code/tetsutani/ps3e9-eda-and-gbdt-catboost-median-duplicatedata wit little bit of modification \"\"\"\n",
    "\n",
    "    def __init__(self, test_size=0.2, kfold=True, n_splits=5, use_loocv=False):\n",
    "        self.test_size = test_size # set test size\n",
    "        self.kfold = kfold  # wheter to just split the data in two or use kfold\n",
    "        self.n_splits= n_splits \n",
    "        self.use_loocv = use_loocv\n",
    "        \n",
    "    def split_data(self, X, y, random_state):\n",
    "        if self.kfold:\n",
    "            if self.use_loocv:\n",
    "                kf = LeaveOneOut()\n",
    "            else:\n",
    "                kf = StratifiedKFold(n_splits=self.n_splits, random_state=random_state, shuffle=True)\n",
    "            for train_idx, val_idx in kf.split(X, y):\n",
    "                X_train, X_val = X.iloc[train_idx], X.iloc[val_idx]\n",
    "                y_train, y_val = y.iloc[train_idx], y.iloc[val_idx]\n",
    "                yield X_train, X_val, y_train, y_val, train_idx, val_idx\n",
    "        else:\n",
    "            X_train, X_val, y_train, y_val = train_test_split(X, y, test_size=self.test_size, random_state=random_state)\n",
    "            yield X_train, X_val, y_train, y_val\n",
    "\n",
    "\n",
    "\n",
    "\n",
    "\n",
    "def evaluate_model(model_name, model_pipeline, _X, _y, features, original_data=None, use_original=False, n_splits=5, random_state_list=[0, 5, 10], use_loocv=False):\n",
    "    len_y = len(_y)\n",
    "    len_states = len(random_state_list)\n",
    "\n",
    "    oof_preds = np.zeros(len_y * len_states).reshape(len_states, len_y)\n",
    "    scores_train = []\n",
    "    model_pipelines = []\n",
    "\n",
    "    for index, random_state in enumerate(random_state_list):\n",
    "        print(\"#\"*25)\n",
    "        print(\"#\"*15, f\"traininng model {model_name} with seed {random_state}\")\n",
    "        print(\"#\"*25)\n",
    "        splitter = Splitter(n_splits=n_splits, use_loocv=use_loocv)\n",
    "        splits = 0\n",
    "        for X_train, X_val, y_train, y_val, train_idx, val_idx in splitter.split_data(_X, _y, random_state):\n",
    "            if use_original: # we will only use original data for training not testing\n",
    "                target = 'target'\n",
    "                X_train = pd.concat([X_train, original_data.drop(target, axis=1)]) \n",
    "                y_train = pd.concat([y_train, original_data[target]])  \n",
    "\n",
    "            model_pipeline.fit(X_train, y_train)\n",
    "            if model_name.find('gam') != -1:\n",
    "                oof_preds[index, val_idx] = model_pipeline.predict_proba(X_val).squeeze()\n",
    "                score_train = roc_auc_score(y_train, model_pipeline.predict_proba(X_train))\n",
    "            else:\n",
    "                oof_preds[index, val_idx] = model_pipeline.predict_proba(X_val)[:, 1].squeeze()\n",
    "                score_train = roc_auc_score(y_train, model_pipeline.predict_proba(X_train)[:, 1])\n",
    "                \n",
    "            scores_train.append(score_train)\n",
    "            model_pipelines.append(deepcopy(model_pipeline))\n",
    "\n",
    "            \n",
    "    oof_preds_mean = oof_preds.mean(axis=0)\n",
    "\n",
    "    return model_pipelines, oof_preds_mean, np.mean(scores_train), roc_auc_score(_y, oof_preds.mean(axis=0))\n",
    "\n",
    "\n",
    "def predict_test(model_pipeline, X_test):\n",
    "    test_preds = model_pipeline.predict_proba(X_test)[:, 1]\n",
    "    return test_preds\n"
   ]
  },
  {
   "cell_type": "markdown",
   "id": "641c0181",
   "metadata": {
    "papermill": {
     "duration": 0.018427,
     "end_time": "2023-04-17T22:41:21.013002",
     "exception": false,
     "start_time": "2023-04-17T22:41:20.994575",
     "status": "completed"
    },
    "tags": []
   },
   "source": [
    "# SVC\n",
    "\n",
    "have the mindset that only some features would be better for particular models. Here we will only try to find the best features for SVC"
   ]
  },
  {
   "cell_type": "markdown",
   "id": "6538607a",
   "metadata": {
    "papermill": {
     "duration": 0.016985,
     "end_time": "2023-04-17T22:41:21.047495",
     "exception": false,
     "start_time": "2023-04-17T22:41:21.030510",
     "status": "completed"
    },
    "tags": []
   },
   "source": [
    "****Baseline SVC score****"
   ]
  },
  {
   "cell_type": "code",
   "execution_count": 6,
   "id": "8242c6b1",
   "metadata": {
    "execution": {
     "iopub.execute_input": "2023-04-17T22:41:21.084883Z",
     "iopub.status.busy": "2023-04-17T22:41:21.084376Z",
     "iopub.status.idle": "2023-04-17T22:41:21.103034Z",
     "shell.execute_reply": "2023-04-17T22:41:21.101291Z"
    },
    "papermill": {
     "duration": 0.040834,
     "end_time": "2023-04-17T22:41:21.105930",
     "exception": false,
     "start_time": "2023-04-17T22:41:21.065096",
     "status": "completed"
    },
    "tags": []
   },
   "outputs": [],
   "source": [
    "from sklearn.pipeline import make_pipeline\n",
    "from sklearn.compose import ColumnTransformer"
   ]
  },
  {
   "cell_type": "code",
   "execution_count": 7,
   "id": "c5a2a7ed",
   "metadata": {
    "execution": {
     "iopub.execute_input": "2023-04-17T22:41:21.143607Z",
     "iopub.status.busy": "2023-04-17T22:41:21.143211Z",
     "iopub.status.idle": "2023-04-17T22:41:26.041189Z",
     "shell.execute_reply": "2023-04-17T22:41:26.039660Z"
    },
    "papermill": {
     "duration": 4.920462,
     "end_time": "2023-04-17T22:41:26.044442",
     "exception": false,
     "start_time": "2023-04-17T22:41:21.123980",
     "status": "completed"
    },
    "tags": []
   },
   "outputs": [
    {
     "name": "stdout",
     "output_type": "stream",
     "text": [
      "#########################\n",
      "############### traininng model pipeline_svc with seed 0\n",
      "#########################\n"
     ]
    }
   ],
   "source": [
    "X = train.drop(['id', 'target'], axis=1)\n",
    "y = train['target']\n",
    "features = X.columns.tolist()\n",
    "n_splits = 100\n",
    "random_states = [0]\n",
    "\n",
    "pipe = Pipeline(steps=[\n",
    "    (\"scale\", StandardScaler()),\n",
    "    (\"model\", SVC(probability=True, random_state=0))\n",
    "])\n",
    "\n",
    "_pipes, _oof_preds, _train_score, _oof_score = evaluate_model(f\"pipeline_svc\", pipe, X, y, features,\n",
    "                                         use_original=False,\n",
    "                                         n_splits=n_splits, random_state_list=random_states, use_loocv=False)"
   ]
  },
  {
   "cell_type": "code",
   "execution_count": 8,
   "id": "3181c074",
   "metadata": {
    "execution": {
     "iopub.execute_input": "2023-04-17T22:41:26.082274Z",
     "iopub.status.busy": "2023-04-17T22:41:26.081854Z",
     "iopub.status.idle": "2023-04-17T22:41:26.090295Z",
     "shell.execute_reply": "2023-04-17T22:41:26.088808Z"
    },
    "papermill": {
     "duration": 0.030382,
     "end_time": "2023-04-17T22:41:26.092956",
     "exception": false,
     "start_time": "2023-04-17T22:41:26.062574",
     "status": "completed"
    },
    "tags": []
   },
   "outputs": [
    {
     "data": {
      "text/plain": [
       "0.7821361058601133"
      ]
     },
     "execution_count": 8,
     "metadata": {},
     "output_type": "execute_result"
    }
   ],
   "source": [
    "_oof_score"
   ]
  },
  {
   "cell_type": "markdown",
   "id": "abc3e0ca",
   "metadata": {
    "papermill": {
     "duration": 0.017686,
     "end_time": "2023-04-17T22:41:26.128778",
     "exception": false,
     "start_time": "2023-04-17T22:41:26.111092",
     "status": "completed"
    },
    "tags": []
   },
   "source": [
    "This is our baseline score. We will start by adding features as we go"
   ]
  },
  {
   "cell_type": "code",
   "execution_count": 9,
   "id": "bcf0dab4",
   "metadata": {
    "execution": {
     "iopub.execute_input": "2023-04-17T22:41:26.166446Z",
     "iopub.status.busy": "2023-04-17T22:41:26.166035Z",
     "iopub.status.idle": "2023-04-17T22:41:26.174478Z",
     "shell.execute_reply": "2023-04-17T22:41:26.173140Z"
    },
    "papermill": {
     "duration": 0.029862,
     "end_time": "2023-04-17T22:41:26.176944",
     "exception": false,
     "start_time": "2023-04-17T22:41:26.147082",
     "status": "completed"
    },
    "tags": []
   },
   "outputs": [],
   "source": [
    "from itertools import combinations\n",
    "cols = train.drop(['id', 'target'], axis=1).columns.tolist()\n",
    "\n",
    "all_comb = []\n",
    "\n",
    "for i in range(1, len(cols)+1):\n",
    "    combs = list(combinations(cols, i))\n",
    "    all_comb += combs\n",
    "    \n",
    "all_comb = [list(comb) for comb in all_comb]"
   ]
  },
  {
   "cell_type": "code",
   "execution_count": 10,
   "id": "d749f51e",
   "metadata": {
    "execution": {
     "iopub.execute_input": "2023-04-17T22:41:26.214236Z",
     "iopub.status.busy": "2023-04-17T22:41:26.213612Z",
     "iopub.status.idle": "2023-04-17T22:41:26.232332Z",
     "shell.execute_reply": "2023-04-17T22:41:26.230929Z"
    },
    "papermill": {
     "duration": 0.040227,
     "end_time": "2023-04-17T22:41:26.234577",
     "exception": false,
     "start_time": "2023-04-17T22:41:26.194350",
     "status": "completed"
    },
    "tags": []
   },
   "outputs": [],
   "source": [
    "svc_log = pd.DataFrame(columns=['features', 'train_score', 'valid_score', 'cv_gap'])\n",
    "lr_log = pd.DataFrame(columns=['features', 'train_score', 'valid_score', 'cv_gap'])\n",
    "rf_log = pd.DataFrame(columns=['features', 'train_score', 'valid_score', 'cv_gap'])\n",
    "xgb_log = pd.DataFrame(columns=['features', 'train_score', 'valid_score', 'cv_gap'])\n",
    "gb_log = pd.DataFrame(columns=['features', 'train_score', 'valid_score', 'cv_gap'])\n",
    "knn_log = pd.DataFrame(columns=['features', 'train_score', 'valid_score', 'cv_gap'])\n",
    "gam_log = pd.DataFrame(columns=['features', 'train_score', 'valid_score', 'cv_gap'])"
   ]
  },
  {
   "cell_type": "code",
   "execution_count": 11,
   "id": "8e6ead08",
   "metadata": {
    "execution": {
     "iopub.execute_input": "2023-04-17T22:41:26.271593Z",
     "iopub.status.busy": "2023-04-17T22:41:26.271152Z",
     "iopub.status.idle": "2023-04-17T22:41:26.277332Z",
     "shell.execute_reply": "2023-04-17T22:41:26.275804Z"
    },
    "papermill": {
     "duration": 0.028033,
     "end_time": "2023-04-17T22:41:26.280087",
     "exception": false,
     "start_time": "2023-04-17T22:41:26.252054",
     "status": "completed"
    },
    "scrolled": true,
    "tags": []
   },
   "outputs": [],
   "source": [
    "# # with only calc feature\n",
    "# train_temp = train.copy()\n",
    "\n",
    "# for comb in all_comb:\n",
    "#     X_temp = train_temp[comb]\n",
    "#     y_temp = train_temp['target']\n",
    "#     features_temp = X_temp.columns.tolist()\n",
    "    \n",
    "#     print(f'trained with {comb} features')\n",
    "#     pipe = Pipeline(steps=[\n",
    "#         (\"scale\", StandardScaler()),\n",
    "#         (\"model\", SVC(probability=True, random_state=0))\n",
    "#     ])\n",
    "\n",
    "#     _pipes_temp, _oof_preds_temp, _train_score_temp, _oof_score_temp = evaluate_model(f\"pipeline_svc\", pipe, X_temp, y_temp, features_temp,\n",
    "#                                              use_original=False,\n",
    "#                                              n_splits=n_splits, random_state_list=random_states, use_loocv=False)\n",
    "\n",
    "#     svc_log = svc_log.append({'features': features_temp, 'train_score': _train_score_temp,\n",
    "#                     'valid_score': _oof_score_temp, 'cv_gap':(_train_score_temp-_oof_score_temp)}, ignore_index=True)"
   ]
  },
  {
   "cell_type": "code",
   "execution_count": 12,
   "id": "0833de9b",
   "metadata": {
    "execution": {
     "iopub.execute_input": "2023-04-17T22:41:26.319502Z",
     "iopub.status.busy": "2023-04-17T22:41:26.319033Z",
     "iopub.status.idle": "2023-04-17T22:41:26.324671Z",
     "shell.execute_reply": "2023-04-17T22:41:26.323222Z"
    },
    "papermill": {
     "duration": 0.028235,
     "end_time": "2023-04-17T22:41:26.327584",
     "exception": false,
     "start_time": "2023-04-17T22:41:26.299349",
     "status": "completed"
    },
    "tags": []
   },
   "outputs": [],
   "source": [
    "# svc_log.sort_values(by=['cv_gap']).head()\n",
    "best_svc_feats = ['ph', 'calc']"
   ]
  },
  {
   "cell_type": "code",
   "execution_count": 13,
   "id": "a98d31e5",
   "metadata": {
    "execution": {
     "iopub.execute_input": "2023-04-17T22:41:26.365846Z",
     "iopub.status.busy": "2023-04-17T22:41:26.365374Z",
     "iopub.status.idle": "2023-04-17T22:41:26.377493Z",
     "shell.execute_reply": "2023-04-17T22:41:26.376105Z"
    },
    "papermill": {
     "duration": 0.034641,
     "end_time": "2023-04-17T22:41:26.380173",
     "exception": false,
     "start_time": "2023-04-17T22:41:26.345532",
     "status": "completed"
    },
    "tags": []
   },
   "outputs": [
    {
     "data": {
      "text/html": [
       "<div>\n",
       "<style scoped>\n",
       "    .dataframe tbody tr th:only-of-type {\n",
       "        vertical-align: middle;\n",
       "    }\n",
       "\n",
       "    .dataframe tbody tr th {\n",
       "        vertical-align: top;\n",
       "    }\n",
       "\n",
       "    .dataframe thead th {\n",
       "        text-align: right;\n",
       "    }\n",
       "</style>\n",
       "<table border=\"1\" class=\"dataframe\">\n",
       "  <thead>\n",
       "    <tr style=\"text-align: right;\">\n",
       "      <th></th>\n",
       "      <th>features</th>\n",
       "      <th>train_score</th>\n",
       "      <th>valid_score</th>\n",
       "      <th>cv_gap</th>\n",
       "    </tr>\n",
       "  </thead>\n",
       "  <tbody>\n",
       "  </tbody>\n",
       "</table>\n",
       "</div>"
      ],
      "text/plain": [
       "Empty DataFrame\n",
       "Columns: [features, train_score, valid_score, cv_gap]\n",
       "Index: []"
      ]
     },
     "execution_count": 13,
     "metadata": {},
     "output_type": "execute_result"
    }
   ],
   "source": [
    "svc_log.sort_values(by=['valid_score'], ascending=False).head()\n",
    "# best feature ph and calc"
   ]
  },
  {
   "cell_type": "code",
   "execution_count": 14,
   "id": "3cd9ca3b",
   "metadata": {
    "execution": {
     "iopub.execute_input": "2023-04-17T22:41:26.419365Z",
     "iopub.status.busy": "2023-04-17T22:41:26.418921Z",
     "iopub.status.idle": "2023-04-17T22:41:26.430031Z",
     "shell.execute_reply": "2023-04-17T22:41:26.428741Z"
    },
    "papermill": {
     "duration": 0.033818,
     "end_time": "2023-04-17T22:41:26.432806",
     "exception": false,
     "start_time": "2023-04-17T22:41:26.398988",
     "status": "completed"
    },
    "tags": []
   },
   "outputs": [
    {
     "data": {
      "text/plain": [
       "0.7916351606805293"
      ]
     },
     "execution_count": 14,
     "metadata": {},
     "output_type": "execute_result"
    }
   ],
   "source": [
    "roc_auc_score(train['target'], train['calc'])"
   ]
  },
  {
   "cell_type": "code",
   "execution_count": 15,
   "id": "2ff569b3",
   "metadata": {
    "execution": {
     "iopub.execute_input": "2023-04-17T22:41:26.471440Z",
     "iopub.status.busy": "2023-04-17T22:41:26.471020Z",
     "iopub.status.idle": "2023-04-17T22:41:26.481619Z",
     "shell.execute_reply": "2023-04-17T22:41:26.480657Z"
    },
    "papermill": {
     "duration": 0.03372,
     "end_time": "2023-04-17T22:41:26.484191",
     "exception": false,
     "start_time": "2023-04-17T22:41:26.450471",
     "status": "completed"
    },
    "tags": []
   },
   "outputs": [],
   "source": [
    "from sklearn.kernel_approximation import Nystroem\n",
    "from sklearn.preprocessing import PolynomialFeatures"
   ]
  },
  {
   "cell_type": "code",
   "execution_count": 16,
   "id": "a4c0e9f8",
   "metadata": {
    "execution": {
     "iopub.execute_input": "2023-04-17T22:41:26.522076Z",
     "iopub.status.busy": "2023-04-17T22:41:26.520829Z",
     "iopub.status.idle": "2023-04-17T22:41:30.608651Z",
     "shell.execute_reply": "2023-04-17T22:41:30.607250Z"
    },
    "jupyter": {
     "source_hidden": true
    },
    "papermill": {
     "duration": 4.109644,
     "end_time": "2023-04-17T22:41:30.611543",
     "exception": false,
     "start_time": "2023-04-17T22:41:26.501899",
     "status": "completed"
    },
    "tags": []
   },
   "outputs": [
    {
     "name": "stdout",
     "output_type": "stream",
     "text": [
      "#########################\n",
      "############### traininng model pipeline_svc with seed 0\n",
      "#########################\n"
     ]
    },
    {
     "data": {
      "text/plain": [
       "0.8001299621928166"
      ]
     },
     "execution_count": 16,
     "metadata": {},
     "output_type": "execute_result"
    }
   ],
   "source": [
    "train_temp = train.copy()\n",
    "X_temp = train_temp[best_svc_feats]\n",
    "y_temp = train_temp['target']\n",
    "features_temp = X_temp.columns.tolist()\n",
    "\n",
    "pipe = Pipeline(steps=[\n",
    "    (\"scale\", StandardScaler()),\n",
    "    (\"model\", SVC(probability=True, random_state=0))\n",
    "])\n",
    "\n",
    "_pipes_temp, _oof_preds_temp, _train_score_temp, _oof_score_temp = evaluate_model(f\"pipeline_svc\", pipe, X_temp, y_temp, features_temp,\n",
    "                                         use_original=False,\n",
    "                                         n_splits=n_splits, random_state_list=random_states, use_loocv=False)\n",
    "\n",
    "\n",
    "svc_log = svc_log.append({'features': features_temp, 'train_score': _train_score_temp,\n",
    "                'valid_score': _oof_score_temp, 'cv_gap':(_train_score_temp-_oof_score_temp)}, ignore_index=True)\n",
    "_oof_score_temp"
   ]
  },
  {
   "cell_type": "code",
   "execution_count": 17,
   "id": "184c7d2a",
   "metadata": {
    "execution": {
     "iopub.execute_input": "2023-04-17T22:41:30.650951Z",
     "iopub.status.busy": "2023-04-17T22:41:30.650504Z",
     "iopub.status.idle": "2023-04-17T22:41:34.821055Z",
     "shell.execute_reply": "2023-04-17T22:41:34.819756Z"
    },
    "jupyter": {
     "source_hidden": true
    },
    "papermill": {
     "duration": 4.193584,
     "end_time": "2023-04-17T22:41:34.823856",
     "exception": false,
     "start_time": "2023-04-17T22:41:30.630272",
     "status": "completed"
    },
    "tags": []
   },
   "outputs": [
    {
     "name": "stdout",
     "output_type": "stream",
     "text": [
      "#########################\n",
      "############### traininng model pipeline_svc with seed 0\n",
      "#########################\n"
     ]
    },
    {
     "data": {
      "text/plain": [
       "0.8054938563327032"
      ]
     },
     "execution_count": 17,
     "metadata": {},
     "output_type": "execute_result"
    }
   ],
   "source": [
    "features_temp = ['ph', 'calc']\n",
    "X_temp = train_temp[best_svc_feats]\n",
    "y_temp = train_temp['target']\n",
    "\n",
    "X_temp['ph/calc'] = X_temp['ph']/X_temp['calc']\n",
    "features_temp = X_temp.columns.tolist()\n",
    "\n",
    "pipe = Pipeline(steps=[\n",
    "    (\"scale\", StandardScaler()),\n",
    "    (\"model\", SVC(probability=True, random_state=0))\n",
    "])\n",
    "\n",
    "_pipes_temp, _oof_preds_temp, _train_score_temp, _oof_score_temp = evaluate_model(f\"pipeline_svc\", pipe, X_temp, y_temp, features_temp,\n",
    "                                         use_original=False,\n",
    "                                         n_splits=n_splits, random_state_list=random_states, use_loocv=False)\n",
    "\n",
    "\n",
    "svc_log = svc_log.append({'features': features_temp, 'train_score': _train_score_temp,\n",
    "                'valid_score': _oof_score_temp, 'cv_gap':(_train_score_temp-_oof_score_temp)}, ignore_index=True)\n",
    "\n",
    "_oof_score_temp"
   ]
  },
  {
   "cell_type": "code",
   "execution_count": 18,
   "id": "97592002",
   "metadata": {
    "execution": {
     "iopub.execute_input": "2023-04-17T22:41:34.863516Z",
     "iopub.status.busy": "2023-04-17T22:41:34.863056Z",
     "iopub.status.idle": "2023-04-17T22:41:39.218617Z",
     "shell.execute_reply": "2023-04-17T22:41:39.217125Z"
    },
    "jupyter": {
     "source_hidden": true
    },
    "papermill": {
     "duration": 4.379067,
     "end_time": "2023-04-17T22:41:39.221713",
     "exception": false,
     "start_time": "2023-04-17T22:41:34.842646",
     "status": "completed"
    },
    "tags": []
   },
   "outputs": [
    {
     "name": "stdout",
     "output_type": "stream",
     "text": [
      "#########################\n",
      "############### traininng model pipeline_svc with seed 0\n",
      "#########################\n"
     ]
    },
    {
     "data": {
      "text/plain": [
       "0.8058246691871456"
      ]
     },
     "execution_count": 18,
     "metadata": {},
     "output_type": "execute_result"
    }
   ],
   "source": [
    "features_temp = ['ph', 'calc']\n",
    "X_temp = train_temp[best_svc_feats]\n",
    "y_temp = train_temp['target']\n",
    "\n",
    "X_temp['calc**2'] = X_temp['calc'] ** 2\n",
    "X_temp['ph/calc'] = X_temp['ph']/X_temp['calc']\n",
    "\n",
    "features_temp = X_temp.columns.tolist()\n",
    "\n",
    "pipe = Pipeline(steps=[\n",
    "    (\"scale\", StandardScaler()),\n",
    "    (\"model\", SVC(probability=True, random_state=0))\n",
    "])\n",
    "\n",
    "_pipes_temp, _oof_preds_temp, _train_score_temp, _oof_score_temp = evaluate_model(f\"pipeline_svc\", pipe, X_temp, y_temp, features_temp,\n",
    "                                         use_original=False,\n",
    "                                         n_splits=n_splits, random_state_list=random_states, use_loocv=False)\n",
    "\n",
    "svc_log = svc_log.append({'features': features_temp, 'train_score': _train_score_temp,\n",
    "                'valid_score': _oof_score_temp, 'cv_gap':(_train_score_temp-_oof_score_temp)}, ignore_index=True)\n",
    "\n",
    "_oof_score_temp"
   ]
  },
  {
   "cell_type": "code",
   "execution_count": 19,
   "id": "f011fc67",
   "metadata": {
    "execution": {
     "iopub.execute_input": "2023-04-17T22:41:39.262291Z",
     "iopub.status.busy": "2023-04-17T22:41:39.261857Z",
     "iopub.status.idle": "2023-04-17T22:41:43.571052Z",
     "shell.execute_reply": "2023-04-17T22:41:43.569739Z"
    },
    "jupyter": {
     "source_hidden": true
    },
    "papermill": {
     "duration": 4.33247,
     "end_time": "2023-04-17T22:41:43.573899",
     "exception": false,
     "start_time": "2023-04-17T22:41:39.241429",
     "status": "completed"
    },
    "tags": []
   },
   "outputs": [
    {
     "name": "stdout",
     "output_type": "stream",
     "text": [
      "#########################\n",
      "############### traininng model pipeline_svc with seed 0\n",
      "#########################\n"
     ]
    },
    {
     "data": {
      "text/plain": [
       "0.8117911153119092"
      ]
     },
     "execution_count": 19,
     "metadata": {},
     "output_type": "execute_result"
    }
   ],
   "source": [
    "X_temp = train_temp[best_svc_feats]\n",
    "y_temp = train_temp['target']\n",
    "\n",
    "X_temp['ph**2'] = (X_temp['ph']) ** 2\n",
    "X_temp['ph/calc'] = X_temp['ph']/X_temp['calc']\n",
    "\n",
    "features_temp = X_temp.columns.tolist()\n",
    "pipe = Pipeline(steps=[\n",
    "    (\"scale\", StandardScaler()),\n",
    "    (\"model\", SVC(probability=True, random_state=0))\n",
    "])\n",
    "\n",
    "_pipes_temp, _oof_preds_temp, _train_score_temp, _oof_score_temp = evaluate_model(f\"pipeline_svc\", pipe, X_temp, y_temp, features_temp,\n",
    "                                         use_original=False,\n",
    "                                         n_splits=n_splits, random_state_list=random_states, use_loocv=False)\n",
    "\n",
    "# svc_log = svc_log.append({'features': features_temp, 'train_score': _train_score_temp,\n",
    "#                 'valid_score': _oof_score_temp, 'cv_gap':(_train_score_temp-_oof_score_temp)}, ignore_index=True)\n",
    "_oof_score_temp"
   ]
  },
  {
   "cell_type": "code",
   "execution_count": 20,
   "id": "8bb1d2b2",
   "metadata": {
    "execution": {
     "iopub.execute_input": "2023-04-17T22:41:43.613806Z",
     "iopub.status.busy": "2023-04-17T22:41:43.612572Z",
     "iopub.status.idle": "2023-04-17T22:41:47.917436Z",
     "shell.execute_reply": "2023-04-17T22:41:47.915936Z"
    },
    "papermill": {
     "duration": 4.328216,
     "end_time": "2023-04-17T22:41:47.920643",
     "exception": false,
     "start_time": "2023-04-17T22:41:43.592427",
     "status": "completed"
    },
    "tags": []
   },
   "outputs": [
    {
     "name": "stdout",
     "output_type": "stream",
     "text": [
      "#########################\n",
      "############### traininng model pipeline_svc with seed 0\n",
      "#########################\n"
     ]
    },
    {
     "data": {
      "text/plain": [
       "0.8120274102079394"
      ]
     },
     "execution_count": 20,
     "metadata": {},
     "output_type": "execute_result"
    }
   ],
   "source": [
    "X_temp = train_temp[best_svc_feats]\n",
    "y_temp = train_temp['target']\n",
    "\n",
    "X_temp['ph**3'] = (X_temp['ph']) ** 3\n",
    "X_temp['ph/calc'] = (X_temp['ph'])/X_temp['calc']\n",
    "\n",
    "features_temp = X_temp.columns.tolist()\n",
    "\n",
    "pipe = Pipeline(steps=[\n",
    "    (\"scale\", StandardScaler()),\n",
    "    (\"model\", SVC(probability=True, random_state=0))\n",
    "])\n",
    "\n",
    "_pipes_temp, _oof_preds_temp, _train_score_temp, _oof_score_temp = evaluate_model(f\"pipeline_svc\", pipe, X_temp, y_temp, features_temp,\n",
    "                                         use_original=False,\n",
    "                                         n_splits=n_splits, random_state_list=random_states, use_loocv=False)\n",
    "\n",
    "svc_log = svc_log.append({'features': features_temp, 'train_score': _train_score_temp,\n",
    "                'valid_score': _oof_score_temp, 'cv_gap':(_train_score_temp-_oof_score_temp)}, ignore_index=True)\n",
    "\n",
    "_oof_score_temp"
   ]
  },
  {
   "cell_type": "code",
   "execution_count": 21,
   "id": "7f8184c7",
   "metadata": {
    "execution": {
     "iopub.execute_input": "2023-04-17T22:41:47.962121Z",
     "iopub.status.busy": "2023-04-17T22:41:47.961403Z",
     "iopub.status.idle": "2023-04-17T22:41:47.975908Z",
     "shell.execute_reply": "2023-04-17T22:41:47.974669Z"
    },
    "papermill": {
     "duration": 0.037286,
     "end_time": "2023-04-17T22:41:47.978581",
     "exception": false,
     "start_time": "2023-04-17T22:41:47.941295",
     "status": "completed"
    },
    "tags": []
   },
   "outputs": [
    {
     "data": {
      "text/html": [
       "<div>\n",
       "<style scoped>\n",
       "    .dataframe tbody tr th:only-of-type {\n",
       "        vertical-align: middle;\n",
       "    }\n",
       "\n",
       "    .dataframe tbody tr th {\n",
       "        vertical-align: top;\n",
       "    }\n",
       "\n",
       "    .dataframe thead th {\n",
       "        text-align: right;\n",
       "    }\n",
       "</style>\n",
       "<table border=\"1\" class=\"dataframe\">\n",
       "  <thead>\n",
       "    <tr style=\"text-align: right;\">\n",
       "      <th></th>\n",
       "      <th>features</th>\n",
       "      <th>train_score</th>\n",
       "      <th>valid_score</th>\n",
       "      <th>cv_gap</th>\n",
       "    </tr>\n",
       "  </thead>\n",
       "  <tbody>\n",
       "    <tr>\n",
       "      <th>3</th>\n",
       "      <td>[ph, calc, ph**3, ph/calc]</td>\n",
       "      <td>0.837028</td>\n",
       "      <td>0.812027</td>\n",
       "      <td>0.025001</td>\n",
       "    </tr>\n",
       "    <tr>\n",
       "      <th>2</th>\n",
       "      <td>[ph, calc, calc**2, ph/calc]</td>\n",
       "      <td>0.834697</td>\n",
       "      <td>0.805825</td>\n",
       "      <td>0.028872</td>\n",
       "    </tr>\n",
       "    <tr>\n",
       "      <th>1</th>\n",
       "      <td>[ph, calc, ph/calc]</td>\n",
       "      <td>0.837183</td>\n",
       "      <td>0.805494</td>\n",
       "      <td>0.031689</td>\n",
       "    </tr>\n",
       "    <tr>\n",
       "      <th>0</th>\n",
       "      <td>[ph, calc]</td>\n",
       "      <td>0.829453</td>\n",
       "      <td>0.800130</td>\n",
       "      <td>0.029323</td>\n",
       "    </tr>\n",
       "  </tbody>\n",
       "</table>\n",
       "</div>"
      ],
      "text/plain": [
       "                       features  train_score  valid_score    cv_gap\n",
       "3    [ph, calc, ph**3, ph/calc]     0.837028     0.812027  0.025001\n",
       "2  [ph, calc, calc**2, ph/calc]     0.834697     0.805825  0.028872\n",
       "1           [ph, calc, ph/calc]     0.837183     0.805494  0.031689\n",
       "0                    [ph, calc]     0.829453     0.800130  0.029323"
      ]
     },
     "execution_count": 21,
     "metadata": {},
     "output_type": "execute_result"
    }
   ],
   "source": [
    "svc_log.sort_values(by='valid_score', ascending=False)"
   ]
  },
  {
   "cell_type": "markdown",
   "id": "8341566f",
   "metadata": {
    "papermill": {
     "duration": 0.018149,
     "end_time": "2023-04-17T22:41:48.015507",
     "exception": false,
     "start_time": "2023-04-17T22:41:47.997358",
     "status": "completed"
    },
    "tags": []
   },
   "source": [
    "So our best features are [ph, calc, ph**2, ph/calc]"
   ]
  },
  {
   "cell_type": "markdown",
   "id": "7f666d26",
   "metadata": {
    "papermill": {
     "duration": 0.018235,
     "end_time": "2023-04-17T22:41:48.052543",
     "exception": false,
     "start_time": "2023-04-17T22:41:48.034308",
     "status": "completed"
    },
    "tags": []
   },
   "source": [
    "Manually hyperparameter tuning svc"
   ]
  },
  {
   "cell_type": "code",
   "execution_count": 22,
   "id": "0232fb03",
   "metadata": {
    "execution": {
     "iopub.execute_input": "2023-04-17T22:41:48.091393Z",
     "iopub.status.busy": "2023-04-17T22:41:48.090957Z",
     "iopub.status.idle": "2023-04-17T22:41:52.448089Z",
     "shell.execute_reply": "2023-04-17T22:41:52.446633Z"
    },
    "papermill": {
     "duration": 4.37963,
     "end_time": "2023-04-17T22:41:52.450819",
     "exception": false,
     "start_time": "2023-04-17T22:41:48.071189",
     "status": "completed"
    },
    "tags": []
   },
   "outputs": [
    {
     "name": "stdout",
     "output_type": "stream",
     "text": [
      "#########################\n",
      "############### traininng model pipeline_svc with seed 0\n",
      "#########################\n"
     ]
    },
    {
     "data": {
      "text/plain": [
       "(0.8370282122761948, 0.8120274102079394, 0.02500080206825539)"
      ]
     },
     "execution_count": 22,
     "metadata": {},
     "output_type": "execute_result"
    }
   ],
   "source": [
    "X_temp = train_temp[best_svc_feats]\n",
    "y_temp = train_temp['target']\n",
    "\n",
    "X_temp['ph**3'] = (X_temp['ph']) ** 3\n",
    "X_temp['ph/calc'] = (X_temp['ph'])/X_temp['calc']\n",
    "\n",
    "features_temp = X_temp.columns.tolist()\n",
    "\n",
    "pipe = Pipeline(steps=[\n",
    "    (\"scale\", StandardScaler()),\n",
    "    (\"model\", SVC(probability=True, random_state=0))\n",
    "])\n",
    "\n",
    "_pipes_temp, _oof_preds_temp, _train_score_temp, _oof_score_temp = evaluate_model(f\"pipeline_svc\", pipe, X_temp, y_temp, features_temp,\n",
    "                                         use_original=False,\n",
    "                                         n_splits=n_splits, random_state_list=random_states, use_loocv=False)\n",
    "\n",
    "_train_score_temp, _oof_score_temp, (_train_score_temp-_oof_score_temp)"
   ]
  },
  {
   "cell_type": "markdown",
   "id": "ab4564c7",
   "metadata": {
    "papermill": {
     "duration": 0.018539,
     "end_time": "2023-04-17T22:41:52.488811",
     "exception": false,
     "start_time": "2023-04-17T22:41:52.470272",
     "status": "completed"
    },
    "tags": []
   },
   "source": [
    "so default parameters are giving us the best result for svc"
   ]
  },
  {
   "cell_type": "markdown",
   "id": "acbe4c60",
   "metadata": {
    "papermill": {
     "duration": 0.018499,
     "end_time": "2023-04-17T22:41:52.526097",
     "exception": false,
     "start_time": "2023-04-17T22:41:52.507598",
     "status": "completed"
    },
    "tags": []
   },
   "source": [
    "## LogisticRegression"
   ]
  },
  {
   "cell_type": "code",
   "execution_count": 23,
   "id": "a31e63f3",
   "metadata": {
    "execution": {
     "iopub.execute_input": "2023-04-17T22:41:52.565802Z",
     "iopub.status.busy": "2023-04-17T22:41:52.565361Z",
     "iopub.status.idle": "2023-04-17T22:41:52.577440Z",
     "shell.execute_reply": "2023-04-17T22:41:52.576071Z"
    },
    "papermill": {
     "duration": 0.034967,
     "end_time": "2023-04-17T22:41:52.579948",
     "exception": false,
     "start_time": "2023-04-17T22:41:52.544981",
     "status": "completed"
    },
    "tags": []
   },
   "outputs": [
    {
     "data": {
      "text/html": [
       "<div>\n",
       "<style scoped>\n",
       "    .dataframe tbody tr th:only-of-type {\n",
       "        vertical-align: middle;\n",
       "    }\n",
       "\n",
       "    .dataframe tbody tr th {\n",
       "        vertical-align: top;\n",
       "    }\n",
       "\n",
       "    .dataframe thead th {\n",
       "        text-align: right;\n",
       "    }\n",
       "</style>\n",
       "<table border=\"1\" class=\"dataframe\">\n",
       "  <thead>\n",
       "    <tr style=\"text-align: right;\">\n",
       "      <th></th>\n",
       "      <th>features</th>\n",
       "      <th>train_score</th>\n",
       "      <th>valid_score</th>\n",
       "      <th>cv_gap</th>\n",
       "    </tr>\n",
       "  </thead>\n",
       "  <tbody>\n",
       "  </tbody>\n",
       "</table>\n",
       "</div>"
      ],
      "text/plain": [
       "Empty DataFrame\n",
       "Columns: [features, train_score, valid_score, cv_gap]\n",
       "Index: []"
      ]
     },
     "execution_count": 23,
     "metadata": {},
     "output_type": "execute_result"
    }
   ],
   "source": [
    "best_lr_features = ['gravity', 'calc']\n",
    "\n",
    "lr_log.sort_values(by='valid_score', ascending=False).head()"
   ]
  },
  {
   "cell_type": "code",
   "execution_count": 24,
   "id": "e1386ef8",
   "metadata": {
    "execution": {
     "iopub.execute_input": "2023-04-17T22:41:52.620998Z",
     "iopub.status.busy": "2023-04-17T22:41:52.620502Z",
     "iopub.status.idle": "2023-04-17T22:41:53.960757Z",
     "shell.execute_reply": "2023-04-17T22:41:53.959315Z"
    },
    "papermill": {
     "duration": 1.363983,
     "end_time": "2023-04-17T22:41:53.963787",
     "exception": false,
     "start_time": "2023-04-17T22:41:52.599804",
     "status": "completed"
    },
    "tags": []
   },
   "outputs": [
    {
     "name": "stdout",
     "output_type": "stream",
     "text": [
      "#########################\n",
      "############### traininng model pipeline_lr with seed 0\n",
      "#########################\n"
     ]
    }
   ],
   "source": [
    "train_temp = train.copy()\n",
    "X_temp = train_temp[best_lr_features]\n",
    "y_temp = train_temp['target']\n",
    "\n",
    "X_temp['calc**3'] = X_temp['calc'] ** 3\n",
    "X_temp['gravity/calc'] = X_temp['gravity'] / X_temp['calc'] \n",
    "\n",
    "\n",
    "\n",
    "features_temp = X_temp.columns.tolist()\n",
    "\n",
    "pipe = Pipeline(steps=[\n",
    "    (\"scale\", StandardScaler()),\n",
    "    (\"model\", LogisticRegression(random_state=0))\n",
    "])\n",
    "\n",
    "_pipes_temp, _oof_preds_temp, _train_score_temp, _oof_score_temp = evaluate_model(f\"pipeline_lr\", pipe, X_temp, y_temp, features_temp,\n",
    "                                         use_original=False,\n",
    "                                         n_splits=n_splits, random_state_list=random_states, use_loocv=False)\n",
    "\n",
    "lr_log = lr_log.append({'features': features_temp, 'train_score': _train_score_temp,\n",
    "                'valid_score': _oof_score_temp, 'cv_gap':(_train_score_temp-_oof_score_temp)}, ignore_index=True)"
   ]
  },
  {
   "cell_type": "markdown",
   "id": "bff0a490",
   "metadata": {
    "papermill": {
     "duration": 0.019735,
     "end_time": "2023-04-17T22:41:54.003301",
     "exception": false,
     "start_time": "2023-04-17T22:41:53.983566",
     "status": "completed"
    },
    "tags": []
   },
   "source": [
    "hyperparamters"
   ]
  },
  {
   "cell_type": "code",
   "execution_count": 25,
   "id": "926e95c1",
   "metadata": {
    "execution": {
     "iopub.execute_input": "2023-04-17T22:41:54.044908Z",
     "iopub.status.busy": "2023-04-17T22:41:54.044443Z",
     "iopub.status.idle": "2023-04-17T22:41:55.349137Z",
     "shell.execute_reply": "2023-04-17T22:41:55.347886Z"
    },
    "papermill": {
     "duration": 1.32918,
     "end_time": "2023-04-17T22:41:55.351888",
     "exception": false,
     "start_time": "2023-04-17T22:41:54.022708",
     "status": "completed"
    },
    "tags": []
   },
   "outputs": [
    {
     "name": "stdout",
     "output_type": "stream",
     "text": [
      "#########################\n",
      "############### traininng model pipeline_lr with seed 0\n",
      "#########################\n"
     ]
    },
    {
     "data": {
      "text/plain": [
       "(0.8097350217538923, 0.7959593572778828, 0.01377566447600953)"
      ]
     },
     "execution_count": 25,
     "metadata": {},
     "output_type": "execute_result"
    }
   ],
   "source": [
    "train_temp = train.copy()\n",
    "X_temp = train_temp[best_lr_features]\n",
    "y_temp = train_temp['target']\n",
    "\n",
    "X_temp['calc**3'] = X_temp['calc'] ** 3\n",
    "X_temp['gravity/calc'] = X_temp['gravity'] / X_temp['calc'] \n",
    "\n",
    "features_temp = X_temp.columns.tolist()\n",
    "\n",
    "pipe = Pipeline(steps=[\n",
    "    (\"scale\", StandardScaler()),\n",
    "    (\"model\", LogisticRegression(random_state=0))\n",
    "])\n",
    "\n",
    "_pipes_temp, _oof_preds_temp, _train_score_temp, _oof_score_temp = evaluate_model(f\"pipeline_lr\", pipe, X_temp, y_temp, features_temp,\n",
    "                                         use_original=False,\n",
    "                                         n_splits=n_splits, random_state_list=random_states, use_loocv=False)\n",
    "\n",
    "_train_score_temp, _oof_score_temp, (_train_score_temp-_oof_score_temp)\n",
    "# best till now"
   ]
  },
  {
   "cell_type": "markdown",
   "id": "4968b1e5",
   "metadata": {
    "papermill": {
     "duration": 0.019487,
     "end_time": "2023-04-17T22:41:55.391284",
     "exception": false,
     "start_time": "2023-04-17T22:41:55.371797",
     "status": "completed"
    },
    "tags": []
   },
   "source": [
    "## RF"
   ]
  },
  {
   "cell_type": "code",
   "execution_count": 26,
   "id": "c52247fc",
   "metadata": {
    "execution": {
     "iopub.execute_input": "2023-04-17T22:41:55.432504Z",
     "iopub.status.busy": "2023-04-17T22:41:55.431602Z",
     "iopub.status.idle": "2023-04-17T22:41:55.437440Z",
     "shell.execute_reply": "2023-04-17T22:41:55.436132Z"
    },
    "papermill": {
     "duration": 0.029645,
     "end_time": "2023-04-17T22:41:55.440229",
     "exception": false,
     "start_time": "2023-04-17T22:41:55.410584",
     "status": "completed"
    },
    "tags": []
   },
   "outputs": [],
   "source": [
    "best_rf_features = ['gravity', 'ph', 'cond', 'urea', 'calc']\n",
    "# max_features=2, min_samples_split=5"
   ]
  },
  {
   "cell_type": "markdown",
   "id": "f0d218ea",
   "metadata": {
    "papermill": {
     "duration": 0.018861,
     "end_time": "2023-04-17T22:41:55.478487",
     "exception": false,
     "start_time": "2023-04-17T22:41:55.459626",
     "status": "completed"
    },
    "tags": []
   },
   "source": [
    "Do not think that adding random forest is a good idea to ensemble"
   ]
  },
  {
   "cell_type": "markdown",
   "id": "fcf53726",
   "metadata": {
    "papermill": {
     "duration": 0.019462,
     "end_time": "2023-04-17T22:41:55.517655",
     "exception": false,
     "start_time": "2023-04-17T22:41:55.498193",
     "status": "completed"
    },
    "tags": []
   },
   "source": [
    "knn"
   ]
  },
  {
   "cell_type": "code",
   "execution_count": 27,
   "id": "d223590b",
   "metadata": {
    "execution": {
     "iopub.execute_input": "2023-04-17T22:41:55.559171Z",
     "iopub.status.busy": "2023-04-17T22:41:55.558761Z",
     "iopub.status.idle": "2023-04-17T22:41:55.564164Z",
     "shell.execute_reply": "2023-04-17T22:41:55.562905Z"
    },
    "papermill": {
     "duration": 0.029659,
     "end_time": "2023-04-17T22:41:55.566939",
     "exception": false,
     "start_time": "2023-04-17T22:41:55.537280",
     "status": "completed"
    },
    "scrolled": true,
    "tags": []
   },
   "outputs": [],
   "source": [
    "# # with only calc feature\n",
    "# train_temp = train.copy()\n",
    "\n",
    "# for index, comb in enumerate(all_comb):\n",
    "#     X_temp = train_temp[comb]\n",
    "#     y_temp = train_temp['target']\n",
    "#     features_temp = X_temp.columns.tolist()\n",
    "    \n",
    "#     print(f'index {index}trained with {comb} features')\n",
    "#     pipe = Pipeline(steps=[\n",
    "#         (\"scale\", StandardScaler()),\n",
    "#         (\"model\", KNeighborsClassifier())\n",
    "#     ])\n",
    "\n",
    "#     _pipes_temp, _oof_preds_temp, _train_score_temp, _oof_score_temp = evaluate_model(f\"pipeline_knn\", pipe, X_temp, y_temp, features_temp,\n",
    "#                                              use_original=False,\n",
    "#                                              n_splits=n_splits, random_state_list=random_states, use_loocv=False)\n",
    "\n",
    "#     knn_log = knn_log.append({'features': features_temp, 'train_score': _train_score_temp,\n",
    "#                     'valid_score': _oof_score_temp, 'cv_gap':(_train_score_temp-_oof_score_temp)}, ignore_index=True)"
   ]
  },
  {
   "cell_type": "code",
   "execution_count": 28,
   "id": "1d044d33",
   "metadata": {
    "execution": {
     "iopub.execute_input": "2023-04-17T22:41:55.608431Z",
     "iopub.status.busy": "2023-04-17T22:41:55.607928Z",
     "iopub.status.idle": "2023-04-17T22:41:55.620170Z",
     "shell.execute_reply": "2023-04-17T22:41:55.619070Z"
    },
    "papermill": {
     "duration": 0.036516,
     "end_time": "2023-04-17T22:41:55.623024",
     "exception": false,
     "start_time": "2023-04-17T22:41:55.586508",
     "status": "completed"
    },
    "tags": []
   },
   "outputs": [
    {
     "data": {
      "text/html": [
       "<div>\n",
       "<style scoped>\n",
       "    .dataframe tbody tr th:only-of-type {\n",
       "        vertical-align: middle;\n",
       "    }\n",
       "\n",
       "    .dataframe tbody tr th {\n",
       "        vertical-align: top;\n",
       "    }\n",
       "\n",
       "    .dataframe thead th {\n",
       "        text-align: right;\n",
       "    }\n",
       "</style>\n",
       "<table border=\"1\" class=\"dataframe\">\n",
       "  <thead>\n",
       "    <tr style=\"text-align: right;\">\n",
       "      <th></th>\n",
       "      <th>features</th>\n",
       "      <th>train_score</th>\n",
       "      <th>valid_score</th>\n",
       "      <th>cv_gap</th>\n",
       "    </tr>\n",
       "  </thead>\n",
       "  <tbody>\n",
       "  </tbody>\n",
       "</table>\n",
       "</div>"
      ],
      "text/plain": [
       "Empty DataFrame\n",
       "Columns: [features, train_score, valid_score, cv_gap]\n",
       "Index: []"
      ]
     },
     "execution_count": 28,
     "metadata": {},
     "output_type": "execute_result"
    }
   ],
   "source": [
    "knn_log.sort_values('valid_score', ascending=False).head()"
   ]
  },
  {
   "cell_type": "code",
   "execution_count": 29,
   "id": "fec0670f",
   "metadata": {
    "execution": {
     "iopub.execute_input": "2023-04-17T22:41:55.665209Z",
     "iopub.status.busy": "2023-04-17T22:41:55.664799Z",
     "iopub.status.idle": "2023-04-17T22:41:55.669175Z",
     "shell.execute_reply": "2023-04-17T22:41:55.668119Z"
    },
    "papermill": {
     "duration": 0.028534,
     "end_time": "2023-04-17T22:41:55.671711",
     "exception": false,
     "start_time": "2023-04-17T22:41:55.643177",
     "status": "completed"
    },
    "tags": []
   },
   "outputs": [],
   "source": [
    "best_knn_features = ['gravity', 'ph', 'calc']"
   ]
  },
  {
   "cell_type": "code",
   "execution_count": 30,
   "id": "ebaebbe8",
   "metadata": {
    "execution": {
     "iopub.execute_input": "2023-04-17T22:41:55.713326Z",
     "iopub.status.busy": "2023-04-17T22:41:55.712883Z",
     "iopub.status.idle": "2023-04-17T22:41:55.721149Z",
     "shell.execute_reply": "2023-04-17T22:41:55.719694Z"
    },
    "papermill": {
     "duration": 0.032218,
     "end_time": "2023-04-17T22:41:55.723682",
     "exception": false,
     "start_time": "2023-04-17T22:41:55.691464",
     "status": "completed"
    },
    "tags": []
   },
   "outputs": [
    {
     "data": {
      "text/plain": [
       "('ball_tree', 'kd_tree', 'brute')"
      ]
     },
     "execution_count": 30,
     "metadata": {},
     "output_type": "execute_result"
    }
   ],
   "source": [
    "'ball_tree', 'kd_tree', 'brute'"
   ]
  },
  {
   "cell_type": "code",
   "execution_count": 31,
   "id": "81b997b8",
   "metadata": {
    "execution": {
     "iopub.execute_input": "2023-04-17T22:41:55.765587Z",
     "iopub.status.busy": "2023-04-17T22:41:55.765172Z",
     "iopub.status.idle": "2023-04-17T22:41:55.770346Z",
     "shell.execute_reply": "2023-04-17T22:41:55.769119Z"
    },
    "papermill": {
     "duration": 0.028686,
     "end_time": "2023-04-17T22:41:55.772795",
     "exception": false,
     "start_time": "2023-04-17T22:41:55.744109",
     "status": "completed"
    },
    "tags": []
   },
   "outputs": [],
   "source": [
    "from sklearn.preprocessing import FunctionTransformer"
   ]
  },
  {
   "cell_type": "code",
   "execution_count": 32,
   "id": "d83c3cc3",
   "metadata": {
    "execution": {
     "iopub.execute_input": "2023-04-17T22:41:55.817833Z",
     "iopub.status.busy": "2023-04-17T22:41:55.816371Z",
     "iopub.status.idle": "2023-04-17T22:41:57.096994Z",
     "shell.execute_reply": "2023-04-17T22:41:57.095465Z"
    },
    "papermill": {
     "duration": 1.306835,
     "end_time": "2023-04-17T22:41:57.100349",
     "exception": false,
     "start_time": "2023-04-17T22:41:55.793514",
     "status": "completed"
    },
    "tags": []
   },
   "outputs": [
    {
     "name": "stdout",
     "output_type": "stream",
     "text": [
      "#########################\n",
      "############### traininng model pipeline_knn with seed 0\n",
      "#########################\n"
     ]
    }
   ],
   "source": [
    "# with only calc feature\n",
    "train_temp = train.copy()\n",
    "\n",
    "X_temp = train_temp[['cond', 'calc']]\n",
    "y_temp = train_temp['target']\n",
    "features_temp = X_temp.columns.tolist()\n",
    "\n",
    "\n",
    "pipe = Pipeline(steps=[\n",
    "    ('func', FunctionTransformer(lambda X: X * np.array([[0.01, 1]]))),\n",
    "    (\"scale\", StandardScaler()),\n",
    "    (\"model\", KNeighborsClassifier())\n",
    "])\n",
    "\n",
    "_pipes_temp, _oof_preds_temp, _train_score_temp, _oof_score_temp = evaluate_model(f\"pipeline_knn\", pipe, X_temp, y_temp, features_temp,\n",
    "                                         use_original=False,\n",
    "                                         n_splits=n_splits, random_state_list=random_states, use_loocv=False)\n",
    "\n",
    "knn_log = knn_log.append({'features': features_temp, 'train_score': _train_score_temp,\n",
    "                'valid_score': _oof_score_temp, 'cv_gap':(_train_score_temp-_oof_score_temp)}, ignore_index=True)"
   ]
  },
  {
   "cell_type": "markdown",
   "id": "669c0c9f",
   "metadata": {
    "papermill": {
     "duration": 0.019798,
     "end_time": "2023-04-17T22:41:57.140110",
     "exception": false,
     "start_time": "2023-04-17T22:41:57.120312",
     "status": "completed"
    },
    "tags": []
   },
   "source": [
    "gradient Boositing"
   ]
  },
  {
   "cell_type": "code",
   "execution_count": 33,
   "id": "6e29e1c0",
   "metadata": {
    "execution": {
     "iopub.execute_input": "2023-04-17T22:41:57.183195Z",
     "iopub.status.busy": "2023-04-17T22:41:57.182735Z",
     "iopub.status.idle": "2023-04-17T22:41:57.188023Z",
     "shell.execute_reply": "2023-04-17T22:41:57.186703Z"
    },
    "papermill": {
     "duration": 0.029727,
     "end_time": "2023-04-17T22:41:57.190515",
     "exception": false,
     "start_time": "2023-04-17T22:41:57.160788",
     "status": "completed"
    },
    "tags": []
   },
   "outputs": [],
   "source": [
    "best_gb_features = ['ph', 'cond', 'calc']"
   ]
  },
  {
   "cell_type": "code",
   "execution_count": 34,
   "id": "99896690",
   "metadata": {
    "execution": {
     "iopub.execute_input": "2023-04-17T22:41:57.232567Z",
     "iopub.status.busy": "2023-04-17T22:41:57.231778Z",
     "iopub.status.idle": "2023-04-17T22:42:05.437194Z",
     "shell.execute_reply": "2023-04-17T22:42:05.435899Z"
    },
    "papermill": {
     "duration": 8.229457,
     "end_time": "2023-04-17T22:42:05.439977",
     "exception": false,
     "start_time": "2023-04-17T22:41:57.210520",
     "status": "completed"
    },
    "tags": []
   },
   "outputs": [
    {
     "name": "stdout",
     "output_type": "stream",
     "text": [
      "#########################\n",
      "############### traininng model pipeline_knn with seed 0\n",
      "#########################\n"
     ]
    },
    {
     "data": {
      "text/plain": [
       "0.7852906427221171"
      ]
     },
     "execution_count": 34,
     "metadata": {},
     "output_type": "execute_result"
    }
   ],
   "source": [
    "# with only calc feature\n",
    "train_temp = train.copy()\n",
    "\n",
    "X_temp = train_temp[best_gb_features]\n",
    "y_temp = train_temp['target']\n",
    "features_temp = X_temp.columns.tolist()\n",
    "\n",
    "\n",
    "pipe = Pipeline(steps=[\n",
    "    (\"scale\", StandardScaler()),\n",
    "    (\"model\", GradientBoostingClassifier(random_state=0, n_estimators=100, learning_rate=0.1, max_depth=2,\n",
    "                                         min_weight_fraction_leaf=0.15))])\n",
    "\n",
    "_pipes_temp, _oof_preds_temp, _train_score_temp, _oof_score_temp = evaluate_model(f\"pipeline_knn\", pipe, X_temp, y_temp, features_temp,\n",
    "                                         use_original=False,\n",
    "                                         n_splits=n_splits, random_state_list=random_states, use_loocv=False)\n",
    "# gb_log = gb_log.append({'features': features_temp, 'train_score': _train_score_temp,\n",
    "#                 'valid_score': _oof_score_temp, 'cv_gap':(_train_score_temp-_oof_score_temp)}, ignore_index=True)\n",
    "_oof_score_temp"
   ]
  },
  {
   "cell_type": "code",
   "execution_count": 35,
   "id": "026a814b",
   "metadata": {
    "execution": {
     "iopub.execute_input": "2023-04-17T22:42:05.482225Z",
     "iopub.status.busy": "2023-04-17T22:42:05.481789Z",
     "iopub.status.idle": "2023-04-17T22:42:05.489401Z",
     "shell.execute_reply": "2023-04-17T22:42:05.488013Z"
    },
    "papermill": {
     "duration": 0.031978,
     "end_time": "2023-04-17T22:42:05.492039",
     "exception": false,
     "start_time": "2023-04-17T22:42:05.460061",
     "status": "completed"
    },
    "tags": []
   },
   "outputs": [
    {
     "data": {
      "text/plain": [
       "0.7852906427221171"
      ]
     },
     "execution_count": 35,
     "metadata": {},
     "output_type": "execute_result"
    }
   ],
   "source": [
    "_oof_score_temp"
   ]
  },
  {
   "cell_type": "code",
   "execution_count": 36,
   "id": "90af7b6e",
   "metadata": {
    "execution": {
     "iopub.execute_input": "2023-04-17T22:42:05.534285Z",
     "iopub.status.busy": "2023-04-17T22:42:05.533850Z",
     "iopub.status.idle": "2023-04-17T22:42:05.545188Z",
     "shell.execute_reply": "2023-04-17T22:42:05.543715Z"
    },
    "papermill": {
     "duration": 0.035842,
     "end_time": "2023-04-17T22:42:05.548006",
     "exception": false,
     "start_time": "2023-04-17T22:42:05.512164",
     "status": "completed"
    },
    "tags": []
   },
   "outputs": [
    {
     "data": {
      "text/html": [
       "<div>\n",
       "<style scoped>\n",
       "    .dataframe tbody tr th:only-of-type {\n",
       "        vertical-align: middle;\n",
       "    }\n",
       "\n",
       "    .dataframe tbody tr th {\n",
       "        vertical-align: top;\n",
       "    }\n",
       "\n",
       "    .dataframe thead th {\n",
       "        text-align: right;\n",
       "    }\n",
       "</style>\n",
       "<table border=\"1\" class=\"dataframe\">\n",
       "  <thead>\n",
       "    <tr style=\"text-align: right;\">\n",
       "      <th></th>\n",
       "      <th>features</th>\n",
       "      <th>train_score</th>\n",
       "      <th>valid_score</th>\n",
       "      <th>cv_gap</th>\n",
       "    </tr>\n",
       "  </thead>\n",
       "  <tbody>\n",
       "  </tbody>\n",
       "</table>\n",
       "</div>"
      ],
      "text/plain": [
       "Empty DataFrame\n",
       "Columns: [features, train_score, valid_score, cv_gap]\n",
       "Index: []"
      ]
     },
     "execution_count": 36,
     "metadata": {},
     "output_type": "execute_result"
    }
   ],
   "source": [
    "gb_log"
   ]
  },
  {
   "cell_type": "markdown",
   "id": "f6d84a98",
   "metadata": {
    "papermill": {
     "duration": 0.019922,
     "end_time": "2023-04-17T22:42:05.588617",
     "exception": false,
     "start_time": "2023-04-17T22:42:05.568695",
     "status": "completed"
    },
    "tags": []
   },
   "source": [
    "## GAM"
   ]
  },
  {
   "cell_type": "code",
   "execution_count": 37,
   "id": "80f03d5d",
   "metadata": {
    "execution": {
     "iopub.execute_input": "2023-04-17T22:42:05.631172Z",
     "iopub.status.busy": "2023-04-17T22:42:05.630739Z",
     "iopub.status.idle": "2023-04-17T22:42:18.910483Z",
     "shell.execute_reply": "2023-04-17T22:42:18.909222Z"
    },
    "papermill": {
     "duration": 13.305215,
     "end_time": "2023-04-17T22:42:18.913737",
     "exception": false,
     "start_time": "2023-04-17T22:42:05.608522",
     "status": "completed"
    },
    "tags": []
   },
   "outputs": [
    {
     "name": "stdout",
     "output_type": "stream",
     "text": [
      "Collecting pygam\r\n",
      "  Downloading pygam-0.8.0-py2.py3-none-any.whl (1.8 MB)\r\n",
      "\u001b[2K     \u001b[90m━━━━━━━━━━━━━━━━━━━━━━━━━━━━━━━━━━━━━━━━\u001b[0m \u001b[32m1.8/1.8 MB\u001b[0m \u001b[31m18.0 MB/s\u001b[0m eta \u001b[36m0:00:00\u001b[0m\r\n",
      "\u001b[?25hRequirement already satisfied: scipy in /opt/conda/lib/python3.7/site-packages (from pygam) (1.7.3)\r\n",
      "Requirement already satisfied: progressbar2 in /opt/conda/lib/python3.7/site-packages (from pygam) (4.2.0)\r\n",
      "Requirement already satisfied: numpy in /opt/conda/lib/python3.7/site-packages (from pygam) (1.21.6)\r\n",
      "Requirement already satisfied: future in /opt/conda/lib/python3.7/site-packages (from pygam) (0.18.3)\r\n",
      "Requirement already satisfied: python-utils>=3.0.0 in /opt/conda/lib/python3.7/site-packages (from progressbar2->pygam) (3.5.2)\r\n",
      "Requirement already satisfied: typing-extensions in /opt/conda/lib/python3.7/site-packages (from python-utils>=3.0.0->progressbar2->pygam) (4.4.0)\r\n",
      "Installing collected packages: pygam\r\n",
      "Successfully installed pygam-0.8.0\r\n",
      "\u001b[33mWARNING: Running pip as the 'root' user can result in broken permissions and conflicting behaviour with the system package manager. It is recommended to use a virtual environment instead: https://pip.pypa.io/warnings/venv\u001b[0m\u001b[33m\r\n",
      "\u001b[0m"
     ]
    }
   ],
   "source": [
    "!pip install pygam"
   ]
  },
  {
   "cell_type": "code",
   "execution_count": 38,
   "id": "99b0b0b9",
   "metadata": {
    "execution": {
     "iopub.execute_input": "2023-04-17T22:42:18.958264Z",
     "iopub.status.busy": "2023-04-17T22:42:18.957764Z",
     "iopub.status.idle": "2023-04-17T22:42:19.014968Z",
     "shell.execute_reply": "2023-04-17T22:42:19.013488Z"
    },
    "papermill": {
     "duration": 0.08262,
     "end_time": "2023-04-17T22:42:19.017866",
     "exception": false,
     "start_time": "2023-04-17T22:42:18.935246",
     "status": "completed"
    },
    "tags": []
   },
   "outputs": [],
   "source": [
    "from pygam import GAM, LinearGAM, s, f, te ,LogisticGAM"
   ]
  },
  {
   "cell_type": "code",
   "execution_count": null,
   "id": "d3974908",
   "metadata": {
    "papermill": {
     "duration": 0.021708,
     "end_time": "2023-04-17T22:42:19.061117",
     "exception": false,
     "start_time": "2023-04-17T22:42:19.039409",
     "status": "completed"
    },
    "tags": []
   },
   "outputs": [],
   "source": []
  },
  {
   "cell_type": "code",
   "execution_count": 39,
   "id": "b75e6731",
   "metadata": {
    "execution": {
     "iopub.execute_input": "2023-04-17T22:42:19.105632Z",
     "iopub.status.busy": "2023-04-17T22:42:19.105178Z",
     "iopub.status.idle": "2023-04-17T22:42:19.111738Z",
     "shell.execute_reply": "2023-04-17T22:42:19.110131Z"
    },
    "papermill": {
     "duration": 0.032217,
     "end_time": "2023-04-17T22:42:19.114875",
     "exception": false,
     "start_time": "2023-04-17T22:42:19.082658",
     "status": "completed"
    },
    "scrolled": true,
    "tags": []
   },
   "outputs": [],
   "source": [
    "# train_temp = train.copy()\n",
    "\n",
    "# for comb in all_comb:\n",
    "#     try:\n",
    "#         X_temp = train_temp[comb]\n",
    "#         y_temp = train_temp['target']\n",
    "#         features_temp = X_temp.columns.tolist()\n",
    "\n",
    "#         print(f'trained with {comb} features')\n",
    "\n",
    "#         pipe = Pipeline(steps=[\n",
    "#             (\"scale\", StandardScaler()),\n",
    "#             (\"model\", LogisticGAM(verbose=False))])\n",
    "\n",
    "\n",
    "#         _pipes_temp, _oof_preds_temp, _train_score_temp, _oof_score_temp = evaluate_model(f\"pipeline_gam\", pipe, X_temp, y_temp, features_temp,\n",
    "#                                                  use_original=False, n_splits=n_splits, random_state_list=random_states, use_loocv=False)\n",
    "                                                                                          \n",
    "#         gam_log = gam_log.append({'features': features_temp, 'train_score': _train_score_temp,\n",
    "#                         'valid_score': _oof_score_temp, 'cv_gap':(_train_score_temp-_oof_score_temp)}, ignore_index=True)                                                                                \n",
    "#     except:\n",
    "#         continue"
   ]
  },
  {
   "cell_type": "code",
   "execution_count": 40,
   "id": "9f281ac5",
   "metadata": {
    "execution": {
     "iopub.execute_input": "2023-04-17T22:42:19.161611Z",
     "iopub.status.busy": "2023-04-17T22:42:19.161138Z",
     "iopub.status.idle": "2023-04-17T22:42:19.166918Z",
     "shell.execute_reply": "2023-04-17T22:42:19.165293Z"
    },
    "papermill": {
     "duration": 0.033404,
     "end_time": "2023-04-17T22:42:19.169905",
     "exception": false,
     "start_time": "2023-04-17T22:42:19.136501",
     "status": "completed"
    },
    "tags": []
   },
   "outputs": [],
   "source": [
    "best_gam_features = ['cond', 'calc']"
   ]
  },
  {
   "cell_type": "code",
   "execution_count": 41,
   "id": "7e2ca233",
   "metadata": {
    "execution": {
     "iopub.execute_input": "2023-04-17T22:42:19.216524Z",
     "iopub.status.busy": "2023-04-17T22:42:19.216112Z",
     "iopub.status.idle": "2023-04-17T22:42:19.229425Z",
     "shell.execute_reply": "2023-04-17T22:42:19.228012Z"
    },
    "papermill": {
     "duration": 0.038869,
     "end_time": "2023-04-17T22:42:19.231908",
     "exception": false,
     "start_time": "2023-04-17T22:42:19.193039",
     "status": "completed"
    },
    "tags": []
   },
   "outputs": [
    {
     "data": {
      "text/html": [
       "<div>\n",
       "<style scoped>\n",
       "    .dataframe tbody tr th:only-of-type {\n",
       "        vertical-align: middle;\n",
       "    }\n",
       "\n",
       "    .dataframe tbody tr th {\n",
       "        vertical-align: top;\n",
       "    }\n",
       "\n",
       "    .dataframe thead th {\n",
       "        text-align: right;\n",
       "    }\n",
       "</style>\n",
       "<table border=\"1\" class=\"dataframe\">\n",
       "  <thead>\n",
       "    <tr style=\"text-align: right;\">\n",
       "      <th></th>\n",
       "      <th>features</th>\n",
       "      <th>train_score</th>\n",
       "      <th>valid_score</th>\n",
       "      <th>cv_gap</th>\n",
       "    </tr>\n",
       "  </thead>\n",
       "  <tbody>\n",
       "  </tbody>\n",
       "</table>\n",
       "</div>"
      ],
      "text/plain": [
       "Empty DataFrame\n",
       "Columns: [features, train_score, valid_score, cv_gap]\n",
       "Index: []"
      ]
     },
     "execution_count": 41,
     "metadata": {},
     "output_type": "execute_result"
    }
   ],
   "source": [
    "gam_log.sort_values(by='valid_score').tail()"
   ]
  },
  {
   "cell_type": "code",
   "execution_count": 42,
   "id": "c49ad80d",
   "metadata": {
    "execution": {
     "iopub.execute_input": "2023-04-17T22:42:19.276624Z",
     "iopub.status.busy": "2023-04-17T22:42:19.276198Z",
     "iopub.status.idle": "2023-04-17T22:42:28.290683Z",
     "shell.execute_reply": "2023-04-17T22:42:28.288855Z"
    },
    "papermill": {
     "duration": 9.042749,
     "end_time": "2023-04-17T22:42:28.296180",
     "exception": false,
     "start_time": "2023-04-17T22:42:19.253431",
     "status": "completed"
    },
    "tags": []
   },
   "outputs": [
    {
     "name": "stdout",
     "output_type": "stream",
     "text": [
      "#########################\n",
      "############### traininng model pipeline_gam with seed 0\n",
      "#########################\n"
     ]
    },
    {
     "data": {
      "text/plain": [
       "(0.8391867028534695, 0.8082939508506617, 0.030892752002807833)"
      ]
     },
     "execution_count": 42,
     "metadata": {},
     "output_type": "execute_result"
    }
   ],
   "source": [
    "X_temp = train_temp[best_gam_features]\n",
    "\n",
    "pipe = Pipeline(steps=[\n",
    "    (\"scale\", StandardScaler()),\n",
    "    (\"model\", LogisticGAM(verbose=False, n_splines=[10, 25], lam=0.6))])\n",
    "\n",
    "\n",
    "\n",
    "_pipes_temp, _oof_preds_temp, _train_score_temp, _oof_score_temp = evaluate_model(f\"pipeline_gam\", pipe, X_temp, y_temp, features_temp,\n",
    "                                         use_original=False, n_splits=n_splits, random_state_list=random_states, use_loocv=False)\n",
    "\n",
    "# gam_log = gam_log.append({'features': features_temp, 'train_score': _train_score_temp,\n",
    "#                 'valid_score': _oof_score_temp, 'cv_gap':(_train_score_temp-_oof_score_temp)}, ignore_index=True)          \n",
    "_train_score_temp, _oof_score_temp, (_train_score_temp-_oof_score_temp)"
   ]
  },
  {
   "cell_type": "code",
   "execution_count": 43,
   "id": "6c23037a",
   "metadata": {
    "execution": {
     "iopub.execute_input": "2023-04-17T22:42:28.370925Z",
     "iopub.status.busy": "2023-04-17T22:42:28.370496Z",
     "iopub.status.idle": "2023-04-17T22:42:28.376676Z",
     "shell.execute_reply": "2023-04-17T22:42:28.375079Z"
    },
    "papermill": {
     "duration": 0.032599,
     "end_time": "2023-04-17T22:42:28.379536",
     "exception": false,
     "start_time": "2023-04-17T22:42:28.346937",
     "status": "completed"
    },
    "tags": []
   },
   "outputs": [],
   "source": [
    "# train_temp = train.copy()\n",
    "# # features calc, cond\n",
    "# X_temp = train[['calc', 'cond', 'urea']]\n",
    "# X_temp['urea'] = pd.qcut(train['urea'], q=10)\n",
    "# y_temp = train['target']\n",
    "# features_temp = X_temp.columns.tolist()\n",
    "\n",
    "# transformers = ColumnTransformer(transformers=[(\"poly\", make_pipeline(PolynomialFeatures(degree=2, include_bias=False, interaction_only=True), \n",
    "#                                                         StandardScaler()),['calc', 'cond']), \n",
    "#                                                    ('ohe', OneHotEncoder(sparse=False, drop='first'), ['urea'])],\n",
    "#                                                  remainder='passthrough')\n",
    "\n",
    "# pipe = make_pipeline(transformers, SVC(probability=True, random_state=0))\n",
    "\n",
    "\n",
    "# _pipes_temp, _oof_preds_temp, _train_score_temp, _oof_score_temp = evaluate_model(f\"pipeline_svc\", pipe, X_temp, y_temp, features_temp,\n",
    "#                                          use_original=False,\n",
    "#                                          n_splits=n_splits, random_state_list=random_states, use_loocv=False)"
   ]
  },
  {
   "cell_type": "code",
   "execution_count": 44,
   "id": "ca2f9e0d",
   "metadata": {
    "execution": {
     "iopub.execute_input": "2023-04-17T22:42:28.424305Z",
     "iopub.status.busy": "2023-04-17T22:42:28.423872Z",
     "iopub.status.idle": "2023-04-17T22:42:28.783127Z",
     "shell.execute_reply": "2023-04-17T22:42:28.781960Z"
    },
    "papermill": {
     "duration": 0.386097,
     "end_time": "2023-04-17T22:42:28.786884",
     "exception": false,
     "start_time": "2023-04-17T22:42:28.400787",
     "status": "completed"
    },
    "tags": []
   },
   "outputs": [
    {
     "data": {
      "text/plain": [
       "<AxesSubplot:ylabel='calc'>"
      ]
     },
     "execution_count": 44,
     "metadata": {},
     "output_type": "execute_result"
    },
    {
     "data": {
      "image/png": "[encoded data removed]",
      "text/plain": [
       "<Figure size 640x480 with 1 Axes>"
      ]
     },
     "metadata": {},
     "output_type": "display_data"
    }
   ],
   "source": [
    "sns.scatterplot(x=range(len(train)), y=train['calc'], hue=train['target'])"
   ]
  },
  {
   "cell_type": "code",
   "execution_count": 45,
   "id": "e82540c4",
   "metadata": {
    "execution": {
     "iopub.execute_input": "2023-04-17T22:42:28.837569Z",
     "iopub.status.busy": "2023-04-17T22:42:28.837141Z",
     "iopub.status.idle": "2023-04-17T22:42:52.001224Z",
     "shell.execute_reply": "2023-04-17T22:42:51.999350Z"
    },
    "papermill": {
     "duration": 23.195652,
     "end_time": "2023-04-17T22:42:52.006321",
     "exception": false,
     "start_time": "2023-04-17T22:42:28.810669",
     "status": "completed"
    },
    "tags": []
   },
   "outputs": [
    {
     "name": "stdout",
     "output_type": "stream",
     "text": [
      "#########################\n",
      "############### traininng model pipeline_svc with seed 0\n",
      "#########################\n",
      "#########################\n",
      "############### traininng model pipeline_lr with seed 0\n",
      "#########################\n",
      "#########################\n",
      "############### traininng model pipeline_knn with seed 0\n",
      "#########################\n",
      "#########################\n",
      "############### traininng model pipeline_gb with seed 0\n",
      "#########################\n",
      "#########################\n",
      "############### traininng model pipeline_gam with seed 0\n",
      "#########################\n"
     ]
    }
   ],
   "source": [
    "train_temp = train.copy()\n",
    "\n",
    "\n",
    "X_temp = train_temp[best_svc_feats]\n",
    "y_temp = train_temp['target']\n",
    "\n",
    "X_temp['ph**3'] = (X_temp['ph']) ** 3\n",
    "X_temp['ph/calc'] = (X_temp['ph'])/X_temp['calc']\n",
    "\n",
    "features_temp = X_temp.columns.tolist()\n",
    "\n",
    "pipe_svc = Pipeline(steps=[\n",
    "    (\"scale\", StandardScaler()),\n",
    "    (\"model\", SVC(probability=True, random_state=0))\n",
    "])\n",
    "\n",
    "_pipes_svc, _oof_preds_svc, _train_score_svc, _oof_score_svc = evaluate_model(f\"pipeline_svc\", pipe_svc, X_temp, y_temp, features_temp,\n",
    "                                         use_original=False,\n",
    "                                         n_splits=n_splits, random_state_list=random_states, use_loocv=False)\n",
    "\n",
    "\n",
    "X_temp = train_temp[best_lr_features]\n",
    "y_temp = train_temp['target']\n",
    "\n",
    "X_temp['calc**3'] = X_temp['calc'] ** 3\n",
    "X_temp['gravity/calc'] = X_temp['gravity'] / X_temp['calc'] \n",
    "\n",
    "features_temp = X_temp.columns.tolist()\n",
    "\n",
    "pipe_lr = Pipeline(steps=[\n",
    "    (\"scale\", StandardScaler()),\n",
    "    (\"model\", LogisticRegression(random_state=0))\n",
    "])\n",
    "\n",
    "_pipes_lr, _oof_preds_lr, _train_score_lr, _oof_score_lr = evaluate_model(f\"pipeline_lr\", pipe_lr, X_temp, y_temp, features_temp,\n",
    "                                         use_original=False,\n",
    "                                         n_splits=n_splits, random_state_list=random_states, use_loocv=False)\n",
    "\n",
    "\n",
    "\n",
    "X_temp = train_temp[best_knn_features]\n",
    "y_temp = train_temp['target']\n",
    "features_temp = X_temp.columns.tolist()\n",
    "\n",
    "\n",
    "pipe_knn = Pipeline(steps=[\n",
    "    (\"scale\", StandardScaler()),\n",
    "    (\"model\", KNeighborsClassifier())\n",
    "])\n",
    "\n",
    "_pipes_knn, _oof_preds_knn, _train_score_knn, _oof_score_knn = evaluate_model(f\"pipeline_knn\", pipe_knn, X_temp, y_temp, features_temp,\n",
    "                                         use_original=False,\n",
    "                                         n_splits=n_splits, random_state_list=random_states, use_loocv=False)\n",
    "\n",
    "\n",
    "\n",
    "X_temp = train_temp[best_gb_features]\n",
    "y_temp = train_temp['target']\n",
    "features_temp = X_temp.columns.tolist()\n",
    "\n",
    "\n",
    "pipe_gb = Pipeline(steps=[\n",
    "    (\"scale\", StandardScaler()),\n",
    "    (\"model\", GradientBoostingClassifier(random_state=0, n_estimators=100, learning_rate=0.1, max_depth=2,\n",
    "                                         min_weight_fraction_leaf=0.15))])\n",
    "\n",
    "_pipes_gb, _oof_preds_gb, _train_score_gb, _oof_score_gb = evaluate_model(f\"pipeline_gb\", pipe_gb, X_temp, y_temp, features_temp,\n",
    "                                         use_original=False,\n",
    "                                         n_splits=n_splits, random_state_list=random_states, use_loocv=False)\n",
    "\n",
    "\n",
    "X_temp = train_temp[best_gam_features]\n",
    "\n",
    "pipe_gam = Pipeline(steps=[\n",
    "    (\"scale\", StandardScaler()),\n",
    "    (\"model\", LogisticGAM(verbose=False, n_splines=[10, 25], lam=0.6))])\n",
    "\n",
    "\n",
    "_pipes_gam, _oof_preds_gam, _train_score_gam, _oof_score_gam = evaluate_model(f\"pipeline_gam\", pipe_gam, X_temp, y_temp, features_temp,\n",
    "                                         use_original=False,\n",
    "                                         n_splits=n_splits, random_state_list=random_states, use_loocv=False)"
   ]
  },
  {
   "cell_type": "code",
   "execution_count": 46,
   "id": "e6947328",
   "metadata": {
    "execution": {
     "iopub.execute_input": "2023-04-17T22:42:52.101398Z",
     "iopub.status.busy": "2023-04-17T22:42:52.100983Z",
     "iopub.status.idle": "2023-04-17T22:42:52.113181Z",
     "shell.execute_reply": "2023-04-17T22:42:52.111777Z"
    },
    "papermill": {
     "duration": 0.048863,
     "end_time": "2023-04-17T22:42:52.115789",
     "exception": false,
     "start_time": "2023-04-17T22:42:52.066926",
     "status": "completed"
    },
    "tags": []
   },
   "outputs": [
    {
     "data": {
      "text/plain": [
       "0.8176039697542533"
      ]
     },
     "execution_count": 46,
     "metadata": {},
     "output_type": "execute_result"
    }
   ],
   "source": [
    "preds = (_oof_preds_svc + _oof_preds_gb + _oof_preds_knn + _oof_preds_lr + _oof_preds_gam) / 5\n",
    "\n",
    "roc_auc_score(train['target'], preds)"
   ]
  },
  {
   "cell_type": "code",
   "execution_count": 47,
   "id": "8e4bba6c",
   "metadata": {
    "execution": {
     "iopub.execute_input": "2023-04-17T22:42:52.164713Z",
     "iopub.status.busy": "2023-04-17T22:42:52.163812Z",
     "iopub.status.idle": "2023-04-17T22:42:52.174437Z",
     "shell.execute_reply": "2023-04-17T22:42:52.172989Z"
    },
    "papermill": {
     "duration": 0.038016,
     "end_time": "2023-04-17T22:42:52.176963",
     "exception": false,
     "start_time": "2023-04-17T22:42:52.138947",
     "status": "completed"
    },
    "tags": []
   },
   "outputs": [
    {
     "data": {
      "text/plain": [
       "0.8167769376181475"
      ]
     },
     "execution_count": 47,
     "metadata": {},
     "output_type": "execute_result"
    }
   ],
   "source": [
    "preds = (_oof_preds_svc + _oof_preds_gam) / 2\n",
    "\n",
    "roc_auc_score(train['target'], preds)"
   ]
  },
  {
   "cell_type": "code",
   "execution_count": 48,
   "id": "ad410b80",
   "metadata": {
    "execution": {
     "iopub.execute_input": "2023-04-17T22:42:52.228152Z",
     "iopub.status.busy": "2023-04-17T22:42:52.227352Z",
     "iopub.status.idle": "2023-04-17T22:42:52.237124Z",
     "shell.execute_reply": "2023-04-17T22:42:52.235934Z"
    },
    "papermill": {
     "duration": 0.039502,
     "end_time": "2023-04-17T22:42:52.240014",
     "exception": false,
     "start_time": "2023-04-17T22:42:52.200512",
     "status": "completed"
    },
    "tags": []
   },
   "outputs": [],
   "source": [
    "X = pd.DataFrame()\n",
    "X['svc'] = _oof_preds_svc\n",
    "X['lr'] = _oof_preds_lr\n",
    "X['knn'] = _oof_preds_knn\n",
    "X['gb'] = _oof_preds_gb\n",
    "X['gam'] = _oof_preds_gam"
   ]
  },
  {
   "cell_type": "code",
   "execution_count": 49,
   "id": "e911e1b4",
   "metadata": {
    "execution": {
     "iopub.execute_input": "2023-04-17T22:42:52.288580Z",
     "iopub.status.busy": "2023-04-17T22:42:52.288187Z",
     "iopub.status.idle": "2023-04-17T22:42:52.309763Z",
     "shell.execute_reply": "2023-04-17T22:42:52.308425Z"
    },
    "papermill": {
     "duration": 0.049078,
     "end_time": "2023-04-17T22:42:52.312234",
     "exception": false,
     "start_time": "2023-04-17T22:42:52.263156",
     "status": "completed"
    },
    "tags": []
   },
   "outputs": [
    {
     "data": {
      "text/plain": [
       "LogisticRegression()"
      ]
     },
     "execution_count": 49,
     "metadata": {},
     "output_type": "execute_result"
    }
   ],
   "source": [
    "blend = LogisticRegression()\n",
    "blend.fit(X, train['target'])"
   ]
  },
  {
   "cell_type": "code",
   "execution_count": 50,
   "id": "3f8d8fe4",
   "metadata": {
    "execution": {
     "iopub.execute_input": "2023-04-17T22:42:52.361750Z",
     "iopub.status.busy": "2023-04-17T22:42:52.360945Z",
     "iopub.status.idle": "2023-04-17T22:42:52.366681Z",
     "shell.execute_reply": "2023-04-17T22:42:52.365340Z"
    },
    "papermill": {
     "duration": 0.033204,
     "end_time": "2023-04-17T22:42:52.369163",
     "exception": false,
     "start_time": "2023-04-17T22:42:52.335959",
     "status": "completed"
    },
    "tags": []
   },
   "outputs": [],
   "source": [
    "coef = blend.coef_[0]"
   ]
  },
  {
   "cell_type": "code",
   "execution_count": 51,
   "id": "7ca8eeff",
   "metadata": {
    "execution": {
     "iopub.execute_input": "2023-04-17T22:42:52.417945Z",
     "iopub.status.busy": "2023-04-17T22:42:52.417499Z",
     "iopub.status.idle": "2023-04-17T22:42:52.426529Z",
     "shell.execute_reply": "2023-04-17T22:42:52.425298Z"
    },
    "papermill": {
     "duration": 0.036508,
     "end_time": "2023-04-17T22:42:52.429200",
     "exception": false,
     "start_time": "2023-04-17T22:42:52.392692",
     "status": "completed"
    },
    "tags": []
   },
   "outputs": [],
   "source": [
    "preds = (X['svc'] * coef[0] + X['lr'] * coef[1] + X['knn'] * coef[2] + X['gb'] * coef[3] + X['gam'] * coef[4]) / coef.sum()"
   ]
  },
  {
   "cell_type": "code",
   "execution_count": 52,
   "id": "717dd681",
   "metadata": {
    "execution": {
     "iopub.execute_input": "2023-04-17T22:42:52.480309Z",
     "iopub.status.busy": "2023-04-17T22:42:52.479605Z",
     "iopub.status.idle": "2023-04-17T22:42:52.490332Z",
     "shell.execute_reply": "2023-04-17T22:42:52.489206Z"
    },
    "papermill": {
     "duration": 0.039246,
     "end_time": "2023-04-17T22:42:52.492960",
     "exception": false,
     "start_time": "2023-04-17T22:42:52.453714",
     "status": "completed"
    },
    "tags": []
   },
   "outputs": [
    {
     "data": {
      "text/plain": [
       "0.8194470699432892"
      ]
     },
     "execution_count": 52,
     "metadata": {},
     "output_type": "execute_result"
    }
   ],
   "source": [
    "roc_auc_score(train['target'], preds)"
   ]
  },
  {
   "cell_type": "code",
   "execution_count": 53,
   "id": "aae8cc7f",
   "metadata": {
    "execution": {
     "iopub.execute_input": "2023-04-17T22:42:52.542673Z",
     "iopub.status.busy": "2023-04-17T22:42:52.542270Z",
     "iopub.status.idle": "2023-04-17T22:42:52.550200Z",
     "shell.execute_reply": "2023-04-17T22:42:52.548683Z"
    },
    "papermill": {
     "duration": 0.036224,
     "end_time": "2023-04-17T22:42:52.552694",
     "exception": false,
     "start_time": "2023-04-17T22:42:52.516470",
     "status": "completed"
    },
    "tags": []
   },
   "outputs": [],
   "source": [
    "def submission_csv(_model, _train, _y, _test, features, gam=False):\n",
    "    X_train = _train[features]\n",
    "    y_train = _y\n",
    "    X_test = _test.drop('id', axis=1)[features]\n",
    "    _model.fit(X_train, y_train)\n",
    "    if gam:\n",
    "        preds = _model.predict_proba(X_test)\n",
    "    else:\n",
    "        preds = _model.predict_proba(X_test)[:, 1]\n",
    "\n",
    "    df = pd.DataFrame()\n",
    "    df['id'] = _test['id']\n",
    "    df['target'] = preds\n",
    "\n",
    "    return df\n"
   ]
  },
  {
   "cell_type": "code",
   "execution_count": 54,
   "id": "9a45759d",
   "metadata": {
    "execution": {
     "iopub.execute_input": "2023-04-17T22:42:52.603109Z",
     "iopub.status.busy": "2023-04-17T22:42:52.602695Z",
     "iopub.status.idle": "2023-04-17T22:42:52.613194Z",
     "shell.execute_reply": "2023-04-17T22:42:52.612189Z"
    },
    "papermill": {
     "duration": 0.038398,
     "end_time": "2023-04-17T22:42:52.615314",
     "exception": false,
     "start_time": "2023-04-17T22:42:52.576916",
     "status": "completed"
    },
    "tags": []
   },
   "outputs": [],
   "source": [
    "test['ph**3'] = (test['ph']) ** 3\n",
    "test['ph/calc'] = (test['ph'])/test['calc']\n",
    "\n",
    "test['calc**3'] = X_temp['calc'] ** 3\n",
    "test['gravity/calc'] = test['gravity'] / test['calc'] "
   ]
  },
  {
   "cell_type": "code",
   "execution_count": 55,
   "id": "1b507109",
   "metadata": {
    "execution": {
     "iopub.execute_input": "2023-04-17T22:42:52.667327Z",
     "iopub.status.busy": "2023-04-17T22:42:52.666903Z",
     "iopub.status.idle": "2023-04-17T22:42:53.059323Z",
     "shell.execute_reply": "2023-04-17T22:42:53.053941Z"
    },
    "papermill": {
     "duration": 0.424958,
     "end_time": "2023-04-17T22:42:53.066257",
     "exception": false,
     "start_time": "2023-04-17T22:42:52.641299",
     "status": "completed"
    },
    "tags": []
   },
   "outputs": [],
   "source": [
    "X_temp = train_temp[best_svc_feats]\n",
    "y_temp = train_temp['target']\n",
    "\n",
    "X_temp['ph**3'] = (X_temp['ph']) ** 3\n",
    "X_temp['ph/calc'] = (X_temp['ph'])/X_temp['calc']\n",
    "\n",
    "\n",
    "features_temp = X_temp.columns.tolist()\n",
    "\n",
    "pipe_svc = Pipeline(steps=[\n",
    "    (\"scale\", StandardScaler()),\n",
    "    (\"model\", SVC(probability=True, random_state=0))\n",
    "])\n",
    "\n",
    "\n",
    "svc_df = submission_csv(pipe_svc, X_temp, y_temp, test, features_temp)\n",
    "\n",
    "X_temp = train_temp[best_lr_features]\n",
    "y_temp = train_temp['target']\n",
    "\n",
    "X_temp['calc**3'] = X_temp['calc'] ** 3\n",
    "X_temp['gravity/calc'] = X_temp['gravity'] / X_temp['calc'] \n",
    "\n",
    "features_temp = X_temp.columns.tolist()\n",
    "\n",
    "pipe_lr = Pipeline(steps=[\n",
    "    (\"scale\", StandardScaler()),\n",
    "    (\"model\", LogisticRegression(random_state=0))\n",
    "])\n",
    "\n",
    "\n",
    "lr_df = submission_csv(pipe_svc, X_temp, y_temp, test, features_temp)\n",
    "\n",
    "X_temp = train_temp[best_knn_features]\n",
    "y_temp = train_temp['target']\n",
    "features_temp = X_temp.columns.tolist()\n",
    "\n",
    "\n",
    "pipe_knn = Pipeline(steps=[\n",
    "    (\"scale\", StandardScaler()),\n",
    "    (\"model\", KNeighborsClassifier())\n",
    "])\n",
    "\n",
    "\n",
    "knn_df = submission_csv(pipe_knn, X_temp, y_temp, test, features_temp)\n",
    "\n",
    "X_temp = train_temp[best_gb_features]\n",
    "y_temp = train_temp['target']\n",
    "features_temp = X_temp.columns.tolist()\n",
    "\n",
    "\n",
    "pipe_gb = Pipeline(steps=[\n",
    "    (\"scale\", StandardScaler()),\n",
    "    (\"model\", GradientBoostingClassifier(random_state=0, n_estimators=100, learning_rate=0.1, max_depth=2,\n",
    "                                         min_weight_fraction_leaf=0.15))])\n",
    "\n",
    "\n",
    "gb_df = submission_csv(pipe_gb, X_temp, y_temp, test, features_temp)\n",
    "\n",
    "X_temp = train_temp[best_gam_features]\n",
    "\n",
    "features_temp = X_temp.columns.tolist()\n",
    "\n",
    "pipe_gam = Pipeline(steps=[\n",
    "    (\"scale\", StandardScaler()),\n",
    "    (\"model\", LogisticGAM(verbose=False, n_splines=[10, 25], lam=0.6))])\n",
    "\n",
    "\n",
    "gam_df = submission_csv(pipe_gam, X_temp, y_temp, test, features_temp, gam=True)"
   ]
  },
  {
   "cell_type": "code",
   "execution_count": 56,
   "id": "45a89540",
   "metadata": {
    "execution": {
     "iopub.execute_input": "2023-04-17T22:42:53.154986Z",
     "iopub.status.busy": "2023-04-17T22:42:53.154316Z",
     "iopub.status.idle": "2023-04-17T22:42:53.165980Z",
     "shell.execute_reply": "2023-04-17T22:42:53.164504Z"
    },
    "papermill": {
     "duration": 0.041008,
     "end_time": "2023-04-17T22:42:53.168621",
     "exception": false,
     "start_time": "2023-04-17T22:42:53.127613",
     "status": "completed"
    },
    "tags": []
   },
   "outputs": [],
   "source": [
    "preds = (svc_df['target'] * coef[0] + lr_df['target']  * coef[1] \n",
    "         + knn_df['target']  * coef[2] + gb_df['target'] * coef[3] + gam_df['target']  * coef[4]) / coef.sum()"
   ]
  },
  {
   "cell_type": "code",
   "execution_count": 57,
   "id": "3869cdf2",
   "metadata": {
    "execution": {
     "iopub.execute_input": "2023-04-17T22:42:53.229115Z",
     "iopub.status.busy": "2023-04-17T22:42:53.228036Z",
     "iopub.status.idle": "2023-04-17T22:42:53.235097Z",
     "shell.execute_reply": "2023-04-17T22:42:53.233859Z"
    },
    "papermill": {
     "duration": 0.046254,
     "end_time": "2023-04-17T22:42:53.239376",
     "exception": false,
     "start_time": "2023-04-17T22:42:53.193122",
     "status": "completed"
    },
    "tags": []
   },
   "outputs": [],
   "source": [
    "blend_df = svc_df.copy()\n",
    "blend_df['target'] = preds"
   ]
  },
  {
   "cell_type": "code",
   "execution_count": 58,
   "id": "3f521caf",
   "metadata": {
    "execution": {
     "iopub.execute_input": "2023-04-17T22:42:53.289946Z",
     "iopub.status.busy": "2023-04-17T22:42:53.289495Z",
     "iopub.status.idle": "2023-04-17T22:42:53.309469Z",
     "shell.execute_reply": "2023-04-17T22:42:53.308099Z"
    },
    "papermill": {
     "duration": 0.048877,
     "end_time": "2023-04-17T22:42:53.312579",
     "exception": false,
     "start_time": "2023-04-17T22:42:53.263702",
     "status": "completed"
    },
    "tags": []
   },
   "outputs": [],
   "source": [
    "svc_df.to_csv(\"svc_df.csv\", index=False)\n",
    "gam_df.to_csv(\"gam_df.csv\", index=False)\n",
    "blend_df.to_csv(\"blend_df.csv\", index=False)"
   ]
  }
 ],
 "metadata": {
  "kernelspec": {
   "display_name": "Python 3",
   "language": "python",
   "name": "python3"
  },
  "language_info": {
   "codemirror_mode": {
    "name": "ipython",
    "version": 3
   },
   "file_extension": ".py",
   "mimetype": "text/x-python",
   "name": "python",
   "nbconvert_exporter": "python",
   "pygments_lexer": "ipython3",
   "version": "3.7.12"
  },
  "papermill": {
   "default_parameters": {},
   "duration": 121.985523,
   "end_time": "2023-04-17T22:42:56.227318",
   "environment_variables": {},
   "exception": null,
   "input_path": "__notebook__.ipynb",
   "output_path": "__notebook__.ipynb",
   "parameters": {},
   "start_time": "2023-04-17T22:40:54.241795",
   "version": "2.4.0"
  }
 },
 "nbformat": 4,
 "nbformat_minor": 5
}
